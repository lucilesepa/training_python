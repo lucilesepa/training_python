{
  "nbformat": 4,
  "nbformat_minor": 0,
  "metadata": {
    "colab": {
      "name": "for_loop.ipynb",
      "provenance": [],
      "authorship_tag": "ABX9TyPsZj+2g1nCUYp8cMkpR8E/",
      "include_colab_link": true
    },
    "kernelspec": {
      "name": "python3",
      "display_name": "Python 3"
    },
    "language_info": {
      "name": "python"
    }
  },
  "cells": [
    {
      "cell_type": "markdown",
      "metadata": {
        "id": "view-in-github",
        "colab_type": "text"
      },
      "source": [
        "<a href=\"https://colab.research.google.com/github/lucilesepa/training_python/blob/main/for_loop.ipynb\" target=\"_parent\"><img src=\"https://colab.research.google.com/assets/colab-badge.svg\" alt=\"Open In Colab\"/></a>"
      ]
    },
    {
      "cell_type": "code",
      "metadata": {
        "colab": {
          "base_uri": "https://localhost:8080/"
        },
        "id": "9Yh1lYPHgkxy",
        "outputId": "934ed810-2265-4a4b-b78d-03f60862b6ee"
      },
      "source": [
        "import numpy as np\n",
        "ab=np.array([-10,-40,60,-2,78])\n",
        "print(ab)\n",
        "for i in ab:\n",
        "  print('value i is ',i)\n",
        "for k in range(0,len(ab)):\n",
        "  print('value k is ',k)"
      ],
      "execution_count": 30,
      "outputs": [
        {
          "output_type": "stream",
          "text": [
            "[10 40 60  2 78]\n",
            "value i is  10\n",
            "value i is  40\n",
            "value i is  60\n",
            "value i is  2\n",
            "value i is  78\n",
            "value k is  0\n",
            "value k is  1\n",
            "value k is  2\n",
            "value k is  3\n",
            "value k is  4\n"
          ],
          "name": "stdout"
        }
      ]
    },
    {
      "cell_type": "markdown",
      "metadata": {
        "id": "d9jg6-fU-45b"
      },
      "source": [
        "What is the difference?"
      ]
    }
  ]
}