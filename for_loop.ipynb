{
  "nbformat": 4,
  "nbformat_minor": 0,
  "metadata": {
    "colab": {
      "name": "for_loop.ipynb",
      "provenance": [],
      "authorship_tag": "ABX9TyOXI9dlumMVmfgOdhZkDVRD",
      "include_colab_link": true
    },
    "kernelspec": {
      "name": "python3",
      "display_name": "Python 3"
    },
    "language_info": {
      "name": "python"
    }
  },
  "cells": [
    {
      "cell_type": "markdown",
      "metadata": {
        "id": "view-in-github",
        "colab_type": "text"
      },
      "source": [
        "<a href=\"https://colab.research.google.com/github/lucilesepa/training_python/blob/main/for_loop.ipynb\" target=\"_parent\"><img src=\"https://colab.research.google.com/assets/colab-badge.svg\" alt=\"Open In Colab\"/></a>"
      ]
    },
    {
      "cell_type": "code",
      "metadata": {
        "colab": {
          "base_uri": "https://localhost:8080/"
        },
        "id": "9Yh1lYPHgkxy",
        "outputId": "5bb71e71-619f-418d-f74c-5b43433b51f5"
      },
      "source": [
        "import numpy as np\n",
        "ab=np.array([-10,-40,60,-2,78])\n",
        "print(ab)\n",
        "for i in ab:\n",
        "  print('value i is ',i)\n",
        "for k in range(0,len(ab)):\n",
        "  print('value k is ',k)"
      ],
      "execution_count": 32,
      "outputs": [
        {
          "output_type": "stream",
          "text": [
            "[-10 -40  60  -2  78]\n",
            "value i is  -10\n",
            "value i is  -40\n",
            "value i is  60\n",
            "value i is  -2\n",
            "value i is  78\n",
            "value k is  0\n",
            "value k is  1\n",
            "value k is  2\n",
            "value k is  3\n",
            "value k is  4\n"
          ],
          "name": "stdout"
        }
      ]
    },
    {
      "cell_type": "markdown",
      "metadata": {
        "id": "d9jg6-fU-45b"
      },
      "source": [
        "What is the difference?"
      ]
    },
    {
      "cell_type": "code",
      "metadata": {
        "id": "xrGo79NUEtiJ",
        "outputId": "7ca88ad8-fd6c-42dc-ab88-e633cd848b11",
        "colab": {
          "base_uri": "https://localhost:8080/"
        }
      },
      "source": [
        "for i in ab:\n",
        "  if i>0:\n",
        "    print('value i is ',i)\n",
        "\n",
        "# for people to find it by themselves\n",
        "for k in range(0,len(ab)):\n",
        "  if ab[k]>0:\n",
        "    print('value k is ',k)\n"
      ],
      "execution_count": 35,
      "outputs": [
        {
          "output_type": "stream",
          "text": [
            "value i is  60\n",
            "value i is  78\n",
            "value k is  2\n",
            "value k is  4\n"
          ],
          "name": "stdout"
        }
      ]
    }
  ]
}