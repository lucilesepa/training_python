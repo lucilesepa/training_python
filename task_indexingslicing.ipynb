{
  "nbformat": 4,
  "nbformat_minor": 0,
  "metadata": {
    "colab": {
      "name": "task_indexingslicing.ipynb",
      "provenance": [],
      "authorship_tag": "ABX9TyNjMYTT+AqYFJHoO1Riydfm",
      "include_colab_link": true
    },
    "kernelspec": {
      "name": "python3",
      "display_name": "Python 3"
    },
    "language_info": {
      "name": "python"
    }
  },
  "cells": [
    {
      "cell_type": "markdown",
      "metadata": {
        "id": "view-in-github",
        "colab_type": "text"
      },
      "source": [
        "<a href=\"https://colab.research.google.com/github/lucilesepa/training_python/blob/main/task_indexingslicing.ipynb\" target=\"_parent\"><img src=\"https://colab.research.google.com/assets/colab-badge.svg\" alt=\"Open In Colab\"/></a>"
      ]
    },
    {
      "cell_type": "markdown",
      "metadata": {
        "id": "PaKPCV9pACAq"
      },
      "source": [
        "# From a pandas dataframe\n",
        "\n",
        "Calls the values of the column c: ```dfa[c]```or with the name col_header:```dfa['col_header']```\n",
        "\n",
        "Calls the values of the row r:```dfa.loc[r]```\n",
        "\n",
        "Calls the value m of a 1D panda dataframe (called a panda dataserie): ```ds[m]```\n",
        "Calls the first n-1 values of a 1D panda dataserie: ```ds[:n]```\n",
        "\n",
        "Calls the first p-1 values of a 1D panda dataserie: ```ds[p:]```\n",
        "\n",
        "Calls the values q to r-1 of a 1D panda dataserie: ```ds[q:r]```\n",
        "\n",
        "1. copy paste this into colab as code, and convert into a pandas dataframe that you call dfa:\n",
        "```\n",
        "cool_data = [['Perth',-3.434661,56.395336], ['Edinburgh', -3.20277, 55.95415], ['Aberdeen', -2.10272, 57.14548],['Inverness',-4.224721,57.477772]]\n",
        "```\n",
        "2. extract the values of the first column and store them in a variable called a\n",
        "\n",
        "3. extract the first 2 values of the second row into a variable called b\n",
        "\n",
        "4. add the column headers 'Locations', 'E' and 'N' to the 1st, 2nd and 3rd columns, call this new dataframe dfa2\n",
        "\n",
        "5. extract the last value of the locations in dfa2 - you should not need to google it, but you will see in home exercises more elegant ways to do it\n",
        "\n"
      ]
    },
    {
      "cell_type": "code",
      "metadata": {
        "id": "8LujYgY4AEW-"
      },
      "source": [
        "print('1. cool_data as dataframe dfa')\n",
        "cool_data = [['Perth',-3.434661,56.395336], ['Edinburgh', -3.20277, 55.95415], ['Aberdeen', -2.10272, 57.14548],['Inverness',-4.224721,57.477772]]\n",
        "import pandas as pd\n",
        "dfa = pd.DataFrame(cool_data)\n",
        "print(dfa)\n",
        "\n",
        "print('________________________________')\n",
        "print('2. values of 1st column')\n",
        "a=dfa[0]\n",
        "print(a)\n",
        "\n",
        "print('________________________________')\n",
        "print('3. first 2 values of the second row')\n",
        "b=dfa.loc[1][:2]\n",
        "print(b)\n",
        "\n",
        "print('________________________________')\n",
        "print('4. dfa2')\n",
        "dfa2 = pd.DataFrame(cool_data,columns=['Locations','E','N'])\n",
        "print(dfa2)\n",
        "\n",
        "\n",
        "print('________________________________')\n",
        "print('5. last value of the locations in dfa2')\n",
        "print(dfa2['Locations'][len(dfa2['Locations'])-1])"
      ],
      "execution_count": null,
      "outputs": []
    }
  ]
}