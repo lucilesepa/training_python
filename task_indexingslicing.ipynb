{
  "nbformat": 4,
  "nbformat_minor": 0,
  "metadata": {
    "colab": {
      "name": "task_indexingslicing.ipynb",
      "provenance": [],
      "authorship_tag": "ABX9TyMjiJ6k3NVVjLUpKEGWzYzr",
      "include_colab_link": true
    },
    "kernelspec": {
      "name": "python3",
      "display_name": "Python 3"
    },
    "language_info": {
      "name": "python"
    }
  },
  "cells": [
    {
      "cell_type": "markdown",
      "metadata": {
        "id": "view-in-github",
        "colab_type": "text"
      },
      "source": [
        "<a href=\"https://colab.research.google.com/github/lucilesepa/training_python/blob/main/task_indexingslicing.ipynb\" target=\"_parent\"><img src=\"https://colab.research.google.com/assets/colab-badge.svg\" alt=\"Open In Colab\"/></a>"
      ]
    },
    {
      "cell_type": "markdown",
      "metadata": {
        "id": "PaKPCV9pACAq"
      },
      "source": [
        "# Indexing a pandas dataframe\n",
        "\n",
        "To call the values of the column number c: `dfa[c]` \n",
        "\n",
        "To call the values of the column with the header col_header: `dfa['col_header']`\n",
        "\n",
        "To call the values of the row r: `dfa.loc[r]`\n",
        "\n",
        "To call the value m of a 1D panda dataframe (called a panda dataserie): `ds[m]`\n",
        "\n",
        "To call the first n-1 values of a 1D panda dataserie: `ds[:n]`\n",
        "\n",
        "To call the first p-1 values of a 1D panda dataserie: `ds[p:]`\n",
        "\n",
        "To call the values q to r-1 of a 1D panda dataserie: `ds[q:r]`\n",
        "\n",
        "> Tasks\n",
        ">\n",
        "> 1. Copy paste this into colab as code, and convert into a pandas dataframe that you call dfa:\n",
        "```\n",
        "cool_data = [['Perth',-3.434661,56.395336], ['Edinburgh', -3.20277, 55.95415], ['Aberdeen', -2.10272, 57.14548],['Inverness',-4.224721,57.477772]]\n",
        "```\n",
        "> 2. Extract the values of the first column and store them in a variable called a\n",
        "> 3. Extract the first 2 values of the second row into a variable called b\n",
        "> 4. Add the column headers 'Locations', 'E' and 'N' to the 1st, 2nd and 3rd columns, call this new dataframe dfa2\n",
        "> 5. Extract the last value of the locations in dfa2 - you should not need to google it, but you will see in home exercises more elegant ways to do it\n",
        ">\n",
        "> 6. Extract the last value of the locations in dfa2\n",
        ">\n",
        "> 7. Extract the last 3 values of the Easting in dfa2\n"
      ]
    },
    {
      "cell_type": "markdown",
      "metadata": {
        "id": "AXUqi0_nD-ei"
      },
      "source": [
        "# Indexing a numpy array\n",
        "\n",
        "To call the values located in row r+1: ```array[r,:]```\n",
        "\n",
        "To call the values located in row r+1, and between the mx+1 and my columns:```array[r,mx:my]```\n",
        "\n",
        "To call the first n rows: ```array[:n,:]```\n",
        "\n",
        "To call the last n columns: ```array[:,-n:]```\n",
        "\n",
        "> Tasks\n",
        ">\n",
        "> 8. Convert cool_data as a numpy array ar\n",
        ">\n",
        "> 9. Extract the values of 2nd column from ar\n",
        ">\n",
        "> 10. Extract the 2nd to 4th values of the first row from ar\n",
        ">\n",
        "> 11. Extract the first 3 values of the last two columns from ar\n",
        "\n"
      ]
    }
  ]
}