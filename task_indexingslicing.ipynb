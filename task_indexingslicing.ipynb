{
  "nbformat": 4,
  "nbformat_minor": 0,
  "metadata": {
    "colab": {
      "name": "task_indexingslicing.ipynb",
      "provenance": [],
      "authorship_tag": "ABX9TyPx0khthY6aHOVHz5UnOqcU",
      "include_colab_link": true
    },
    "kernelspec": {
      "name": "python3",
      "display_name": "Python 3"
    },
    "language_info": {
      "name": "python"
    }
  },
  "cells": [
    {
      "cell_type": "markdown",
      "metadata": {
        "id": "view-in-github",
        "colab_type": "text"
      },
      "source": [
        "<a href=\"https://colab.research.google.com/github/lucilesepa/training_python/blob/main/task_indexingslicing.ipynb\" target=\"_parent\"><img src=\"https://colab.research.google.com/assets/colab-badge.svg\" alt=\"Open In Colab\"/></a>"
      ]
    },
    {
      "cell_type": "markdown",
      "metadata": {
        "id": "PaKPCV9pACAq"
      },
      "source": [
        "# From a pandas dataframe\n",
        "\n",
        "Calls the values of the column c: ```dfa[c]```or with the name col_header:```dfa['col_header']```. The result is a 1D panda dataframe, called a panda dataserie\n",
        "\n",
        "Calls the values of the row r:```dfa.loc[r]```. The result is a 1D panda dataframe, called a panda dataserie\n",
        "\n",
        "Calls the value m+1 of a 1D panda dataserie: ```ds[m]```\n",
        "\n",
        "Calls the first n values of a 1D panda dataserie: ```ds[:n]```\n",
        "\n",
        "Calls the q+1 to r values of a 1D panda dataserie: ```ds[q:r]```\n",
        "\n",
        "1. Copy paste this into colab as code, and convert into a pandas dataframe that you call dfa:\n",
        "```\n",
        "cool_data = [['Perth',-3.434661,56.395336], ['Edinburgh', -3.20277, 55.95415], ['Aberdeen', -2.10272, 57.14548],['Inverness',-4.224721,57.477772]]\n",
        "```\n",
        "2. Extract the values of the first column and store them in a variable called a\n",
        "\n",
        "3. Extract the first 2 values of the second row into a variable called b\n",
        "\n",
        "4. Add the column headers 'Locations', 'E' and 'N' to the 1st, 2nd and 3rd columns, call this new dataframe dfa2\n",
        "\n",
        "5. Extract the 2nd to 4th Northing values in dfa2\n",
        "\n",
        "6. Extract the last value of the locations in dfa2 \n",
        "\n",
        "7. Extract the last 3 values of the eastings in dfa2 \n"
      ]
    },
    {
      "cell_type": "markdown",
      "metadata": {
        "id": "AXUqi0_nD-ei"
      },
      "source": [
        "# From a numpy array\n",
        "\n",
        "Calls the values located in row r+1: ```array[r,:]```\n",
        "\n",
        "Calls the values located in row r+1, and between the mx+1 and my columns:```array[r,mx:my]```\n",
        "\n",
        "Calls the first n rows: ```array[:n,:]```\n",
        "\n",
        "Calls the last n columns: ```array[:,-n:]```\n",
        "\n",
        "8. Copy paste this into colab as code, and convert into a numpy array that you call ar:\n",
        "```\n",
        "cool_data = [['Perth',-3.434661,56.395336], ['Edinburgh', -3.20277, 55.95415], ['Aberdeen', -2.10272, 57.14548],['Inverness',-4.224721,57.477772]]\n",
        "```\n",
        "9. Extract the values of the 2nd column and store them in a variable called a\n",
        "\n",
        "10. Extract the 2rd to 4th values of the first row and store them in a variable called b\n",
        "\n",
        "11. Extract the first 3 values of the last 2 columns into a variable called c\n",
        "\n",
        "\n"
      ]
    }
  ]
}