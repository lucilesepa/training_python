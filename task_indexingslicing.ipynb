{
  "nbformat": 4,
  "nbformat_minor": 0,
  "metadata": {
    "colab": {
      "name": "task_indexingslicing.ipynb",
      "provenance": [],
      "authorship_tag": "ABX9TyOXoY+6S6+mlZHBO8DyQ5PX",
      "include_colab_link": true
    },
    "kernelspec": {
      "name": "python3",
      "display_name": "Python 3"
    },
    "language_info": {
      "name": "python"
    }
  },
  "cells": [
    {
      "cell_type": "markdown",
      "metadata": {
        "id": "view-in-github",
        "colab_type": "text"
      },
      "source": [
        "<a href=\"https://colab.research.google.com/github/lucilesepa/training_python/blob/main/task_indexingslicing.ipynb\" target=\"_parent\"><img src=\"https://colab.research.google.com/assets/colab-badge.svg\" alt=\"Open In Colab\"/></a>"
      ]
    },
    {
      "cell_type": "markdown",
      "metadata": {
        "id": "PaKPCV9pACAq"
      },
      "source": [
        "# From a pandas dataframe\n",
        "\n",
        "Calls the values of the column c: ```dfa[c]```or with the name col_header:```dfa['col_header']```. The result is a 1D panda dataframe, called a panda dataserie\n",
        "\n",
        "Calls the values of the row r:```dfa.loc[r]```. The result is a 1D panda dataframe, called a panda dataserie\n",
        "\n",
        "Calls the value m+1 of a 1D panda dataserie: ```ds[m]```\n",
        "\n",
        "Calls the first n values of a 1D panda dataserie: ```ds[:n]```\n",
        "\n",
        "Calls the q+1 to r values of a 1D panda dataserie: ```ds[q:r]```\n",
        "\n",
        "1. Copy paste this into colab as code, and convert into a pandas dataframe that you call dfa:\n",
        "```\n",
        "cool_data = [['Perth',-3.434661,56.395336], ['Edinburgh', -3.20277, 55.95415], ['Aberdeen', -2.10272, 57.14548],['Inverness',-4.224721,57.477772]]\n",
        "```\n",
        "2. Extract the values of the first column and store them in a variable called a\n",
        "\n",
        "3. Extract the first 2 values of the second row into a variable called b\n",
        "\n",
        "4. Add the column headers 'Locations', 'E' and 'N' to the 1st, 2nd and 3rd columns, call this new dataframe dfa2\n",
        "\n",
        "5. Extract the 2nd to 4th Northing values\n",
        "\n",
        "6. *Not too easy*: extract the last value of the locations in dfa2 - you should not need to google it, but you will see in home exercises more elegant ways to do it\n",
        "\n",
        "7. *Not too easy*: extract the last 2 values of the eastings in dfa2 - you should not need to google it, but you will see in home exercises more elegant ways to do it\n"
      ]
    },
    {
      "cell_type": "code",
      "metadata": {
        "colab": {
          "base_uri": "https://localhost:8080/"
        },
        "id": "8LujYgY4AEW-",
        "outputId": "adeeb717-1e7f-46da-fafd-fd3abb175f6f"
      },
      "source": [
        "print('1. cool_data as dataframe dfa')\n",
        "cool_data = [['Perth',-3.434661,56.395336], ['Edinburgh', -3.20277, 55.95415], ['Aberdeen', -2.10272, 57.14548],['Inverness',-4.224721,57.477772]]\n",
        "import pandas as pd\n",
        "dfa = pd.DataFrame(cool_data)\n",
        "print(dfa)\n",
        "\n",
        "print('________________________________')\n",
        "print('2. values of 1st column')\n",
        "a=dfa[0]\n",
        "print(a)\n",
        "\n",
        "print('________________________________')\n",
        "print('3. first 2 values of the second row')\n",
        "b=dfa.loc[1][:2]\n",
        "print(b)\n",
        "\n",
        "print('________________________________')\n",
        "print('4. dfa2')\n",
        "dfa2 = pd.DataFrame(cool_data,columns=['Locations','E','N'])\n",
        "print(dfa2)\n",
        "\n",
        "print('________________________________')\n",
        "print('5.2nd to 4th Northing values')\n",
        "print(dfa2['N'][1:4])\n",
        "\n",
        "print('________________________________')\n",
        "print('6. last value of the locations in dfa2')\n",
        "print(dfa2['Locations'][len(dfa2['Locations'])-1])\n",
        "\n",
        "print('________________________________')\n",
        "print('7. last 3 values of the Easting')\n",
        "print(dfa2['E'][len(dfa2['E'])-3:])"
      ],
      "execution_count": 4,
      "outputs": [
        {
          "output_type": "stream",
          "name": "stdout",
          "text": [
            "1. cool_data as dataframe dfa\n",
            "           0         1          2\n",
            "0      Perth -3.434661  56.395336\n",
            "1  Edinburgh -3.202770  55.954150\n",
            "2   Aberdeen -2.102720  57.145480\n",
            "3  Inverness -4.224721  57.477772\n",
            "________________________________\n",
            "2. values of 1st column\n",
            "0        Perth\n",
            "1    Edinburgh\n",
            "2     Aberdeen\n",
            "3    Inverness\n",
            "Name: 0, dtype: object\n",
            "________________________________\n",
            "3. first 2 values of the second row\n",
            "0    Edinburgh\n",
            "1     -3.20277\n",
            "Name: 1, dtype: object\n",
            "________________________________\n",
            "4. dfa2\n",
            "   Locations         E          N\n",
            "0      Perth -3.434661  56.395336\n",
            "1  Edinburgh -3.202770  55.954150\n",
            "2   Aberdeen -2.102720  57.145480\n",
            "3  Inverness -4.224721  57.477772\n",
            "________________________________\n",
            "5.2nd to 4th Northing values\n",
            "1    55.954150\n",
            "2    57.145480\n",
            "3    57.477772\n",
            "Name: N, dtype: float64\n",
            "________________________________\n",
            "6. last value of the locations in dfa2\n",
            "Inverness\n",
            "________________________________\n",
            "7. last 3 values of the Locations\n",
            "1   -3.202770\n",
            "2   -2.102720\n",
            "3   -4.224721\n",
            "Name: E, dtype: float64\n"
          ]
        }
      ]
    },
    {
      "cell_type": "markdown",
      "metadata": {
        "id": "AXUqi0_nD-ei"
      },
      "source": [
        "# From a numpy array\n",
        "\n",
        "Calls the value located in row r+1, column c+1: ```array[r,c]```\n",
        "\n",
        "Calls the values located in row r+1, and between the mx+1 and my+1 :```array[r,mx:my]```\n",
        "\n",
        "Calls the first n+1 rows in all the columns: ```array[:n,:]```\n",
        "\n",
        "Calls the first p-1 values of a 1D panda dataserie: ```ds[p:]```\n",
        "\n",
        "1. copy paste this into colab as code, and convert into a pandas dataframe that you call dfa:\n",
        "```\n",
        "cool_data = [['Perth',-3.434661,56.395336], ['Edinburgh', -3.20277, 55.95415], ['Aberdeen', -2.10272, 57.14548],['Inverness',-4.224721,57.477772]]\n",
        "```\n",
        "2. extract the values of the first column and store them in a variable called a\n",
        "\n",
        "3. extract the first 2 values of the second row into a variable called b\n",
        "\n",
        "4. add the column headers 'Locations', 'E' and 'N' to the 1st, 2nd and 3rd columns, call this new dataframe dfa2\n",
        "\n",
        "5. extract the last value of the locations in dfa2 - you should not need to google it, but you will see in home exercises more elegant ways to do it\n",
        "\n"
      ]
    }
  ]
}