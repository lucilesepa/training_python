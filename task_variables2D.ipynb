{
  "nbformat": 4,
  "nbformat_minor": 0,
  "metadata": {
    "colab": {
      "name": "task_variables2D.ipynb",
      "provenance": [],
      "authorship_tag": "ABX9TyPXSOFEjSK1eB//qKbWna7t",
      "include_colab_link": true
    },
    "kernelspec": {
      "name": "python3",
      "display_name": "Python 3"
    },
    "language_info": {
      "name": "python"
    }
  },
  "cells": [
    {
      "cell_type": "markdown",
      "metadata": {
        "id": "view-in-github",
        "colab_type": "text"
      },
      "source": [
        "<a href=\"https://colab.research.google.com/github/lucilesepa/training_python/blob/main/task_variables2D.ipynb\" target=\"_parent\"><img src=\"https://colab.research.google.com/assets/colab-badge.svg\" alt=\"Open In Colab\"/></a>"
      ]
    },
    {
      "cell_type": "markdown",
      "metadata": {
        "id": "tovxnh9AKqR-"
      },
      "source": [
        "Let's work directly with an example: \n",
        "\n",
        "1. copy paste this into colab, as code, and run it:\n",
        "```\n",
        "cool_data = [['Perth',-3.434661,56.395336], ['Edinburgh', -3.20277, 55.95415], ['Aberdeen', -2.10272, 57.14548],['Inverness',-4.224721,57.477772]]\n",
        "```\n",
        "2. What is the type and length of the variable ```cool_data```?\n",
        "3. Convert it into a panda dataframe that you will name ```dfa```\n",
        "4. Use the command ```dfa.shape```. What does it do?\n",
        "5. Repeat 3. and 4., but this time make it a numpy array.\n"
      ]
    },
    {
      "cell_type": "code",
      "metadata": {
        "id": "Pkt5q7qAXZXQ",
        "outputId": "c0c90770-2ef9-4508-b5f5-6d32b76afce0",
        "colab": {
          "base_uri": "https://localhost:8080/"
        }
      },
      "source": [
        "cool_data = [['Perth',-3.434661,56.395336], ['Edinburgh', -3.20277, 55.95415]]\n",
        "import pandas as pd\n",
        "p = pd.DataFrame([[-3.434661,56.395336], [-3.20277, 55.95415]])\n",
        "print(p)\n",
        "p1=pd.DataFrame([[-3.434661,56.395336], [-3.20277, 55.95415]])\n",
        "print(p-p1)"
      ],
      "execution_count": 16,
      "outputs": [
        {
          "output_type": "stream",
          "text": [
            "          0          1\n",
            "0 -3.434661  56.395336\n",
            "1 -3.202770  55.954150\n",
            "     0    1\n",
            "0  0.0  0.0\n",
            "1  0.0  0.0\n"
          ],
          "name": "stdout"
        }
      ]
    }
  ]
}