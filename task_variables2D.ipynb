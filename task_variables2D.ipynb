{
  "nbformat": 4,
  "nbformat_minor": 0,
  "metadata": {
    "colab": {
      "name": "task_variables2D.ipynb",
      "provenance": [],
      "authorship_tag": "ABX9TyM+5arSg4YwBWTkTw105ufy",
      "include_colab_link": true
    },
    "kernelspec": {
      "name": "python3",
      "display_name": "Python 3"
    },
    "language_info": {
      "name": "python"
    }
  },
  "cells": [
    {
      "cell_type": "markdown",
      "metadata": {
        "id": "view-in-github",
        "colab_type": "text"
      },
      "source": [
        "<a href=\"https://colab.research.google.com/github/lucilesepa/training_python/blob/main/task_variables2D.ipynb\" target=\"_parent\"><img src=\"https://colab.research.google.com/assets/colab-badge.svg\" alt=\"Open In Colab\"/></a>"
      ]
    },
    {
      "cell_type": "markdown",
      "metadata": {
        "id": "tovxnh9AKqR-"
      },
      "source": [
        ">  Task\n",
        ">\n",
        "> Let's work directly with an example: \n",
        ">\n",
        "> 1. copy paste this into colab, as code, and run it:\n",
        "```\n",
        "cool_data = [['Perth',-3.434661,56.395336], ['Edinburgh', -3.20277, 55.95415], ['Aberdeen', -2.10272, 57.14548],['Inverness',-4.224721,57.477772]]\n",
        "```\n",
        "> 2. What is the type and length of the variable ```cool_data```?\n",
        "> 3. Convert it into a panda dataframe that you will name ```dfa```\n",
        "> 4. Use the command ```dfa.shape```. What does it do?\n",
        "> 5. Try to find out how to add column headers. Add the headers E and N (easting and northing) to the 2nd and 3rd columns. The output should look like that:\n",
        "```\n",
        "                     E          N\n",
        "0      Perth -3.434661  56.395336\n",
        "1  Edinburgh -3.202770  55.954150\n",
        "2   Aberdeen -2.102720  57.145480\n",
        "3  Inverness -4.224721  57.477772\n",
        "```\n",
        "> 6. Repeat 3. and 4., but this time make it a numpy array.\n"
      ]
    }
  ]
}