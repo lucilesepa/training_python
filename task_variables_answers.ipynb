{
  "nbformat": 4,
  "nbformat_minor": 0,
  "metadata": {
    "colab": {
      "name": "task_variables_answers.ipynb",
      "provenance": [],
      "authorship_tag": "ABX9TyPHlGCcSeEVHiPUgLsr8zeP",
      "include_colab_link": true
    },
    "kernelspec": {
      "name": "python3",
      "display_name": "Python 3"
    },
    "language_info": {
      "name": "python"
    }
  },
  "cells": [
    {
      "cell_type": "markdown",
      "metadata": {
        "id": "view-in-github",
        "colab_type": "text"
      },
      "source": [
        "<a href=\"https://colab.research.google.com/github/lucilesepa/training_python/blob/main/task_variables_answers.ipynb\" target=\"_parent\"><img src=\"https://colab.research.google.com/assets/colab-badge.svg\" alt=\"Open In Colab\"/></a>"
      ]
    },
    {
      "cell_type": "markdown",
      "metadata": {
        "id": "kD-6toOZgKp3"
      },
      "source": [
        "1.   Create a variable ```a``` that is equal to 2"
      ]
    },
    {
      "cell_type": "code",
      "metadata": {
        "id": "Yk31C2sspchG"
      },
      "source": [
        "a=2"
      ],
      "execution_count": 1,
      "outputs": []
    },
    {
      "cell_type": "markdown",
      "metadata": {
        "id": "ajO9QKhxgQ6X"
      },
      "source": [
        "2.   Create a variable ```b``` that is equal to 3.1 (try operations!)\n"
      ]
    },
    {
      "cell_type": "code",
      "metadata": {
        "id": "_iiYfHyHghrV"
      },
      "source": [
        "b=a+1.2"
      ],
      "execution_count": 2,
      "outputs": []
    },
    {
      "cell_type": "markdown",
      "metadata": {
        "id": "-35f_gUKgS19"
      },
      "source": [
        "3.   Create a variable ```c``` that is the town where your office is (or invent it)"
      ]
    },
    {
      "cell_type": "code",
      "metadata": {
        "id": "eE40swGBgtNL"
      },
      "source": [
        "c='Timbuktu'"
      ],
      "execution_count": 3,
      "outputs": []
    },
    {
      "cell_type": "markdown",
      "metadata": {
        "id": "ofaAYx_mgxqL"
      },
      "source": [
        "4.   What does ```print(variable_name)``` do? Try out ```print('some text',variable_name)```"
      ]
    },
    {
      "cell_type": "code",
      "metadata": {
        "colab": {
          "base_uri": "https://localhost:8080/"
        },
        "id": "0GIc37hPgyLN",
        "outputId": "88a0eed2-2362-4164-8040-4df0d6a90b3e"
      },
      "source": [
        "print('it displays what s in the brackets in the results when the code is run')\n",
        "print(a,' ',b,' ',c)"
      ],
      "execution_count": 6,
      "outputs": [
        {
          "output_type": "stream",
          "name": "stdout",
          "text": [
            "it displays what s in the brackets in the results when the code is run\n",
            "2   3.2   Timbuktu\n"
          ]
        }
      ]
    },
    {
      "cell_type": "markdown",
      "metadata": {
        "id": "85KZzTILg5xM"
      },
      "source": [
        "5.   What does ```type(variable_name)``` do? Try it for ```a```, ```b```, ```c```"
      ]
    },
    {
      "cell_type": "code",
      "metadata": {
        "colab": {
          "base_uri": "https://localhost:8080/"
        },
        "id": "xiFf5srWg_z3",
        "outputId": "496ae2d0-5683-4363-abdb-e381e4458151"
      },
      "source": [
        "print('it returns the type of the variable')\n",
        "print('type(a)=',type(a))\n",
        "print('type(b)=',type(b))\n",
        "print('type(c)=',type(c))"
      ],
      "execution_count": 7,
      "outputs": [
        {
          "output_type": "stream",
          "name": "stdout",
          "text": [
            "it returns the type of the variable\n",
            "type(a)= <class 'int'>\n",
            "type(b)= <class 'float'>\n",
            "type(c)= <class 'str'>\n"
          ]
        }
      ]
    }
  ]
}