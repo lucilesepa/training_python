{
  "nbformat": 4,
  "nbformat_minor": 0,
  "metadata": {
    "colab": {
      "name": "task_variables_answers.ipynb",
      "provenance": [],
      "authorship_tag": "ABX9TyMdlCQLwQ+6OLmtCQTdXuaU",
      "include_colab_link": true
    },
    "kernelspec": {
      "name": "python3",
      "display_name": "Python 3"
    },
    "language_info": {
      "name": "python"
    }
  },
  "cells": [
    {
      "cell_type": "markdown",
      "metadata": {
        "id": "view-in-github",
        "colab_type": "text"
      },
      "source": [
        "<a href=\"https://colab.research.google.com/github/lucilesepa/training_python/blob/main/task_variables_answers.ipynb\" target=\"_parent\"><img src=\"https://colab.research.google.com/assets/colab-badge.svg\" alt=\"Open In Colab\"/></a>"
      ]
    },
    {
      "cell_type": "code",
      "metadata": {
        "colab": {
          "base_uri": "https://localhost:8080/"
        },
        "id": "Yk31C2sspchG",
        "outputId": "682c22ec-7515-4d77-b038-797a1754c144"
      },
      "source": [
        "print('_______________________')\n",
        "print('1. Create a variable a that is equal to 2')\n",
        "a=2\n",
        "\n",
        "print('_______________________')\n",
        "print('2. Create a variable b that is equal to 3.1 (try operations!)')\n",
        "b=a+1.2\n",
        "\n",
        "print('_______________________')\n",
        "print('3. Create a variable c that is the town where your office is (or invent it)')\n",
        "c='Timbuktu'\n",
        "\n",
        "print('_______________________')\n",
        "print('4. What does print(variable_name) do? Try out print(some text,variable_name)')\n",
        "print('it displays it in the results when the code is run')\n",
        "print(a,' ',b,' ',c)\n",
        "print('this text is cool, and there is the variable a ',a)\n",
        "\n",
        "print('_______________________')\n",
        "print('5. What does type(variable_name) do? Try it for a, b, c')\n",
        "print('it returns the type of the variable')\n",
        "print('type(a)=',type(a))\n",
        "print('type(b)=',type(b))\n",
        "print('type(c)=',type(c))\n"
      ],
      "execution_count": 2,
      "outputs": [
        {
          "output_type": "stream",
          "name": "stdout",
          "text": [
            "_______________________\n",
            "1. Create a variable a that is equal to 2\n",
            "_______________________\n",
            "2. Create a variable b that is equal to 3.1 (try operations!)\n",
            "_______________________\n",
            "3. Create a variable c that is the town where your office is (or invent it)\n",
            "_______________________\n",
            "4. What does print(variable_name) do? Try out print(some text,variable_name)\n",
            "it displays it in the results when the code is run\n",
            "2   3.2   Timbuktu\n",
            "this text is cool, and there is the variable a  2\n",
            "_______________________\n",
            "5. What does type(variable_name) do? Try it for a, b, c\n",
            "it returns the type of the variable\n",
            "type(a)= <class 'int'>\n",
            "type(b)= <class 'float'>\n",
            "type(c)= <class 'str'>\n"
          ]
        }
      ]
    },
    {
      "cell_type": "markdown",
      "metadata": {
        "id": "eKlF9XgErZvc"
      },
      "source": [
        "# Theory point: variable types\n",
        "\n",
        "There are 3 main basic types of variables in Python:\n",
        "- **Int** = integers. Integers numbers\n",
        "- **float**= decimal numbers. \n",
        "\n",
        "  *Note*: an integer can be stored in the computer memory as a float: 1.0 for example\n",
        "- **str**: string. A character or a chain of character. They are between Apostrophes. \n",
        "\n",
        "  *Note*: something that is for us, humans, a number, can be stored in the computer memory as a str. '2' for example will be a str, while 2 will be an integer or a float.\n",
        "\n",
        "There is another type: the **booleans**. You can google it. \n",
        "In practice, you will mostly work with floats and strings."
      ]
    }
  ]
}