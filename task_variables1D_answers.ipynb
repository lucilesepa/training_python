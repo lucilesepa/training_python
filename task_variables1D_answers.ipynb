{
  "nbformat": 4,
  "nbformat_minor": 0,
  "metadata": {
    "colab": {
      "name": "task_variables1D_answers.ipynb",
      "provenance": [],
      "authorship_tag": "ABX9TyNf8Df1RSjcwPrdqamzm8dl",
      "include_colab_link": true
    },
    "kernelspec": {
      "name": "python3",
      "display_name": "Python 3"
    },
    "language_info": {
      "name": "python"
    }
  },
  "cells": [
    {
      "cell_type": "markdown",
      "metadata": {
        "id": "view-in-github",
        "colab_type": "text"
      },
      "source": [
        "<a href=\"https://colab.research.google.com/github/lucilesepa/training_python/blob/main/task_variables1D_answers.ipynb\" target=\"_parent\"><img src=\"https://colab.research.google.com/assets/colab-badge.svg\" alt=\"Open In Colab\"/></a>"
      ]
    },
    {
      "cell_type": "markdown",
      "metadata": {
        "id": "6izjO0kGkuPG"
      },
      "source": [
        "1.   Create *a* that contains the values 1, 5, 10, *b* that contains -10, 0, 4, and *c* that contains the strings of characters 'm','n','o'."
      ]
    },
    {
      "cell_type": "code",
      "metadata": {
        "id": "wjaxCHCjuUbP"
      },
      "source": [
        "a = [1,2,10]\n",
        "b = [-10,0,4]\n",
        "c = ['m','n','o']"
      ],
      "execution_count": 1,
      "outputs": []
    },
    {
      "cell_type": "markdown",
      "metadata": {
        "id": "bmf0KWm2kySk"
      },
      "source": [
        "2.   Try out what you know: operations, ```type()```, and ```print```\n"
      ]
    },
    {
      "cell_type": "code",
      "metadata": {
        "colab": {
          "base_uri": "https://localhost:8080/"
        },
        "id": "5VXT-kPRk9VZ",
        "outputId": "3c63f0c9-3351-4558-9dfe-8e361b7a8d5a"
      },
      "source": [
        "d = a+b\n",
        "type(a)\n",
        "type(c)\n",
        "print('a=',a,'and a+b=',d)\n",
        "print('you can see that arithmetic operations are not possible on lists. the operand + simply concatenates')"
      ],
      "execution_count": 2,
      "outputs": [
        {
          "output_type": "stream",
          "name": "stdout",
          "text": [
            "a= [1, 2, 10] and a+b= [1, 2, 10, -10, 0, 4]\n",
            "you can see that arithmetic operations are not possible on lists. the operand + simply concatenates\n"
          ]
        }
      ]
    },
    {
      "cell_type": "markdown",
      "metadata": {
        "id": "PVtt3gGik0f8"
      },
      "source": [
        "3.   Now also try out ```len(variable_name)```. What does it do?"
      ]
    },
    {
      "cell_type": "code",
      "metadata": {
        "colab": {
          "base_uri": "https://localhost:8080/"
        },
        "id": "55Xr9C2dlCai",
        "outputId": "2ba48a70-7fb8-41f2-8908-0eaca15fe990"
      },
      "source": [
        "print('len(a) displays the length (the number of elements) of the variable a, which is ', len(a))"
      ],
      "execution_count": 5,
      "outputs": [
        {
          "output_type": "stream",
          "name": "stdout",
          "text": [
            "len(a) displays the length (the number of elements) of the variable a, which is  3\n"
          ]
        }
      ]
    },
    {
      "cell_type": "markdown",
      "metadata": {
        "id": "m-Y4ih9olSQr"
      },
      "source": [
        "4.   Repeat tasks 1. 2. 3. that you did for the lists (give different variable names)"
      ]
    },
    {
      "cell_type": "code",
      "metadata": {
        "colab": {
          "base_uri": "https://localhost:8080/"
        },
        "id": "8f9vw4UrlNOt",
        "outputId": "af415e2b-ca1b-42d0-9b42-03e5be86fa6e"
      },
      "source": [
        "import numpy as np\n",
        "a_as_array = np.array(a)\n",
        "b_as_array = np.array(b)\n",
        "c_as_array = np.array(c)\n",
        "d_as_array = a_as_array+b_as_array\n",
        "print('type(a_as_array)=',type(a_as_array))\n",
        "print('a_as_array=',a_as_array,'and a_as_array+b_as_array=',d_as_array)"
      ],
      "execution_count": 3,
      "outputs": [
        {
          "output_type": "stream",
          "name": "stdout",
          "text": [
            "type(a_as_array)= <class 'numpy.ndarray'>\n",
            "a_as_array= [ 1  2 10] and a_as_array+b_as_array= [-9  2 14]\n"
          ]
        }
      ]
    },
    {
      "cell_type": "markdown",
      "metadata": {
        "id": "E6MLo8GylXA5"
      },
      "source": [
        "5.   Convert a list you have created to a numpy array"
      ]
    },
    {
      "cell_type": "code",
      "metadata": {
        "colab": {
          "base_uri": "https://localhost:8080/"
        },
        "id": "482gfZTKlYh1",
        "outputId": "b55cb83e-b655-4b70-ad2f-79d2b94b4a67"
      },
      "source": [
        "import pandas as pd\n",
        "a_as_df = pd.DataFrame(a)\n",
        "b_as_df = pd.DataFrame(b)\n",
        "c_as_df = pd.DataFrame(c)\n",
        "d_as_df = a_as_array+b_as_array\n",
        "print('type(a_as_df)=',type(a_as_df))\n",
        "print('a_as_df=')\n",
        "print(a_as_df)\n",
        "print('and a_as_df+b_as_df=')\n",
        "print(d_as_df)"
      ],
      "execution_count": 4,
      "outputs": [
        {
          "output_type": "stream",
          "name": "stdout",
          "text": [
            "type(a_as_df)= <class 'pandas.core.frame.DataFrame'>\n",
            "a_as_df=\n",
            "    0\n",
            "0   1\n",
            "1   2\n",
            "2  10\n",
            "and a_as_df+b_as_df=\n",
            "[-9  2 14]\n"
          ]
        }
      ]
    }
  ]
}