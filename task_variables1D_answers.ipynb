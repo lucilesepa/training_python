{
  "nbformat": 4,
  "nbformat_minor": 0,
  "metadata": {
    "colab": {
      "name": "task_variables1D_answers.ipynb",
      "provenance": [],
      "authorship_tag": "ABX9TyP8SErAhPtMpAHzGjkhwRZm",
      "include_colab_link": true
    },
    "kernelspec": {
      "name": "python3",
      "display_name": "Python 3"
    },
    "language_info": {
      "name": "python"
    }
  },
  "cells": [
    {
      "cell_type": "markdown",
      "metadata": {
        "id": "view-in-github",
        "colab_type": "text"
      },
      "source": [
        "<a href=\"https://colab.research.google.com/github/lucilesepa/training_python/blob/main/task_variables1D_answers.ipynb\" target=\"_parent\"><img src=\"https://colab.research.google.com/assets/colab-badge.svg\" alt=\"Open In Colab\"/></a>"
      ]
    },
    {
      "cell_type": "code",
      "metadata": {
        "colab": {
          "base_uri": "https://localhost:8080/"
        },
        "id": "wjaxCHCjuUbP",
        "outputId": "f66ae530-872b-41d8-9c88-9f15739acd75"
      },
      "source": [
        "print('_______________________')\n",
        "print('1. Create the lists *a* that contains the values 1, 5, 10, *b* that contains -10, 0, 4, and *c* that contains the strings of characters m,n,o.')   \n",
        "a = [1,2,10]\n",
        "b = [-10,0,4]\n",
        "c = ['m','n','o']\n",
        "\n",
        "print('_______________________')\n",
        "print('2. Try out what you know: operations, type() and print()')   \n",
        "d = a+b\n",
        "type(a)\n",
        "type(c)\n",
        "print('a=',a,'and a+b=',d)\n",
        "print('you can see that arithmetic operations are not possible on lists. the operand + simply concatenates')\n",
        "\n",
        "print('_______________________')\n",
        "print('3. Now also try out len(variable_name). What does it do?')   \n",
        "\n",
        "print('len(a) displays the length (the number of elements) of the variable a, which is ', len(a))\n",
        "\n",
        "print('_______________________')\n",
        "print('4.  Create a numpy array, and Repeat tasks 1. 2. 3. (give different variable names!)')   \n",
        "import numpy as np\n",
        "a_as_array = np.array(a)\n",
        "b_as_array = np.array(b)\n",
        "c_as_array = np.array(c)\n",
        "d_as_array = a_as_array+b_as_array\n",
        "print('type(a_as_array)=',type(a_as_array))\n",
        "print('a_as_array=',a_as_array,'and a_as_array+b_as_array=',d_as_array)\n",
        "\n",
        "print('_______________________')\n",
        "print('5. Create a dataframe, and Repeat tasks 1. 2. 3. (give different variable names!)')   \n",
        "import pandas as pd\n",
        "a_as_df = pd.DataFrame(a)\n",
        "b_as_df = pd.DataFrame(b)\n",
        "c_as_df = pd.DataFrame(c)\n",
        "d_as_df = a_as_array+b_as_array\n",
        "print('type(a_as_df)=',type(a_as_df))\n",
        "print('a_as_df=')\n",
        "print(a_as_df)\n",
        "print('and a_as_df+b_as_df=')\n",
        "print(d_as_df)\n"
      ],
      "execution_count": 8,
      "outputs": [
        {
          "output_type": "stream",
          "name": "stdout",
          "text": [
            "_______________________\n",
            "1. Create the lists *a* that contains the values 1, 5, 10, *b* that contains -10, 0, 4, and *c* that contains the strings of characters m,n,o.\n",
            "_______________________\n",
            "2. Try out what you know: operations, type() and print()\n",
            "a= [1, 2, 10] and a+b= [1, 2, 10, -10, 0, 4]\n",
            "you can see that arithmetic operations are not possible on lists. the operand + simply concatenates\n",
            "_______________________\n",
            "3. Now also try out len(variable_name). What does it do?\n",
            "len(a) displays the length (the number of elements) of the variable a, which is  3\n",
            "_______________________\n",
            "4.  Create a numpy array, and Repeat tasks 1. 2. 3. (give different variable names!)\n",
            "type(a_as_array)= <class 'numpy.ndarray'>\n",
            "a_as_array= [ 1  2 10] and a_as_array+b_as_array= [-9  2 14]\n",
            "_______________________\n",
            "5. Create a dataframe, and Repeat tasks 1. 2. 3. (give different variable names!)\n",
            "type(a_as_df)= <class 'pandas.core.frame.DataFrame'>\n",
            "a_as_df=\n",
            "    0\n",
            "0   1\n",
            "1   2\n",
            "2  10\n",
            "and a_as_df+b_as_df=\n",
            "[-9  2 14]\n"
          ]
        }
      ]
    }
  ]
}