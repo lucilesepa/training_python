{
  "nbformat": 4,
  "nbformat_minor": 0,
  "metadata": {
    "colab": {
      "name": "task_variables1D.ipynb",
      "provenance": [],
      "authorship_tag": "ABX9TyP15XksOgvBLGQclSpDGgos",
      "include_colab_link": true
    },
    "kernelspec": {
      "name": "python3",
      "display_name": "Python 3"
    },
    "language_info": {
      "name": "python"
    }
  },
  "cells": [
    {
      "cell_type": "markdown",
      "metadata": {
        "id": "view-in-github",
        "colab_type": "text"
      },
      "source": [
        "<a href=\"https://colab.research.google.com/github/lucilesepa/training_python/blob/main/task_variables1D.ipynb\" target=\"_parent\"><img src=\"https://colab.research.google.com/assets/colab-badge.svg\" alt=\"Open In Colab\"/></a>"
      ]
    },
    {
      "cell_type": "markdown",
      "metadata": {
        "id": "p4iSK6vPwm8u"
      },
      "source": [
        "# Lists\n",
        "\n",
        "```\n",
        "list_name = [value1,value2,...]\n",
        "```\n",
        "\n",
        "\n",
        "1.   Create the lists *a* that contains the values 1, 5, 10, *b* that contains -10, 0, 4, and *c* that contains the strings of characters 'm','n','o'.\n",
        "2.   Try out what you know: operations, ```type()```, and ```print()```\n",
        "3.   Now also try out ```len(variable_name)```. What does it do?\n",
        "\n"
      ]
    },
    {
      "cell_type": "markdown",
      "metadata": {
        "id": "so0cpE9Y4xqr"
      },
      "source": [
        "# Numpy arrays\n",
        "\n",
        "Needs a package to be loaded (only once in the code), this is the ```import``` command. Then we convert a list into a numpy array:\n",
        "```\n",
        "import numpy as np\n",
        "ar_name=np.array(list)\n",
        "```\n",
        "*Note: we can convert other types of variables to a numpy array, but that may include more tricks. Let's leave that for now.*\n",
        "\n",
        "4.   Create a numpy array, and Repeat tasks 1. 2. 3. (give different variable names!)\n",
        "\n"
      ]
    },
    {
      "cell_type": "markdown",
      "metadata": {
        "id": "VXcmhMN8EfFE"
      },
      "source": [
        "# Pandas dataframes\n",
        "\n",
        "Similarly, to make a panda dataframe, we typically convert a list into a panda dataframe:\n",
        "\n",
        "```\n",
        "import pandas as pd \n",
        "dfa = pd.DataFrame(list)\n",
        "```\n",
        "*Note: we can convert other types of variables to a panda dataframe, but that may include more tricks. Let's leave that for now.*\n",
        "\n",
        "There are many ways to create panda dataframes, depending on the dataset you want to store. \n",
        "\n",
        "5. Create a dataframe, and Repeat tasks 1. 2. 3. (give different variable names!)"
      ]
    }
  ]
}