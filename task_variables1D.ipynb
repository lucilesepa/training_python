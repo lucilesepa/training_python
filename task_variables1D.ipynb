{
  "nbformat": 4,
  "nbformat_minor": 0,
  "metadata": {
    "colab": {
      "name": "task_variables1D.ipynb",
      "provenance": [],
      "toc_visible": true,
      "authorship_tag": "ABX9TyPcG61fw/IY8+Ld7z1LZgXP",
      "include_colab_link": true
    },
    "kernelspec": {
      "name": "python3",
      "display_name": "Python 3"
    },
    "language_info": {
      "name": "python"
    }
  },
  "cells": [
    {
      "cell_type": "markdown",
      "metadata": {
        "id": "view-in-github",
        "colab_type": "text"
      },
      "source": [
        "<a href=\"https://colab.research.google.com/github/lucilesepa/training_python/blob/main/task_variables1D.ipynb\" target=\"_parent\"><img src=\"https://colab.research.google.com/assets/colab-badge.svg\" alt=\"Open In Colab\"/></a>"
      ]
    },
    {
      "cell_type": "markdown",
      "metadata": {
        "id": "p4iSK6vPwm8u"
      },
      "source": [
        "# Lists\n",
        "\n",
        "```\n",
        "list_name = [value1,value2,...]\n",
        "```\n",
        "\n",
        "> Tasks\n",
        ">\n",
        "> 1.   Create *a* that contains the values 1, 5, 10, *b* that contains -10, 0, 4, and *c* that contains the strings of characters 'm','n','o'.\n",
        "> 2.   Try out what you know: operations, ```type()```, and ```print```\n",
        "> 3.   Now also try out ```len(variable_name)```. What does it do?\n",
        "\n",
        "\n"
      ]
    },
    {
      "cell_type": "markdown",
      "metadata": {
        "id": "3EXgVfZImSxt"
      },
      "source": [
        "# Numpy arrays\n",
        "\n",
        "Needs a package to be loaded (only once in the code). That's the `import` command\n",
        "```\n",
        "import numpy as np\n",
        "ar_name=np.array([val1,val2,...])\n",
        "```\n",
        "\n",
        "> Tasks\n",
        ">\n",
        "> 4.   Repeat tasks 1. 2. 3. that you did for the lists (give different variable names)\n",
        "> 5.   Convert a list you have created to a numpy array\n",
        "\n"
      ]
    }
  ]
}