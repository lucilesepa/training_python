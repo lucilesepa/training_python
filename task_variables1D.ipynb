{
  "nbformat": 4,
  "nbformat_minor": 0,
  "metadata": {
    "colab": {
      "name": "task_variables1D.ipynb",
      "provenance": [],
      "authorship_tag": "ABX9TyPrE9BOGhvYFc0ui36cmOEd",
      "include_colab_link": true
    },
    "kernelspec": {
      "name": "python3",
      "display_name": "Python 3"
    },
    "language_info": {
      "name": "python"
    }
  },
  "cells": [
    {
      "cell_type": "markdown",
      "metadata": {
        "id": "view-in-github",
        "colab_type": "text"
      },
      "source": [
        "<a href=\"https://colab.research.google.com/github/lucilesepa/training_python/blob/main/task_variables1D.ipynb\" target=\"_parent\"><img src=\"https://colab.research.google.com/assets/colab-badge.svg\" alt=\"Open In Colab\"/></a>"
      ]
    },
    {
      "cell_type": "markdown",
      "metadata": {
        "id": "p4iSK6vPwm8u"
      },
      "source": [
        "# Lists\n",
        "\n",
        "```\n",
        "variable_name = [value1,value2,...]\n",
        "```\n",
        "\n",
        "\n",
        "1.   Create *a* that contains the values 1, 5, 10, *b* that contains -10, 0, 4, and *c* that contains the strings of characters 'm','n','o'.\n",
        "2.   Try out what you know: operations, ```type()```, and ```print```\n",
        "\n",
        "\n",
        "\n",
        "\n",
        "\n"
      ]
    }
  ]
}