{
  "nbformat": 4,
  "nbformat_minor": 0,
  "metadata": {
    "colab": {
      "name": "task_forif.ipynb",
      "provenance": [],
      "authorship_tag": "ABX9TyPGvBmNXXwGXDvlHwk6jCdF",
      "include_colab_link": true
    },
    "kernelspec": {
      "name": "python3",
      "display_name": "Python 3"
    },
    "language_info": {
      "name": "python"
    }
  },
  "cells": [
    {
      "cell_type": "markdown",
      "metadata": {
        "id": "view-in-github",
        "colab_type": "text"
      },
      "source": [
        "<a href=\"https://colab.research.google.com/github/lucilesepa/training_python/blob/main/task_forif.ipynb\" target=\"_parent\"><img src=\"https://colab.research.google.com/assets/colab-badge.svg\" alt=\"Open In Colab\"/></a>"
      ]
    },
    {
      "cell_type": "markdown",
      "metadata": {
        "id": "TNdCRrEzci39"
      },
      "source": [
        "# for loop: method 1\n",
        "\n",
        "General structure: \n",
        "```\n",
        "for i in n:\n",
        "  statement block\n",
        "```\n",
        "- note the ```:``` and the indent before the statement- block\n",
        "\n",
        "Let's work with an example:\n",
        "We go through the values of a numpy 1D array and display them\n",
        "\n"
      ]
    },
    {
      "cell_type": "code",
      "metadata": {
        "colab": {
          "base_uri": "https://localhost:8080/"
        },
        "id": "3rP_yDvQdlRy",
        "outputId": "537c1454-e7fe-4d80-be72-f48c613ded41"
      },
      "source": [
        "import numpy as np\n",
        "ar=np.array([40,70,120,32])\n",
        "\n",
        "for i in ar:\n",
        "  print(i)"
      ],
      "execution_count": null,
      "outputs": [
        {
          "output_type": "stream",
          "name": "stdout",
          "text": [
            "40\n",
            "70\n",
            "120\n",
            "32\n"
          ]
        }
      ]
    },
    {
      "cell_type": "markdown",
      "metadata": {
        "id": "0Zwkh4t4edVr"
      },
      "source": [
        "# for loop: method 2\n",
        "\n",
        "General structure: \n",
        "```\n",
        "for i in range(m):\n",
        "  statement block\n",
        "```\n",
        "Let's work with the same example:\n",
        "We do the same as before: we go through the values of a numpy 1D array and display them\n"
      ]
    },
    {
      "cell_type": "code",
      "metadata": {
        "colab": {
          "base_uri": "https://localhost:8080/"
        },
        "id": "_invDWameqJh",
        "outputId": "46db738a-4497-4bd1-e851-e3fd0da9e732"
      },
      "source": [
        "import numpy as np\n",
        "ar=np.array([40,70,120,32])\n",
        "\n",
        "print('ar[j]=')\n",
        "for j in range(4):\n",
        "  print(ar[j])\n",
        "\n",
        "print('______________________')\n",
        "\n",
        "print('j=')\n",
        "for j in range(len(ar)):\n",
        "  print(j)"
      ],
      "execution_count": null,
      "outputs": [
        {
          "output_type": "stream",
          "name": "stdout",
          "text": [
            "ar[j]=\n",
            "40\n",
            "70\n",
            "120\n",
            "32\n",
            "______________________\n",
            "j=\n",
            "0\n",
            "1\n",
            "2\n",
            "3\n"
          ]
        }
      ]
    },
    {
      "cell_type": "markdown",
      "metadata": {
        "id": "h9GaV-a6gG7k"
      },
      "source": [
        "# Task for loop\n",
        "\n",
        "1. Copy paste this into colab as code\n",
        "```\n",
        "cool_string = 'ILovePython'\n",
        "```\n",
        "2. Display in succession each character. \n",
        "The result should be:\n",
        "\n",
        "```\n",
        "I\n",
        "L\n",
        "o\n",
        "v\n",
        "e\n",
        "P\n",
        "y\n",
        "t\n",
        "h\n",
        "o\n",
        "n\n",
        "```\n",
        "\n",
        "3. Display in succession the 1st character, then the 2nd, etc..., with method 1. The result should be:\n",
        "\n",
        "```\n",
        "I\n",
        "IL\n",
        "ILo\n",
        "ILov\n",
        "ILove\n",
        "ILoveP\n",
        "ILovePy\n",
        "ILovePyt\n",
        "ILovePyth\n",
        "ILovePytho\n",
        "ILovePython\n",
        "```\n",
        "4. Same as 3. but with method 2\n",
        "\n"
      ]
    },
    {
      "cell_type": "markdown",
      "metadata": {
        "id": "RsmpU5djrmIS"
      },
      "source": [
        "# If statement\n",
        "\n",
        "**New Commands**\n",
        "\n",
        "The tests:\n",
        "- a equals to b: ```a==b```\n",
        "- a not equal to b: ```a!=b```\n",
        "- a greater than b: ```a>b```\n",
        "- a greater or equal to b: ```a>=b```\n",
        "\n",
        "The logical operators:\n",
        "- condition1 AND condition2: ```condition1 and condition2```\n",
        "- condition1 OR condition2: ```condition1 or condition2```\n",
        "\n",
        "**Syntax**\n",
        "```\n",
        "if condition1:\n",
        "    statement block1\n",
        "elif condition2:\n",
        "    statement block2\n",
        "else:\n",
        "    statement block3\n",
        "```\n",
        "**Example**\n",
        "\n",
        "\n",
        "\n"
      ]
    },
    {
      "cell_type": "code",
      "metadata": {
        "id": "rjXVJoPSuPWi",
        "colab": {
          "base_uri": "https://localhost:8080/"
        },
        "outputId": "d8e91577-e1bf-4527-8071-2ede20ee2aa4"
      },
      "source": [
        "cool_string = 'youlovepython'\n",
        "for i in range(len(cool_string)):\n",
        "  if cool_string[i]=='a' or cool_string[i]=='e' or cool_string[i]=='i' or cool_string[i]=='o' or cool_string[i]=='u' or cool_string[i]=='y':\n",
        "    print('There is a vowel:',cool_string[i])\n",
        "  else:\n",
        "     print('There is a consonant:',cool_string[i])"
      ],
      "execution_count": null,
      "outputs": [
        {
          "output_type": "stream",
          "name": "stdout",
          "text": [
            "There is a vowel: y\n",
            "There is a vowel: o\n",
            "There is a vowel: u\n",
            "There is a consonant: l\n",
            "There is a vowel: o\n",
            "There is a consonant: v\n",
            "There is a vowel: e\n",
            "There is a consonant: p\n",
            "There is a vowel: y\n",
            "There is a consonant: t\n",
            "There is a consonant: h\n",
            "There is a vowel: o\n",
            "There is a consonant: n\n"
          ]
        }
      ]
    },
    {
      "cell_type": "markdown",
      "metadata": {
        "id": "QZu5BkguvcXX"
      },
      "source": [
        "*tip: you can use this to check for vowels:*"
      ]
    },
    {
      "cell_type": "code",
      "metadata": {
        "id": "uGhW1lj3vhA4",
        "colab": {
          "base_uri": "https://localhost:8080/"
        },
        "outputId": "afef5f7d-2a5c-4628-fbae-ff0100770d19"
      },
      "source": [
        "vowels = ['a','e','i','o','u','y'];\n",
        "for i in range(len(cool_string)):\n",
        "  if cool_string[i] in vowels:\n",
        "    print('There is a vowel:',cool_string[i])\n",
        "  else:\n",
        "     print('There is a consonant:',cool_string[i])"
      ],
      "execution_count": null,
      "outputs": [
        {
          "output_type": "stream",
          "name": "stdout",
          "text": [
            "There is a vowel: y\n",
            "There is a vowel: o\n",
            "There is a vowel: u\n",
            "There is a consonant: l\n",
            "There is a vowel: o\n",
            "There is a consonant: v\n",
            "There is a vowel: e\n",
            "There is a consonant: p\n",
            "There is a vowel: y\n",
            "There is a consonant: t\n",
            "There is a consonant: h\n",
            "There is a vowel: o\n",
            "There is a consonant: n\n"
          ]
        }
      ]
    },
    {
      "cell_type": "markdown",
      "metadata": {
        "id": "1PLeefFKwJH5"
      },
      "source": [
        "# Task if statement\n",
        "\n",
        "5. Copy and paste this into code\n",
        "\n",
        "```\n",
        "a = [-10,1,0,4,-3,4.5,6,1,34,-23,-4,0]\n",
        "```\n",
        "\n",
        "6. Display the text : 'There is a positive value:' and the value, when positive, 'There is a negative value:' and the value, when negative, 'There is a null value:' and the value, when 0\n",
        "\n",
        "7. Display the text: 'There is a non null value:' and the value, when the value is non null, and the text : 'There is a null value', and the value, when null. \n",
        "\n",
        "8. Display the text: 'There is a value you are after: ' and the value when the value is positive and smaller or equal to 4\n",
        "\n",
        "*Note 1 : you can use either method for the for loop.*\n",
        "\n",
        "*Note 2: we will see in the home exercises a more elegant and more efficient way to solve 6, 7, and 8, called vectorization*"
      ]
    }
  ]
}