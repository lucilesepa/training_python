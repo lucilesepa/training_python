{
  "nbformat": 4,
  "nbformat_minor": 0,
  "metadata": {
    "colab": {
      "name": "task_forif.ipynb",
      "provenance": [],
      "authorship_tag": "ABX9TyNArUNjhPcbH1vYhLdEssFk",
      "include_colab_link": true
    },
    "kernelspec": {
      "name": "python3",
      "display_name": "Python 3"
    },
    "language_info": {
      "name": "python"
    }
  },
  "cells": [
    {
      "cell_type": "markdown",
      "metadata": {
        "id": "view-in-github",
        "colab_type": "text"
      },
      "source": [
        "<a href=\"https://colab.research.google.com/github/lucilesepa/training_python/blob/main/task_forif.ipynb\" target=\"_parent\"><img src=\"https://colab.research.google.com/assets/colab-badge.svg\" alt=\"Open In Colab\"/></a>"
      ]
    },
    {
      "cell_type": "markdown",
      "metadata": {
        "id": "TNdCRrEzci39"
      },
      "source": [
        "# For loop\n",
        "\n",
        "## Method 1\n",
        "\n",
        "General structure: \n",
        "```\n",
        "for i in n:\n",
        "  statement block\n",
        "```\n",
        "- note the ```:``` and the indent before the statement- block\n",
        "\n",
        "Let's work with an example:\n",
        "We go through the values of a numpy 1D array and display them\n",
        "\n",
        "\n",
        "## Method 2\n",
        "\n",
        "General structure: \n",
        "```\n",
        "for i in range(m):\n",
        "  statement block\n",
        "```\n",
        "Let's work with the same example:\n",
        "We do the same as before: we go through the values of a numpy 1D array and display them\n",
        "\n",
        "> Tasks\n",
        ">\n",
        "> 1. Copy paste this into colab as code\n",
        "```\n",
        "cool_string = 'I love python'\n",
        "```\n",
        "> 2. Display in succession each character. \n",
        "> The result should be:\n",
        ">\n",
        "```\n",
        "I\n",
        " \n",
        "l\n",
        "o\n",
        "v\n",
        "e\n",
        " \n",
        "p\n",
        "y\n",
        "t\n",
        "h\n",
        "o\n",
        "n\n",
        "```\n",
        "\n",
        "> 3. Display in succession the 1st character, then the 1st and 2nd, etc..., with method 1. The result should be:\n",
        ">\n",
        "```\n",
        "I\n",
        "I \n",
        "I l\n",
        "I lo\n",
        "I lov\n",
        "I love\n",
        "I love \n",
        "I love p\n",
        "I love py\n",
        "I love pyt\n",
        "I love pyth\n",
        "I love pytho\n",
        "I love python\n",
        "```\n",
        "> 4. Same as 3. but with method 2\n",
        "\n",
        "\n"
      ]
    },
    {
      "cell_type": "markdown",
      "metadata": {
        "id": "ALxpwP6N8N9Q"
      },
      "source": [
        "# If statement\n",
        "\n",
        "General structure: \n",
        "```\n",
        "if condition1:\n",
        "  statement block1\n",
        "elif condition2:\n",
        "  statement block2\n",
        "else\n",
        "  statement block3\n",
        "```\n",
        "- note the ```:``` and the indent before the statement-blocks\n",
        "\n",
        "The conditions can be:\n",
        "*   var1 equals to var2: `var1==var2`\n",
        "*   var1 greater than var2: `var1>var2`\n",
        "*   var1 greater than or equals to var2: `var1>=var2`\n",
        "*   var1 different from var2: `var1!=var2`\n",
        "\n",
        "and can also be\n",
        "*   several conditions linked with `and` when they are additive\n",
        "*   several conditions linked with `or` when they are exclusive\n",
        "\n",
        "> Tasks\n",
        ">\n",
        "> 5. Copy past this in code `a = [-10,1,0,4,-3,4.5,6,1,34,-23,-4,0]`\n",
        "> 6. Display the text : \"There is a positive value:\" and the value when positive, \"There is a negative value:\" and the value when negative, \"There is a null value:\" and 0, when 0 \n",
        "> 7. Display the text: \"There is a non null value:\" and the value when the value is non null, and the text : \"There is a null value\" and the value when null. \n",
        "> 8. Display the text: \"There is a value you are after: \" and the value when the value is positive and smaller or equal to 4 \n",
        "\n"
      ]
    }
  ]
}