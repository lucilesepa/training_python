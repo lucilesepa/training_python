{
  "nbformat": 4,
  "nbformat_minor": 0,
  "metadata": {
    "colab": {
      "name": "task_forif.ipynb",
      "provenance": [],
      "authorship_tag": "ABX9TyOJrexD/u+3A3c83nX0j4ZH",
      "include_colab_link": true
    },
    "kernelspec": {
      "name": "python3",
      "display_name": "Python 3"
    },
    "language_info": {
      "name": "python"
    }
  },
  "cells": [
    {
      "cell_type": "markdown",
      "metadata": {
        "id": "view-in-github",
        "colab_type": "text"
      },
      "source": [
        "<a href=\"https://colab.research.google.com/github/lucilesepa/training_python/blob/main/task_forif.ipynb\" target=\"_parent\"><img src=\"https://colab.research.google.com/assets/colab-badge.svg\" alt=\"Open In Colab\"/></a>"
      ]
    },
    {
      "cell_type": "markdown",
      "metadata": {
        "id": "TNdCRrEzci39"
      },
      "source": [
        "# for loop: method 1\n",
        "\n",
        "General structure: \n",
        "```\n",
        "for i in n:\n",
        "  statement block\n",
        "```\n",
        "- note the ```:``` and the indent before the statement- block\n",
        "\n",
        "Let's work with an example:\n",
        "We go through the values of a numpy 1D array and display them\n",
        "\n"
      ]
    },
    {
      "cell_type": "code",
      "metadata": {
        "colab": {
          "base_uri": "https://localhost:8080/"
        },
        "id": "3rP_yDvQdlRy",
        "outputId": "ad6359b2-464f-4c3e-c1ff-5fbf85661a73"
      },
      "source": [
        "import numpy as np\n",
        "ar=np.array([40,70,120,32])\n",
        "\n",
        "for i in ar:\n",
        "  print(i)"
      ],
      "execution_count": 29,
      "outputs": [
        {
          "output_type": "stream",
          "name": "stdout",
          "text": [
            "40\n",
            "70\n",
            "120\n",
            "32\n"
          ]
        }
      ]
    },
    {
      "cell_type": "markdown",
      "metadata": {
        "id": "0Zwkh4t4edVr"
      },
      "source": [
        "# for loop: method 2\n",
        "\n",
        "General structure: \n",
        "```\n",
        "for i in range(m):\n",
        "  statement block\n",
        "```\n",
        "Let's work with the same example:\n",
        "We do the same as before: we go through the values of a numpy 1D array and display them\n"
      ]
    },
    {
      "cell_type": "code",
      "metadata": {
        "colab": {
          "base_uri": "https://localhost:8080/"
        },
        "id": "_invDWameqJh",
        "outputId": "b3344fcc-8b14-4f18-abc4-955e556e838e"
      },
      "source": [
        "import numpy as np\n",
        "ar=np.array([40,70,120,32])\n",
        "\n",
        "print('ar[j]=')\n",
        "for j in range(4):\n",
        "  print(ar[j])\n",
        "\n",
        "print('______________________')\n",
        "\n",
        "print('j=')\n",
        "for j in range(len(ar)):\n",
        "  print(j)"
      ],
      "execution_count": 17,
      "outputs": [
        {
          "output_type": "stream",
          "name": "stdout",
          "text": [
            "ar[j]=\n",
            "40\n",
            "70\n",
            "120\n",
            "32\n",
            "______________________\n",
            "j=\n",
            "0\n",
            "1\n",
            "2\n",
            "3\n"
          ]
        }
      ]
    },
    {
      "cell_type": "markdown",
      "metadata": {
        "id": "h9GaV-a6gG7k"
      },
      "source": [
        "\n",
        "1. Copy paste this into colab as code\n",
        "```\n",
        "cool_string = 'I love python'\n",
        "```\n",
        "2. Display in succession each character. \n",
        "The result should be:\n",
        "\n",
        "```\n",
        "I\n",
        " \n",
        "l\n",
        "o\n",
        "v\n",
        "e\n",
        " \n",
        "p\n",
        "y\n",
        "t\n",
        "h\n",
        "o\n",
        "n\n",
        "\n",
        "```\n",
        "\n",
        "3. Display in succession the 1st character, then the 1st and 2nd, etc..., with method 1. The result should be:\n",
        "\n",
        "```\n",
        "I\n",
        "I \n",
        "I l\n",
        "I lo\n",
        "I lov\n",
        "I love\n",
        "I love \n",
        "I love p\n",
        "I love py\n",
        "I love pyt\n",
        "I love pyth\n",
        "I love pytho\n",
        "I love python\n",
        "```\n",
        "4. Same as 3. but with method 2\n",
        "\n"
      ]
    },
    {
      "cell_type": "code",
      "metadata": {
        "colab": {
          "base_uri": "https://localhost:8080/"
        },
        "id": "MLur-XbFiZHl",
        "outputId": "4d6a1c37-754d-4a30-fa47-504a3bba4ab8"
      },
      "source": [
        "print('2. display in succession each character')\n",
        "cool_string = 'I love python'\n",
        "for i in cool_string:\n",
        "  print(i)\n",
        "\n",
        "print('_______________________')\n",
        "print('3. display in succession the 1st character, then the 1st and 2nd, etc..., method 1 ')\n",
        "x=0\n",
        "for i in cool_string:\n",
        "  x=x+1\n",
        "  print(cool_string[:x])\n",
        "\n",
        "print('_______________________')\n",
        "print('4. display in succession the 1st character, then the 1st and 2nd, etc..., method 2 ')\n",
        "for i in range(len(cool_string)):\n",
        "  print(cool_string[:i+1])\n",
        "\n",
        "# this will be home exercise. needs float() and np.append()\n",
        "\n",
        "print('1. numpy array')\n",
        "cool_data = [['Perth',-3.434661,56.395336], ['Edinburgh', -3.20277, 55.95415], ['Aberdeen', -2.10272, 57.14548],['Inverness',-4.224721,57.477772]]\n",
        "\n",
        "import numpy as np\n",
        "ar=np.array(cool_data)\n",
        "\n",
        "print(ar)\n",
        "\n",
        "print('_______________________')\n",
        "print('2. Remove 1 degree to the Easting coordinates , method 1 ')\n",
        "ab=np.array([])\n",
        "for i in ar[:,1]:\n",
        "  print(i)\n",
        "  ab=np.append(ab,float(i)-1)\n",
        "ar[:,1] = ab\n",
        "print(ar)\n",
        "\n",
        "# to complete\n",
        "print('_______________________')\n",
        "print('2. Remove 1 degree to the Easting coordinates , method 2 ')\n",
        "\n"
      ],
      "execution_count": 58,
      "outputs": [
        {
          "output_type": "stream",
          "name": "stdout",
          "text": [
            "_______________________\n",
            "1. display in succession each character\n",
            "I\n",
            " \n",
            "l\n",
            "o\n",
            "v\n",
            "e\n",
            " \n",
            "p\n",
            "y\n",
            "t\n",
            "h\n",
            "o\n",
            "n\n",
            "_______________________\n",
            "2. display in succession the 1st character, then the 1st and 2nd, etc..., method 1 \n",
            "I\n",
            "I \n",
            "I l\n",
            "I lo\n",
            "I lov\n",
            "I love\n",
            "I love \n",
            "I love p\n",
            "I love py\n",
            "I love pyt\n",
            "I love pyth\n",
            "I love pytho\n",
            "I love python\n",
            "_______________________\n",
            "3. display in succession the 1st character, then the 1st and 2nd, etc..., method 2 \n",
            "I\n",
            "I \n",
            "I l\n",
            "I lo\n",
            "I lov\n",
            "I love\n",
            "I love \n",
            "I love p\n",
            "I love py\n",
            "I love pyt\n",
            "I love pyth\n",
            "I love pytho\n",
            "I love python\n",
            "1. numpy array\n",
            "[['Perth' '-3.434661' '56.395336']\n",
            " ['Edinburgh' '-3.20277' '55.95415']\n",
            " ['Aberdeen' '-2.10272' '57.14548']\n",
            " ['Inverness' '-4.224721' '57.477772']]\n",
            "_______________________\n",
            "2. Remove 1 degree to the Easting coordinates , method 1 \n",
            "-3.434661\n",
            "-3.20277\n",
            "-2.10272\n",
            "-4.224721\n",
            "[['Perth' '-4.434661' '56.395336']\n",
            " ['Edinburgh' '-4.20277' '55.95415']\n",
            " ['Aberdeen' '-3.10272' '57.14548']\n",
            " ['Inverness' '-5.224721' '57.477772']]\n",
            "_______________________\n",
            "2. Remove 1 degree to the Easting coordinates , method 2 \n"
          ]
        }
      ]
    },
    {
      "cell_type": "code",
      "metadata": {
        "colab": {
          "base_uri": "https://localhost:8080/"
        },
        "id": "h6ePcT9Low-w",
        "outputId": "059cfd46-dbca-4163-81ad-2e6742a75e2e"
      },
      "source": [
        "print(type(i))"
      ],
      "execution_count": 35,
      "outputs": [
        {
          "output_type": "stream",
          "name": "stdout",
          "text": [
            "<class 'float'>\n"
          ]
        }
      ]
    }
  ]
}