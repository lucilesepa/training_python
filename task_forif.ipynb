{
  "nbformat": 4,
  "nbformat_minor": 0,
  "metadata": {
    "colab": {
      "name": "task_forif.ipynb",
      "provenance": [],
      "authorship_tag": "ABX9TyP1YV7rPRrZjZTfPPfAq6FU",
      "include_colab_link": true
    },
    "kernelspec": {
      "name": "python3",
      "display_name": "Python 3"
    },
    "language_info": {
      "name": "python"
    }
  },
  "cells": [
    {
      "cell_type": "markdown",
      "metadata": {
        "id": "view-in-github",
        "colab_type": "text"
      },
      "source": [
        "<a href=\"https://colab.research.google.com/github/lucilesepa/training_python/blob/main/task_forif.ipynb\" target=\"_parent\"><img src=\"https://colab.research.google.com/assets/colab-badge.svg\" alt=\"Open In Colab\"/></a>"
      ]
    },
    {
      "cell_type": "markdown",
      "metadata": {
        "id": "TNdCRrEzci39"
      },
      "source": [
        "# for loop: method 1\n",
        "\n",
        "General structure: \n",
        "```\n",
        "for i in n:\n",
        "  statement block\n",
        "```\n",
        "- note the ```:``` and the indent before the statement- block\n",
        "\n",
        "Let's work with an example:\n",
        "We go through the values of a numpy 1D array and display them\n",
        "\n"
      ]
    },
    {
      "cell_type": "code",
      "metadata": {
        "colab": {
          "base_uri": "https://localhost:8080/"
        },
        "id": "3rP_yDvQdlRy",
        "outputId": "80d94a76-0327-43cf-ce6c-e4ebc6174b67"
      },
      "source": [
        "import numpy as np\n",
        "ar=np.array([40,70,120,32])\n",
        "\n",
        "print('i=')\n",
        "for i in ar:\n",
        "  print(i)"
      ],
      "execution_count": 11,
      "outputs": [
        {
          "output_type": "stream",
          "name": "stdout",
          "text": [
            "i=\n",
            "40\n",
            "70\n",
            "120\n",
            "32\n"
          ]
        }
      ]
    },
    {
      "cell_type": "markdown",
      "metadata": {
        "id": "0Zwkh4t4edVr"
      },
      "source": [
        "# for loop: method 2\n",
        "\n",
        "General structure: \n",
        "```\n",
        "for i in range(m):\n",
        "  statement block\n",
        "```\n",
        "Let's work with the same example:\n",
        "We do the same as before: we go through the values of a numpy 1D array and display them\n"
      ]
    },
    {
      "cell_type": "code",
      "metadata": {
        "colab": {
          "base_uri": "https://localhost:8080/"
        },
        "id": "_invDWameqJh",
        "outputId": "b3344fcc-8b14-4f18-abc4-955e556e838e"
      },
      "source": [
        "import numpy as np\n",
        "ar=np.array([40,70,120,32])\n",
        "\n",
        "print('ar[j]=')\n",
        "for j in range(4):\n",
        "  print(ar[j])\n",
        "\n",
        "print('______________________')\n",
        "\n",
        "print('j=')\n",
        "for j in range(len(ar)):\n",
        "  print(j)"
      ],
      "execution_count": 17,
      "outputs": [
        {
          "output_type": "stream",
          "name": "stdout",
          "text": [
            "ar[j]=\n",
            "40\n",
            "70\n",
            "120\n",
            "32\n",
            "______________________\n",
            "j=\n",
            "0\n",
            "1\n",
            "2\n",
            "3\n"
          ]
        }
      ]
    },
    {
      "cell_type": "markdown",
      "metadata": {
        "id": "h9GaV-a6gG7k"
      },
      "source": [
        "\n",
        "1. Copy paste this into colab as code, and convert into a numpy array that you call ar:\n",
        "```\n",
        "cool_data = [['Perth',-3.434661,56.395336], ['Edinburgh', -3.20277, 55.95415], ['Aberdeen', -2.10272, 57.14548],['Inverness',-4.224721,57.477772]]\n",
        "```\n",
        "2. Remove 1 degree to the Easting coordinates (second column) and display it\n",
        "\n",
        "2. Add 1 degree to the Easting coordinates (second column) with the second method\n"
      ]
    },
    {
      "cell_type": "code",
      "metadata": {
        "colab": {
          "base_uri": "https://localhost:8080/"
        },
        "id": "MLur-XbFiZHl",
        "outputId": "bf2c9b26-5d4f-44a7-bbe1-4ec463146c29"
      },
      "source": [
        "print('1. numpy array')\n",
        "cool_data = [['Perth',-3.434661,56.395336], ['Edinburgh', -3.20277, 55.95415], ['Aberdeen', -2.10272, 57.14548],['Inverness',-4.224721,57.477772]]\n",
        "\n",
        "import pandas as pd\n",
        "dfa=pd.DataFrame(cool_data,columns=['Locations','E','N'])\n",
        "\n",
        "print(dfa)\n",
        "\n",
        "print('_______________________')\n",
        "print('2. Remove 1 degree to the Easting coordinates ')\n",
        "for i in range(len(dfa['E'])):\n",
        "  dfa['E'][i]=dfa['E'][i]-1\n",
        "  print(dfa['E'][i])\n"
      ],
      "execution_count": 28,
      "outputs": [
        {
          "output_type": "stream",
          "name": "stdout",
          "text": [
            "1. numpy array\n",
            "   Locations         E          N\n",
            "0      Perth -3.434661  56.395336\n",
            "1  Edinburgh -3.202770  55.954150\n",
            "2   Aberdeen -2.102720  57.145480\n",
            "3  Inverness -4.224721  57.477772\n",
            "_______________________\n",
            "2. Remove 1 degree to the Easting coordinates \n",
            "-4.434661\n",
            "-4.20277\n",
            "-3.10272\n",
            "-5.224721\n"
          ]
        },
        {
          "output_type": "stream",
          "name": "stderr",
          "text": [
            "/usr/local/lib/python3.7/dist-packages/ipykernel_launcher.py:12: SettingWithCopyWarning: \n",
            "A value is trying to be set on a copy of a slice from a DataFrame\n",
            "\n",
            "See the caveats in the documentation: https://pandas.pydata.org/pandas-docs/stable/user_guide/indexing.html#returning-a-view-versus-a-copy\n",
            "  if sys.path[0] == '':\n"
          ]
        }
      ]
    }
  ]
}