{
  "nbformat": 4,
  "nbformat_minor": 0,
  "metadata": {
    "colab": {
      "name": "session1_home_exercises.ipynb",
      "provenance": [],
      "authorship_tag": "ABX9TyMD6nfUb/7he7ioKVgXtdvH",
      "include_colab_link": true
    },
    "kernelspec": {
      "name": "python3",
      "display_name": "Python 3"
    },
    "language_info": {
      "name": "python"
    }
  },
  "cells": [
    {
      "cell_type": "markdown",
      "metadata": {
        "id": "view-in-github",
        "colab_type": "text"
      },
      "source": [
        "<a href=\"https://colab.research.google.com/github/lucilesepa/training_python/blob/main/session1_home_exercises.ipynb\" target=\"_parent\"><img src=\"https://colab.research.google.com/assets/colab-badge.svg\" alt=\"Open In Colab\"/></a>"
      ]
    },
    {
      "cell_type": "code",
      "metadata": {
        "id": "Q8xmPxWMm6fE"
      },
      "source": [
        "\n",
        "# this will be home exercise. needs float() and np.append()\n",
        "\n",
        "print('1. numpy array')\n",
        "cool_data = [['Perth',-3.434661,56.395336], ['Edinburgh', -3.20277, 55.95415], ['Aberdeen', -2.10272, 57.14548],['Inverness',-4.224721,57.477772]]\n",
        "\n",
        "import numpy as np\n",
        "ar=np.array(cool_data)\n",
        "\n",
        "print(ar)\n",
        "\n",
        "print('_______________________')\n",
        "print('2. Remove 1 degree to the Easting coordinates , method 1 ')\n",
        "ab=np.array([])\n",
        "for i in ar[:,1]:\n",
        "  print(i)\n",
        "  ab=np.append(ab,float(i)-1)\n",
        "ar[:,1] = ab\n",
        "print(ar)\n",
        "\n",
        "# to complete\n",
        "print('_______________________')\n",
        "print('2. Remove 1 degree to the Easting coordinates , method 2 ')\n"
      ],
      "execution_count": null,
      "outputs": []
    }
  ]
}