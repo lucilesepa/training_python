{
  "nbformat": 4,
  "nbformat_minor": 0,
  "metadata": {
    "colab": {
      "name": "variables1.ipynb",
      "provenance": [],
      "authorship_tag": "ABX9TyNaRBAZKHY0bH79Y108lJAp",
      "include_colab_link": true
    },
    "kernelspec": {
      "name": "python3",
      "display_name": "Python 3"
    },
    "language_info": {
      "name": "python"
    }
  },
  "cells": [
    {
      "cell_type": "markdown",
      "metadata": {
        "id": "view-in-github",
        "colab_type": "text"
      },
      "source": [
        "<a href=\"https://colab.research.google.com/github/lucilesepa/training_python/blob/main/variables1.ipynb\" target=\"_parent\"><img src=\"https://colab.research.google.com/assets/colab-badge.svg\" alt=\"Open In Colab\"/></a>"
      ]
    },
    {
      "cell_type": "markdown",
      "metadata": {
        "id": "1cxcjJngIcK7"
      },
      "source": [
        "First steps with variables: integers, floats, strings, and basic operations"
      ]
    },
    {
      "cell_type": "code",
      "metadata": {
        "id": "tKotCG6XIaac",
        "colab": {
          "base_uri": "https://localhost:8080/"
        },
        "outputId": "df6948a5-8c67-4e43-e4fd-a69d6e336d6d"
      },
      "source": [
        "a=2\n",
        "type(a)"
      ],
      "execution_count": 2,
      "outputs": [
        {
          "output_type": "execute_result",
          "data": {
            "text/plain": [
              "int"
            ]
          },
          "metadata": {},
          "execution_count": 2
        }
      ]
    },
    {
      "cell_type": "code",
      "metadata": {
        "id": "TDtURsQZMo8t",
        "colab": {
          "base_uri": "https://localhost:8080/"
        },
        "outputId": "78cbd10b-08b1-4197-9804-175c357c7cd1"
      },
      "source": [
        "b=2.0\n",
        "type(b)"
      ],
      "execution_count": 3,
      "outputs": [
        {
          "output_type": "execute_result",
          "data": {
            "text/plain": [
              "float"
            ]
          },
          "metadata": {},
          "execution_count": 3
        }
      ]
    },
    {
      "cell_type": "code",
      "metadata": {
        "id": "2eQKHYDEMruX",
        "colab": {
          "base_uri": "https://localhost:8080/"
        },
        "outputId": "6b717a50-89c7-4871-a181-aacccd3a56cd"
      },
      "source": [
        "c='2'\n",
        "type(c)"
      ],
      "execution_count": 4,
      "outputs": [
        {
          "output_type": "execute_result",
          "data": {
            "text/plain": [
              "str"
            ]
          },
          "metadata": {},
          "execution_count": 4
        }
      ]
    },
    {
      "cell_type": "code",
      "metadata": {
        "id": "ElC21Ik3hPZS",
        "outputId": "e5167687-c84b-431a-874f-034fa3e1934e",
        "colab": {
          "base_uri": "https://localhost:8080/"
        }
      },
      "source": [
        "a-b"
      ],
      "execution_count": 5,
      "outputs": [
        {
          "output_type": "execute_result",
          "data": {
            "text/plain": [
              "0.0"
            ]
          },
          "metadata": {},
          "execution_count": 5
        }
      ]
    },
    {
      "cell_type": "code",
      "metadata": {
        "id": "M7WEUCrChd8F",
        "outputId": "98c53d16-9352-4a0e-9fef-d4161bdd8e92",
        "colab": {
          "base_uri": "https://localhost:8080/",
          "height": 166
        }
      },
      "source": [
        "a-c"
      ],
      "execution_count": 6,
      "outputs": [
        {
          "output_type": "error",
          "ename": "TypeError",
          "evalue": "ignored",
          "traceback": [
            "\u001b[0;31m---------------------------------------------------------------------------\u001b[0m",
            "\u001b[0;31mTypeError\u001b[0m                                 Traceback (most recent call last)",
            "\u001b[0;32m<ipython-input-6-6f0e715cd956>\u001b[0m in \u001b[0;36m<module>\u001b[0;34m()\u001b[0m\n\u001b[0;32m----> 1\u001b[0;31m \u001b[0ma\u001b[0m\u001b[0;34m-\u001b[0m\u001b[0mc\u001b[0m\u001b[0;34m\u001b[0m\u001b[0;34m\u001b[0m\u001b[0m\n\u001b[0m",
            "\u001b[0;31mTypeError\u001b[0m: unsupported operand type(s) for -: 'int' and 'str'"
          ]
        }
      ]
    },
    {
      "cell_type": "markdown",
      "metadata": {
        "id": "aq8boflawwaB"
      },
      "source": [
        "Naming variables : ok"
      ]
    },
    {
      "cell_type": "code",
      "metadata": {
        "id": "9KTUMwAJw1Lp"
      },
      "source": [
        "a=1\n",
        "a_b=2\n",
        "_b=3\n",
        "a1b=4"
      ],
      "execution_count": 9,
      "outputs": []
    },
    {
      "cell_type": "markdown",
      "metadata": {
        "id": "VBXZ9auyxHQZ"
      },
      "source": [
        "Naming variables: not ok"
      ]
    },
    {
      "cell_type": "code",
      "metadata": {
        "id": "3MFiJ2dNxB7D"
      },
      "source": [
        "1b = 1 # cannot start with a number\n",
        "a b = 2 # cannot contain spaces"
      ],
      "execution_count": null,
      "outputs": []
    }
  ]
}