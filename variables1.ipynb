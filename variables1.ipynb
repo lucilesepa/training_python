{
  "nbformat": 4,
  "nbformat_minor": 0,
  "metadata": {
    "colab": {
      "name": "variables1.ipynb",
      "provenance": [],
      "authorship_tag": "ABX9TyO5gkUv9btu/rvxCBGh4dv9",
      "include_colab_link": true
    },
    "kernelspec": {
      "name": "python3",
      "display_name": "Python 3"
    },
    "language_info": {
      "name": "python"
    }
  },
  "cells": [
    {
      "cell_type": "markdown",
      "metadata": {
        "id": "view-in-github",
        "colab_type": "text"
      },
      "source": [
        "<a href=\"https://colab.research.google.com/github/lucilesepa/training_python/blob/main/variables1.ipynb\" target=\"_parent\"><img src=\"https://colab.research.google.com/assets/colab-badge.svg\" alt=\"Open In Colab\"/></a>"
      ]
    },
    {
      "cell_type": "markdown",
      "metadata": {
        "id": "1cxcjJngIcK7"
      },
      "source": [
        "First steps with variables: integers, floats, strings, and basic operations"
      ]
    },
    {
      "cell_type": "code",
      "metadata": {
        "id": "tKotCG6XIaac",
        "colab": {
          "base_uri": "https://localhost:8080/"
        },
        "outputId": "05549d7a-e84d-4c66-f7ff-48afd37e384e"
      },
      "source": [
        "a=2\n",
        "type(a)"
      ],
      "execution_count": 1,
      "outputs": [
        {
          "output_type": "execute_result",
          "data": {
            "text/plain": [
              "int"
            ]
          },
          "metadata": {},
          "execution_count": 1
        }
      ]
    },
    {
      "cell_type": "code",
      "metadata": {
        "id": "TDtURsQZMo8t",
        "outputId": "0b4b50b6-b20b-48bd-dc55-d564e35bdeb2",
        "colab": {
          "base_uri": "https://localhost:8080/"
        }
      },
      "source": [
        "b=2.0\n",
        "type(b)"
      ],
      "execution_count": 2,
      "outputs": [
        {
          "output_type": "execute_result",
          "data": {
            "text/plain": [
              "float"
            ]
          },
          "metadata": {},
          "execution_count": 2
        }
      ]
    },
    {
      "cell_type": "code",
      "metadata": {
        "id": "2eQKHYDEMruX",
        "outputId": "691dee61-6ff0-4260-a4b9-eec85e6f144d",
        "colab": {
          "base_uri": "https://localhost:8080/"
        }
      },
      "source": [
        "c='2'\n",
        "type(c)"
      ],
      "execution_count": 3,
      "outputs": [
        {
          "output_type": "execute_result",
          "data": {
            "text/plain": [
              "str"
            ]
          },
          "metadata": {},
          "execution_count": 3
        }
      ]
    }
  ]
}