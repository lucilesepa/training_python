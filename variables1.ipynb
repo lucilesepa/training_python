{
  "nbformat": 4,
  "nbformat_minor": 0,
  "metadata": {
    "colab": {
      "name": "variables1.ipynb",
      "provenance": [],
      "authorship_tag": "ABX9TyMRbEhD0zcoXK4qbYR51ZbF",
      "include_colab_link": true
    },
    "kernelspec": {
      "name": "python3",
      "display_name": "Python 3"
    },
    "language_info": {
      "name": "python"
    }
  },
  "cells": [
    {
      "cell_type": "markdown",
      "metadata": {
        "id": "view-in-github",
        "colab_type": "text"
      },
      "source": [
        "<a href=\"https://colab.research.google.com/github/lucilesepa/training_python/blob/main/variables1.ipynb\" target=\"_parent\"><img src=\"https://colab.research.google.com/assets/colab-badge.svg\" alt=\"Open In Colab\"/></a>"
      ]
    },
    {
      "cell_type": "markdown",
      "metadata": {
        "id": "1cxcjJngIcK7"
      },
      "source": [
        "First steps with variables: integers, floats, strings, and basic operations"
      ]
    },
    {
      "cell_type": "code",
      "metadata": {
        "id": "tKotCG6XIaac",
        "outputId": "05549d7a-e84d-4c66-f7ff-48afd37e384e",
        "colab": {
          "base_uri": "https://localhost:8080/"
        }
      },
      "source": [
        "a=2\n",
        "type(a)"
      ],
      "execution_count": 1,
      "outputs": [
        {
          "output_type": "execute_result",
          "data": {
            "text/plain": [
              "int"
            ]
          },
          "metadata": {},
          "execution_count": 1
        }
      ]
    }
  ]
}