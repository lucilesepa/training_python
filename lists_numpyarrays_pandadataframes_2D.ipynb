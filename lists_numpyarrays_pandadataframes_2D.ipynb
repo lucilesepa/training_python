{
  "nbformat": 4,
  "nbformat_minor": 0,
  "metadata": {
    "colab": {
      "name": "lists_numpyarrays_pandadataframes_2D.ipynb",
      "provenance": [],
      "authorship_tag": "ABX9TyPmA+4yZ2dhuEAAaOKuqGtJ",
      "include_colab_link": true
    },
    "kernelspec": {
      "name": "python3",
      "display_name": "Python 3"
    },
    "language_info": {
      "name": "python"
    }
  },
  "cells": [
    {
      "cell_type": "markdown",
      "metadata": {
        "id": "view-in-github",
        "colab_type": "text"
      },
      "source": [
        "<a href=\"https://colab.research.google.com/github/lucilesepa/training_python/blob/main/lists_numpyarrays_pandadataframes_2D.ipynb\" target=\"_parent\"><img src=\"https://colab.research.google.com/assets/colab-badge.svg\" alt=\"Open In Colab\"/></a>"
      ]
    },
    {
      "cell_type": "markdown",
      "metadata": {
        "id": "-_YYJJxgz35K"
      },
      "source": [
        "Define a dataset with headers"
      ]
    },
    {
      "cell_type": "code",
      "metadata": {
        "id": "o37Th95QCUOD",
        "colab": {
          "base_uri": "https://localhost:8080/"
        },
        "outputId": "370f33f5-bcde-4a33-a196-12032859a12c"
      },
      "source": [
        "import pandas as pd # import pandas module\n",
        "data_as_list = [['Perth',-3.434661,56.395336], ['Edinburgh', -3.20277, 55.95415], ['Aberdeen', -2.10272, 57.14548],['Inverness',-4.224721,57.477772]]\n",
        "print('data is',type(data_as_list))"
      ],
      "execution_count": 11,
      "outputs": [
        {
          "output_type": "stream",
          "text": [
            "data is <class 'list'>\n"
          ],
          "name": "stdout"
        }
      ]
    },
    {
      "cell_type": "markdown",
      "metadata": {
        "id": "8o7W2bB6zvyI"
      },
      "source": [
        "Make it a dataframe. It is easier to vizualize and manipulate than a list"
      ]
    },
    {
      "cell_type": "code",
      "metadata": {
        "colab": {
          "base_uri": "https://localhost:8080/"
        },
        "id": "CnJ9SJRHz0MN",
        "outputId": "95220b13-436f-458c-be63-6a3eeff4bb6e"
      },
      "source": [
        "dfa = pd.DataFrame(data_as_list,columns=['Locations','E','N'])\n",
        "print(dfa)\n",
        "print(type(dfa))\n",
        "print(dfa.shape,': dfa has ', dfa.shape[0],' rows and ', dfa.shape[1],' columns') # you can print a mix of integers and strings, and the call for the first and second values in shape "
      ],
      "execution_count": 13,
      "outputs": [
        {
          "output_type": "stream",
          "text": [
            "   Locations         E          N\n",
            "0      Perth -3.434661  56.395336\n",
            "1  Edinburgh -3.202770  55.954150\n",
            "2   Aberdeen -2.102720  57.145480\n",
            "3  Inverness -4.224721  57.477772\n",
            "<class 'pandas.core.frame.DataFrame'>\n",
            "(4, 3) : dfa has  4  rows and  3  columns\n"
          ],
          "name": "stdout"
        }
      ]
    }
  ]
}