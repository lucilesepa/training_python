{
  "nbformat": 4,
  "nbformat_minor": 0,
  "metadata": {
    "colab": {
      "name": "lists_numpyarrays_pandadataframes_2D.ipynb",
      "provenance": [],
      "authorship_tag": "ABX9TyPQUIvDHOBil++Pp2/Ky/lC",
      "include_colab_link": true
    },
    "kernelspec": {
      "name": "python3",
      "display_name": "Python 3"
    },
    "language_info": {
      "name": "python"
    }
  },
  "cells": [
    {
      "cell_type": "markdown",
      "metadata": {
        "id": "view-in-github",
        "colab_type": "text"
      },
      "source": [
        "<a href=\"https://colab.research.google.com/github/lucilesepa/training_python/blob/main/lists_numpyarrays_pandadataframes_2D.ipynb\" target=\"_parent\"><img src=\"https://colab.research.google.com/assets/colab-badge.svg\" alt=\"Open In Colab\"/></a>"
      ]
    },
    {
      "cell_type": "markdown",
      "metadata": {
        "id": "-_YYJJxgz35K"
      },
      "source": [
        "Define a dataset with headers"
      ]
    },
    {
      "cell_type": "code",
      "metadata": {
        "id": "o37Th95QCUOD",
        "colab": {
          "base_uri": "https://localhost:8080/"
        },
        "outputId": "dc76f00e-5117-4177-c849-1e016b797781"
      },
      "source": [
        "data_as_list = [['Perth',-3.434661,56.395336], ['Edinburgh', -3.20277, 55.95415], ['Aberdeen', -2.10272, 57.14548],['Inverness',-4.224721,57.477772]]\n",
        "print('data is of type ',type(data_as_list))"
      ],
      "execution_count": 2,
      "outputs": [
        {
          "output_type": "stream",
          "text": [
            "data is of type  <class 'list'>\n"
          ],
          "name": "stdout"
        }
      ]
    },
    {
      "cell_type": "markdown",
      "metadata": {
        "id": "8o7W2bB6zvyI"
      },
      "source": [
        "Make it a dataframe. It is easier to vizualize and manipulate than a list"
      ]
    },
    {
      "cell_type": "code",
      "metadata": {
        "colab": {
          "base_uri": "https://localhost:8080/"
        },
        "id": "CnJ9SJRHz0MN",
        "outputId": "e5d79c8d-5c3f-46aa-a2b8-2ee37b64cb2d"
      },
      "source": [
        "import pandas as pd # import pandas module\n",
        "dfa = pd.DataFrame(data_as_list,columns=['Locations','E','N'])\n",
        "print(dfa)\n",
        "print(type(dfa))\n",
        "print(dfa.shape,': dfa has ', dfa.shape[0],' rows and ', dfa.shape[1],' columns') # you can print a mix of integers and strings, and the call for the first and second values in shape "
      ],
      "execution_count": 3,
      "outputs": [
        {
          "output_type": "stream",
          "text": [
            "   Locations         E          N\n",
            "0      Perth -3.434661  56.395336\n",
            "1  Edinburgh -3.202770  55.954150\n",
            "2   Aberdeen -2.102720  57.145480\n",
            "3  Inverness -4.224721  57.477772\n",
            "<class 'pandas.core.frame.DataFrame'>\n",
            "(4, 3) : dfa has  4  rows and  3  columns\n"
          ],
          "name": "stdout"
        }
      ]
    },
    {
      "cell_type": "markdown",
      "metadata": {
        "id": "f-LgxHoURa1T"
      },
      "source": [
        "Indexing and slicing 2D dataframes"
      ]
    },
    {
      "cell_type": "code",
      "metadata": {
        "colab": {
          "base_uri": "https://localhost:8080/"
        },
        "id": "iTCWKCFgRd7N",
        "outputId": "b9699f4f-10f9-4840-8822-118b00caa15d"
      },
      "source": [
        "#based on the columns : note that the slicing EXCLUDES the last index entered in the slicing command\n",
        "a=dfa['E'][0]\n",
        "b=dfa['Locations'][2:]\n",
        "c=dfa['Locations'][:1]\n",
        "d=dfa['Locations'][2:3]\n",
        "print('a=',a)\n",
        "print('b=',b)\n",
        "print('c=',c)\n",
        "print('d=',d)\n",
        "\n",
        "#based on the rows : note that the slicing INCLUDES the last index entered in the slicing command\n",
        "e=dfa.loc[2:3]\n",
        "print('e=',e)"
      ],
      "execution_count": 4,
      "outputs": [
        {
          "output_type": "stream",
          "text": [
            "a= -3.434661\n",
            "b= 2     Aberdeen\n",
            "3    Inverness\n",
            "Name: Locations, dtype: object\n",
            "c= 0    Perth\n",
            "Name: Locations, dtype: object\n",
            "d= 2    Aberdeen\n",
            "Name: Locations, dtype: object\n",
            "e=    Locations         E          N\n",
            "2   Aberdeen -2.102720  57.145480\n",
            "3  Inverness -4.224721  57.477772\n"
          ],
          "name": "stdout"
        }
      ]
    },
    {
      "cell_type": "markdown",
      "metadata": {
        "id": "m9MLifu2QUff"
      },
      "source": [
        "Can convert to numpy array "
      ]
    },
    {
      "cell_type": "code",
      "metadata": {
        "colab": {
          "base_uri": "https://localhost:8080/"
        },
        "id": "6kQL1doDQcZ3",
        "outputId": "2c842b9e-b96f-49c6-bd25-803912e5d5ba"
      },
      "source": [
        "dfa_array = dfa.to_numpy()\n",
        "print(dfa_array)\n",
        "print(dfa_array.shape)"
      ],
      "execution_count": 5,
      "outputs": [
        {
          "output_type": "stream",
          "text": [
            "[['Perth' -3.434661 56.395336]\n",
            " ['Edinburgh' -3.20277 55.95415]\n",
            " ['Aberdeen' -2.10272 57.14548]\n",
            " ['Inverness' -4.224721 57.477772]]\n",
            "(4, 3)\n"
          ],
          "name": "stdout"
        }
      ]
    },
    {
      "cell_type": "markdown",
      "metadata": {
        "id": "X7XfJQ7cV5Nt"
      },
      "source": [
        "Indexing and slicing 2D numpy arrays"
      ]
    },
    {
      "cell_type": "code",
      "metadata": {
        "colab": {
          "base_uri": "https://localhost:8080/"
        },
        "id": "0sDtn4yZV_hW",
        "outputId": "fbf74c80-4228-45f9-a3d1-3ca3095ef20f"
      },
      "source": [
        "aa=dfa_array[0,1]\n",
        "bb=dfa_array[:2,1] #note that the slicing EXCLUDES the last index entered in the slicing command, for the rows...\n",
        "dd=dfa_array[1:3,:2]#...and the columns\n",
        "print('aa=',aa)\n",
        "print('bb=',bb)\n",
        "print('cc=',cc)\n",
        "print('dd=',dd)"
      ],
      "execution_count": 8,
      "outputs": [
        {
          "output_type": "stream",
          "text": [
            "aa= -3.434661\n",
            "bb= [-3.434661 -3.20277]\n",
            "cc= [['Aberdeen' -2.10272 57.14548]\n",
            " ['Inverness' -4.224721 57.477772]]\n",
            "dd= [['Edinburgh' -3.20277]\n",
            " ['Aberdeen' -2.10272]]\n"
          ],
          "name": "stdout"
        }
      ]
    }
  ]
}