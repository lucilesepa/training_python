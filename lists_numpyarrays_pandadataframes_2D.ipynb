{
  "nbformat": 4,
  "nbformat_minor": 0,
  "metadata": {
    "colab": {
      "name": "lists_numpyarrays_pandadataframes_2D.ipynb",
      "provenance": [],
      "authorship_tag": "ABX9TyPjr0e9nmjxWjQLFbKGqLFz",
      "include_colab_link": true
    },
    "kernelspec": {
      "name": "python3",
      "display_name": "Python 3"
    },
    "language_info": {
      "name": "python"
    }
  },
  "cells": [
    {
      "cell_type": "markdown",
      "metadata": {
        "id": "view-in-github",
        "colab_type": "text"
      },
      "source": [
        "<a href=\"https://colab.research.google.com/github/lucilesepa/training_python/blob/main/lists_numpyarrays_pandadataframes_2D.ipynb\" target=\"_parent\"><img src=\"https://colab.research.google.com/assets/colab-badge.svg\" alt=\"Open In Colab\"/></a>"
      ]
    },
    {
      "cell_type": "code",
      "metadata": {
        "id": "o37Th95QCUOD"
      },
      "source": [
        "import pandas as pd # import pandas module\n",
        "dataset_as_dictionnary = {'Locations':['Perth', 'Edinburgh', 'Aberdeen', 'Inverness'], # note the braces\n",
        "        'E':[-3.434661,-3.20277,-2.10272,-4.224721],'N':[56.395336,55.95415,57.14548,57.477772]}\n",
        "print(dataset_as_dictionnary)\n",
        "print(type(dataset_as_dictionnary))\n",
        "print('_______________________________________________________________')\n",
        "dfa = pd.DataFrame(dataset_as_list)\n",
        "print(dfa)\n",
        "print(type(dfa))\n",
        "print(dfa.shape,': dfa has ', dfa.shape[0],' rows and ', dfa.shape[1],' columns') # note how to print a mix of integers and strings, and the call for the first and second values in shape "
      ],
      "execution_count": null,
      "outputs": []
    }
  ]
}