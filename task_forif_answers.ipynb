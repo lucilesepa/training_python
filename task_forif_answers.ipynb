{
  "nbformat": 4,
  "nbformat_minor": 0,
  "metadata": {
    "colab": {
      "name": "task_forif_answers.ipynb",
      "provenance": [],
      "authorship_tag": "ABX9TyN7orr0yttiMUVSLQoVvNi9",
      "include_colab_link": true
    },
    "kernelspec": {
      "name": "python3",
      "display_name": "Python 3"
    },
    "language_info": {
      "name": "python"
    }
  },
  "cells": [
    {
      "cell_type": "markdown",
      "metadata": {
        "id": "view-in-github",
        "colab_type": "text"
      },
      "source": [
        "<a href=\"https://colab.research.google.com/github/lucilesepa/training_python/blob/main/task_forif_answers.ipynb\" target=\"_parent\"><img src=\"https://colab.research.google.com/assets/colab-badge.svg\" alt=\"Open In Colab\"/></a>"
      ]
    },
    {
      "cell_type": "code",
      "metadata": {
        "id": "sX8WTWaP7nxp"
      },
      "source": [
        "print('2. display in succession each character')\n",
        "cool_string = 'ILovePython'\n",
        "for i in cool_string:\n",
        "  print(i)\n",
        "\n",
        "print('_______________________')\n",
        "print('3. display in succession the 1st character, 2nd, etc..., method 1 ')\n",
        "x=1\n",
        "for i in cool_string:\n",
        "  print(cool_string[:x])\n",
        "  x=x+1\n",
        "\n",
        "print('_______________________')\n",
        "print('4. display in succession the 1st character, then the 1st and 2nd, etc..., method 2 ')\n",
        "for i in range(len(cool_string)):\n",
        "  print(cool_string[:i+1])\n",
        "\n",
        "a = [-10,1,0,4,-3,4.5,6,1,34,-23,-4,0]\n",
        "print('_______________________')\n",
        "print('6. Display the text : \"There is a positive value:\" and the value when positive, \"There is a negative value:\" and the value, when negative, \"There is a null value:\" and the value, when 0 ')\n",
        "\n",
        "for i in a:\n",
        "  if i>0:\n",
        "    print('There is a positive value: ',i)\n",
        "  elif i<0:\n",
        "    print('There is a negative value: ',i)\n",
        "  else:\n",
        "    print('There is a null value: ',i)\n",
        "\n",
        "print('_______________________')\n",
        "print('7. Display the text: \"There is a non null value:\" and the value, when the value is non null, and the text : \"There is a null value\", and the value, when null. ')\n",
        "\n",
        "for i in a:\n",
        "  if i!=0:\n",
        "    print('There is a non null value: ',i)\n",
        "  else:\n",
        "    print('There is a null value: ',i)\n",
        "\n",
        "print('_______________________')\n",
        "print('8. Display the text: \"There is a value you are after: \" and the value when the value is positive and smaller or equal to 4 ')\n",
        "\n",
        "for i in a:\n",
        "  if i>0 and i<=4:\n",
        "    print('There is a value you are after: ',i)"
      ],
      "execution_count": null,
      "outputs": []
    }
  ]
}