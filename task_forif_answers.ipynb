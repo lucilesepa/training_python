{
  "nbformat": 4,
  "nbformat_minor": 0,
  "metadata": {
    "colab": {
      "name": "task_forif_answers.ipynb",
      "provenance": [],
      "authorship_tag": "ABX9TyNlfv6cLBJ3Bv7IexMjWbrZ",
      "include_colab_link": true
    },
    "kernelspec": {
      "name": "python3",
      "display_name": "Python 3"
    },
    "language_info": {
      "name": "python"
    }
  },
  "cells": [
    {
      "cell_type": "markdown",
      "metadata": {
        "id": "view-in-github",
        "colab_type": "text"
      },
      "source": [
        "<a href=\"https://colab.research.google.com/github/lucilesepa/training_python/blob/main/task_forif_answers.ipynb\" target=\"_parent\"><img src=\"https://colab.research.google.com/assets/colab-badge.svg\" alt=\"Open In Colab\"/></a>"
      ]
    },
    {
      "cell_type": "markdown",
      "metadata": {
        "id": "L5YrF3Th5_Xq"
      },
      "source": [
        " 1. Copy paste this into colab as code\n"
      ]
    },
    {
      "cell_type": "code",
      "metadata": {
        "id": "mlw80I9X6iNI"
      },
      "source": [
        "cool_string = 'I love python'"
      ],
      "execution_count": 2,
      "outputs": []
    },
    {
      "cell_type": "markdown",
      "metadata": {
        "id": "9aXVZskR6JCH"
      },
      "source": [
        "2. Display in succession each character"
      ]
    },
    {
      "cell_type": "code",
      "metadata": {
        "colab": {
          "base_uri": "https://localhost:8080/"
        },
        "id": "sX8WTWaP7nxp",
        "outputId": "0facf04e-bffa-4ce8-d19f-a83e8881e791"
      },
      "source": [
        "for i in cool_string:\n",
        "  print(i)"
      ],
      "execution_count": 3,
      "outputs": [
        {
          "output_type": "stream",
          "name": "stdout",
          "text": [
            "I\n",
            " \n",
            "l\n",
            "o\n",
            "v\n",
            "e\n",
            " \n",
            "p\n",
            "y\n",
            "t\n",
            "h\n",
            "o\n",
            "n\n"
          ]
        }
      ]
    },
    {
      "cell_type": "markdown",
      "metadata": {
        "id": "EMjybS196VpU"
      },
      "source": [
        "3. Display in succession the 1st character, 2nd, etc..., method 1 "
      ]
    },
    {
      "cell_type": "code",
      "metadata": {
        "colab": {
          "base_uri": "https://localhost:8080/"
        },
        "id": "c0ibdD9t6Vx6",
        "outputId": "22d7b177-78ba-49f6-b6cb-463403554c38"
      },
      "source": [
        "x=0\n",
        "for i in cool_string:\n",
        "  print(cool_string[:x])\n",
        "  x=x+1"
      ],
      "execution_count": 12,
      "outputs": [
        {
          "output_type": "stream",
          "name": "stdout",
          "text": [
            "\n",
            "I\n",
            "I \n",
            "I l\n",
            "I lo\n",
            "I lov\n",
            "I love\n",
            "I love \n",
            "I love p\n",
            "I love py\n",
            "I love pyt\n",
            "I love pyth\n",
            "I love pytho\n"
          ]
        }
      ]
    },
    {
      "cell_type": "markdown",
      "metadata": {
        "id": "Y1CZZkMR6V6e"
      },
      "source": [
        "4. Display in succession the 1st character, then the 1st and 2nd, etc..., method 2"
      ]
    },
    {
      "cell_type": "code",
      "metadata": {
        "colab": {
          "base_uri": "https://localhost:8080/"
        },
        "id": "LH3rAFI96WD3",
        "outputId": "c2f84fca-eb1f-4934-a2f1-6a52fdb21a5a"
      },
      "source": [
        "for i in range(len(cool_string)):\n",
        "  print(cool_string[:i+1])"
      ],
      "execution_count": 5,
      "outputs": [
        {
          "output_type": "stream",
          "name": "stdout",
          "text": [
            "I\n",
            "I \n",
            "I l\n",
            "I lo\n",
            "I lov\n",
            "I love\n",
            "I love \n",
            "I love p\n",
            "I love py\n",
            "I love pyt\n",
            "I love pyth\n",
            "I love pytho\n",
            "I love python\n"
          ]
        }
      ]
    },
    {
      "cell_type": "markdown",
      "metadata": {
        "id": "hmyLhvmQ6WLW"
      },
      "source": [
        "5. Copy past this in code "
      ]
    },
    {
      "cell_type": "code",
      "metadata": {
        "id": "l0mOw0U-6WTq"
      },
      "source": [
        "a = [-10,1,0,4,-3,4.5,6,1,34,-23,-4,0]"
      ],
      "execution_count": 6,
      "outputs": []
    },
    {
      "cell_type": "markdown",
      "metadata": {
        "id": "o6ENFs1v68YV"
      },
      "source": [
        "6. Display the text : \"There is a positive value:\" and the value when positive, \"There is a negative value:\" and the value, when negative, \"There is a null value:\" and the value, when 0 "
      ]
    },
    {
      "cell_type": "code",
      "metadata": {
        "colab": {
          "base_uri": "https://localhost:8080/"
        },
        "id": "fAE_Ux0b68z_",
        "outputId": "08b61ade-0bfc-4440-b4f2-8d9cb8f0881f"
      },
      "source": [
        "for i in a:\n",
        "  if i>0:\n",
        "    print('There is a positive value: ',i)\n",
        "  elif i<0:\n",
        "    print('There is a negative value: ',i)\n",
        "  else:\n",
        "    print('There is a null value: ',i)"
      ],
      "execution_count": 7,
      "outputs": [
        {
          "output_type": "stream",
          "name": "stdout",
          "text": [
            "There is a negative value:  -10\n",
            "There is a positive value:  1\n",
            "There is a null value:  0\n",
            "There is a positive value:  4\n",
            "There is a negative value:  -3\n",
            "There is a positive value:  4.5\n",
            "There is a positive value:  6\n",
            "There is a positive value:  1\n",
            "There is a positive value:  34\n",
            "There is a negative value:  -23\n",
            "There is a negative value:  -4\n",
            "There is a null value:  0\n"
          ]
        }
      ]
    },
    {
      "cell_type": "markdown",
      "metadata": {
        "id": "YXR2RSBp6Wcn"
      },
      "source": [
        "7. Display the text: \"There is a non null value:\" and the value, when the value is non null, and the text : \"There is a null value\", and the value, when null. "
      ]
    },
    {
      "cell_type": "code",
      "metadata": {
        "colab": {
          "base_uri": "https://localhost:8080/"
        },
        "id": "9Kd9RGdY7D9O",
        "outputId": "e8e35946-048a-44c4-dcc7-5a9510e4d741"
      },
      "source": [
        "for i in a:\n",
        "  if i!=0:\n",
        "    print('There is a non null value: ',i)\n",
        "  else:\n",
        "    print('There is a null value: ',i)"
      ],
      "execution_count": 8,
      "outputs": [
        {
          "output_type": "stream",
          "name": "stdout",
          "text": [
            "There is a non null value:  -10\n",
            "There is a non null value:  1\n",
            "There is a null value:  0\n",
            "There is a non null value:  4\n",
            "There is a non null value:  -3\n",
            "There is a non null value:  4.5\n",
            "There is a non null value:  6\n",
            "There is a non null value:  1\n",
            "There is a non null value:  34\n",
            "There is a non null value:  -23\n",
            "There is a non null value:  -4\n",
            "There is a null value:  0\n"
          ]
        }
      ]
    },
    {
      "cell_type": "markdown",
      "metadata": {
        "id": "dsshscqy7I_s"
      },
      "source": [
        "8. Display the text: \"There is a value you are after: \" and the value when the value is positive and smaller or equal to 4 "
      ]
    },
    {
      "cell_type": "code",
      "metadata": {
        "colab": {
          "base_uri": "https://localhost:8080/"
        },
        "id": "NUgSj2y57JMR",
        "outputId": "449b1222-efb0-455d-9c7b-a7fb23b36d03"
      },
      "source": [
        "for i in a:\n",
        "  if i>0 and i<=4:\n",
        "    print('There is a value you are after: ',i)"
      ],
      "execution_count": 9,
      "outputs": [
        {
          "output_type": "stream",
          "name": "stdout",
          "text": [
            "There is a value you are after:  1\n",
            "There is a value you are after:  4\n",
            "There is a value you are after:  1\n"
          ]
        }
      ]
    }
  ]
}