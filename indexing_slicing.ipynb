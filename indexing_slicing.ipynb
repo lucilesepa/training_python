{
  "nbformat": 4,
  "nbformat_minor": 0,
  "metadata": {
    "colab": {
      "name": "indexing_slicing.ipynb",
      "provenance": [],
      "authorship_tag": "ABX9TyPM47Ectft5Oa3oq9ZxzkWJ",
      "include_colab_link": true
    },
    "kernelspec": {
      "name": "python3",
      "display_name": "Python 3"
    },
    "language_info": {
      "name": "python"
    }
  },
  "cells": [
    {
      "cell_type": "markdown",
      "metadata": {
        "id": "view-in-github",
        "colab_type": "text"
      },
      "source": [
        "<a href=\"https://colab.research.google.com/github/lucilesepa/training_python/blob/main/indexing_slicing.ipynb\" target=\"_parent\"><img src=\"https://colab.research.google.com/assets/colab-badge.svg\" alt=\"Open In Colab\"/></a>"
      ]
    },
    {
      "cell_type": "markdown",
      "metadata": {
        "id": "8Xhx2AyymSQK"
      },
      "source": [
        "# From a pandas dataframe\n",
        "\n",
        "Calls the value m of the column with the name col_header: ```dfa['col_header'][m]```\n",
        "\n",
        "Calls the values m to n-1 of the column with the name col_header:```dfa['col_header'][m:n]```\n",
        "\n",
        "Calls the values p to q of the row r:```dfa.loc[r][p:q]```\n",
        "\n",
        "1. copy paste this into colab, as code, and run it:\n",
        "```\n",
        "cool_data = [['Perth',-3.434661,56.395336], ['Edinburgh', -3.20277, 55.95415], ['Aberdeen', -2.10272, 57.14548],['Inverness',-4.224721,57.477772]]\n",
        "```"
      ]
    }
  ]
}