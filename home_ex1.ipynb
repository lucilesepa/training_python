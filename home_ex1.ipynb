{
  "nbformat": 4,
  "nbformat_minor": 0,
  "metadata": {
    "colab": {
      "name": "home_ex1.ipynb",
      "provenance": [],
      "collapsed_sections": [],
      "toc_visible": true,
      "authorship_tag": "ABX9TyM+ru99+/kjTrHRnwnyOwTa",
      "include_colab_link": true
    },
    "kernelspec": {
      "name": "python3",
      "display_name": "Python 3"
    },
    "language_info": {
      "name": "python"
    }
  },
  "cells": [
    {
      "cell_type": "markdown",
      "metadata": {
        "id": "view-in-github",
        "colab_type": "text"
      },
      "source": [
        "<a href=\"https://colab.research.google.com/github/lucilesepa/training_python/blob/main/home_ex1.ipynb\" target=\"_parent\"><img src=\"https://colab.research.google.com/assets/colab-badge.svg\" alt=\"Open In Colab\"/></a>"
      ]
    },
    {
      "cell_type": "markdown",
      "metadata": {
        "id": "DDc04I9LDyVt"
      },
      "source": [
        "**The home exercises will be a bit different: the theory will be given in one single block, and the exercises will mix up all the known concepts.**\n",
        "\n",
        "# Basic variable type: boolean\n",
        "\n",
        "Booleans can take the value True or False. Actually they are not really variables. They are a data type which a condition.  You have already implicitly used booleans. \n",
        "\n",
        "You see in this example that the condition a>b is, like all the conditions, a boolean:\n"
      ]
    },
    {
      "cell_type": "code",
      "metadata": {
        "colab": {
          "base_uri": "https://localhost:8080/"
        },
        "id": "fElN6P01H5LR",
        "outputId": "5dd15dcb-b899-4683-b7c4-216b8166735c"
      },
      "source": [
        "a=13\n",
        "b=1\n",
        "print(type(a>b))\n",
        "print(a>b)"
      ],
      "execution_count": null,
      "outputs": [
        {
          "output_type": "stream",
          "name": "stdout",
          "text": [
            "<class 'bool'>\n",
            "True\n"
          ]
        }
      ]
    },
    {
      "cell_type": "markdown",
      "metadata": {
        "id": "wJ6WmtdQGyiy"
      },
      "source": [
        "There are many ways to use booleans, but the most common way in data analysis is to use it with if statement, to test whether a condition is fulfilled.\n"
      ]
    },
    {
      "cell_type": "code",
      "metadata": {
        "colab": {
          "base_uri": "https://localhost:8080/"
        },
        "id": "Ud7Oog8rGiRT",
        "outputId": "44b6aae9-6f14-450d-ee37-59339014c049"
      },
      "source": [
        "if a>b:\n",
        "  print('the boolean a>b is true')\n"
      ],
      "execution_count": null,
      "outputs": [
        {
          "output_type": "stream",
          "name": "stdout",
          "text": [
            "the boolean a>b is true\n"
          ]
        }
      ]
    },
    {
      "cell_type": "markdown",
      "metadata": {
        "id": "6gfz2vVFMAt3"
      },
      "source": [
        "# Tuples and dictionnaries\n",
        "\n"
      ]
    },
    {
      "cell_type": "markdown",
      "metadata": {
        "id": "Xx_6Wrz1Yk3G"
      },
      "source": [
        "## Tuples\n",
        "\n",
        "Tuples are one of the 4 built-in data types in Python: \n",
        "sets  which we will not cover as they are very rarely used in data analysis / GIS, dictionnaries, tuples and lists.\n",
        "\n",
        "*Note:* \n",
        "*   Pandas dataframes are not built-in: they require the use of the package Pandas\n",
        "\n",
        "In practice in data analysis /  GIS they are rarely used, but many python functions outputs are tuples.\n",
        "\n",
        "e.g:"
      ]
    },
    {
      "cell_type": "code",
      "metadata": {
        "colab": {
          "base_uri": "https://localhost:8080/"
        },
        "id": "MqkZeNu8P08m",
        "outputId": "b6399d8c-0571-4f4e-9861-537debf7c41f"
      },
      "source": [
        "import numpy as np\n",
        "a=[[1,2,3],[9,1,4]]\n",
        "b=np.array(a)\n",
        "s = b.shape\n",
        "print('the output from .shape is a ',type(s))"
      ],
      "execution_count": null,
      "outputs": [
        {
          "output_type": "stream",
          "name": "stdout",
          "text": [
            "the output from .shape is a  <class 'tuple'>\n"
          ]
        }
      ]
    },
    {
      "cell_type": "markdown",
      "metadata": {
        "id": "MV81VBLER4cI"
      },
      "source": [
        "They are indexed with the regular use of []\n",
        "\n",
        "e.g to use the number of rows of an array:"
      ]
    },
    {
      "cell_type": "code",
      "metadata": {
        "colab": {
          "base_uri": "https://localhost:8080/"
        },
        "id": "xvLfukI_SLGM",
        "outputId": "f6247d33-3c6c-4003-b2d9-dc686df891bf"
      },
      "source": [
        "print('there are ',s[1],' rows in b')"
      ],
      "execution_count": null,
      "outputs": [
        {
          "output_type": "stream",
          "name": "stdout",
          "text": [
            "there are  3  rows in b\n"
          ]
        }
      ]
    },
    {
      "cell_type": "markdown",
      "metadata": {
        "id": "JCLIAzkJUsnF"
      },
      "source": [
        "## Dictionaries\n",
        "\n",
        "They are stored to store paired values.\n",
        "\n",
        "e.g:"
      ]
    },
    {
      "cell_type": "code",
      "metadata": {
        "colab": {
          "base_uri": "https://localhost:8080/"
        },
        "id": "l_5ddNhKWE2B",
        "outputId": "e2eb8334-c0c5-46c6-eb14-f5db0722d689"
      },
      "source": [
        "dict = {\n",
        "  \"name\": \"Glasgow\",\n",
        "  \"population\": 635640,\n",
        "  \"N\": 55.85781,\n",
        "  \"E\": -4.24253\n",
        "}\n",
        "print(dict)"
      ],
      "execution_count": null,
      "outputs": [
        {
          "output_type": "stream",
          "name": "stdout",
          "text": [
            "{'name': 'Glasgow', 'population': 635640, 'N': 55.85781, 'E': -4.24253}\n"
          ]
        }
      ]
    },
    {
      "cell_type": "markdown",
      "metadata": {
        "id": "BrOxMUyqWceZ"
      },
      "source": [
        "A dictionary cannot really be indexed. Instead, they are accessed as such:"
      ]
    },
    {
      "cell_type": "code",
      "metadata": {
        "colab": {
          "base_uri": "https://localhost:8080/",
          "height": 35
        },
        "id": "XmtKfsxjWhAR",
        "outputId": "6b371617-23c7-455f-96f3-d993c52aba66"
      },
      "source": [
        "dict['name']"
      ],
      "execution_count": null,
      "outputs": [
        {
          "output_type": "execute_result",
          "data": {
            "application/vnd.google.colaboratory.intrinsic+json": {
              "type": "string"
            },
            "text/plain": [
              "'Glasgow'"
            ]
          },
          "metadata": {},
          "execution_count": 31
        }
      ]
    },
    {
      "cell_type": "markdown",
      "metadata": {
        "id": "0pZyH-w8ZlaQ"
      },
      "source": [
        "In my experience they are rarely used."
      ]
    },
    {
      "cell_type": "markdown",
      "metadata": {
        "id": "GhJLCIjlZv0p"
      },
      "source": [
        "# More conversions\n",
        "\n",
        "During the session, we have seens the conversions between numpy arrays, pandas dataframes, and lists. Similarily, you can convert floats, integers, strings:"
      ]
    },
    {
      "cell_type": "code",
      "metadata": {
        "colab": {
          "base_uri": "https://localhost:8080/"
        },
        "id": "YL_IU39uaDbV",
        "outputId": "84a26072-9ca0-4f94-e8a2-00e9edd10bca"
      },
      "source": [
        "a = 2\n",
        "b=6.3\n",
        "c='4'\n",
        "print('a=',a)\n",
        "print('b=',b)\n",
        "print('c=',c)\n",
        "print('str(a)=',str(2))\n",
        "print('int(b)=',int(b))\n",
        "print('float(c)=',float(c))"
      ],
      "execution_count": null,
      "outputs": [
        {
          "output_type": "stream",
          "name": "stdout",
          "text": [
            "a= 2\n",
            "b= 6.3\n",
            "c= 4\n",
            "str(a)= 2\n",
            "int(b)= 6\n",
            "float(c)= 4.0\n"
          ]
        }
      ]
    },
    {
      "cell_type": "markdown",
      "metadata": {
        "id": "9ISLfMt_azi4"
      },
      "source": [
        "*Note*: \n",
        "*   You can see that converting a number to an integer will truncate the decimals\n",
        "*   Obviously converting e.g. `m='some string'` to a float will return an error\n",
        "\n"
      ]
    },
    {
      "cell_type": "markdown",
      "metadata": {
        "id": "osxr1jXvfM4P"
      },
      "source": [
        "# Vectorization\n",
        "\n",
        "Vectorization is an important concept that is defined as replacing a for loop and applying the operation of interest on the vector as opposed to applying it on each element of the vector.\n",
        "\n",
        "e.g. a non vectorized addition of 3 to the elements of a vector a and storage of the result in b:\n"
      ]
    },
    {
      "cell_type": "code",
      "metadata": {
        "colab": {
          "base_uri": "https://localhost:8080/"
        },
        "id": "EolgfoUWgNcS",
        "outputId": "1193a6c6-5553-4358-fdea-1618c2e55b50"
      },
      "source": [
        "a=[1,4,6]\n",
        "b=[]\n",
        "for i in a:\n",
        "  b.append(i+3)\n",
        "print(b)"
      ],
      "execution_count": null,
      "outputs": [
        {
          "output_type": "stream",
          "name": "stdout",
          "text": [
            "[4, 7, 9]\n"
          ]
        }
      ]
    },
    {
      "cell_type": "markdown",
      "metadata": {
        "id": "n2zJYAbMgzZx"
      },
      "source": [
        "Vectorized expression:"
      ]
    },
    {
      "cell_type": "code",
      "metadata": {
        "colab": {
          "base_uri": "https://localhost:8080/"
        },
        "id": "hZBqMiZHg26y",
        "outputId": "6b71afdc-1e53-459b-b539-e3fafcc7b331"
      },
      "source": [
        "import numpy as np\n",
        "c=np.array(a)+3\n",
        "print(c)\n",
        "type(c)"
      ],
      "execution_count": null,
      "outputs": [
        {
          "output_type": "stream",
          "name": "stdout",
          "text": [
            "[4 7 9]\n"
          ]
        },
        {
          "output_type": "execute_result",
          "data": {
            "text/plain": [
              "numpy.ndarray"
            ]
          },
          "metadata": {},
          "execution_count": 52
        }
      ]
    },
    {
      "cell_type": "markdown",
      "metadata": {
        "id": "HOcGSl56j_Gd"
      },
      "source": [
        "*Note: b and c are not of the same type. Conversion would be needed to make b and c equal*\n",
        "\n",
        "For loops are very labor-intensive for the computer. Vectorization should always be prefered where possible."
      ]
    },
    {
      "cell_type": "markdown",
      "metadata": {
        "id": "oNsa-R4j5xuN"
      },
      "source": [
        "# NaN values\n",
        "\n",
        "NaN in programming stands for Not a Number. They are considered as a float that does not have a value by the computer. So they are typically ignored when doing arithmetic operations for example. \n",
        "Their use is very common in data analysis.\n",
        "\n",
        "In Python there are several ways to set a value as a NaN, a common way is:\n",
        "```\n",
        "float('nan')\n",
        "```\n",
        "\n",
        "e.g."
      ]
    },
    {
      "cell_type": "code",
      "metadata": {
        "colab": {
          "base_uri": "https://localhost:8080/"
        },
        "id": "647CZyhFGCkj",
        "outputId": "cdf99b91-c9cc-49ba-b178-5f21a93dd995"
      },
      "source": [
        "import numpy as np\n",
        "g=np.array([1,5,float('nan')])\n",
        "h=np.array([-4,3,7])\n",
        "k=g-h\n",
        "print(k)"
      ],
      "execution_count": 116,
      "outputs": [
        {
          "output_type": "stream",
          "name": "stdout",
          "text": [
            "[ 5.  2. nan]\n"
          ]
        }
      ]
    },
    {
      "cell_type": "markdown",
      "metadata": {
        "id": "CSD223qx52LV"
      },
      "source": [
        "# try, except, else statement \n",
        "\n",
        "Some commands return an error which stop the execution of the code. They are called exceptions. \n",
        "You can state that you only want to \"try\" the command:\n",
        "```\n",
        "try:\n",
        "    <do something>\n",
        "except Exception:\n",
        "    <handle the error>\n",
        "else:\n",
        "    <if no exception is raised>\n",
        "```\n",
        "the `else` bloc is optionnal.\n",
        "\n",
        "You will see an example of its use in the section \"add elements to the end of a list\"."
      ]
    },
    {
      "cell_type": "markdown",
      "metadata": {
        "id": "cbyszlAQgVUx"
      },
      "source": [
        "# A few more commands"
      ]
    },
    {
      "cell_type": "markdown",
      "metadata": {
        "id": "IWM2ynxWsgLs"
      },
      "source": [
        "## Add elements to the end of..."
      ]
    },
    {
      "cell_type": "markdown",
      "metadata": {
        "id": "C0Qbzou6gaUb"
      },
      "source": [
        "### ... a list\n",
        "\n",
        "Typically used in for loops to populate a dataset. The formal structure is:\n",
        "```\n",
        "dataset.append(new_value)\n",
        "```\n",
        "e.g. stores into c the results of an addition between a and b\n"
      ]
    },
    {
      "cell_type": "code",
      "metadata": {
        "colab": {
          "base_uri": "https://localhost:8080/"
        },
        "id": "1889EYJNlIFz",
        "outputId": "6529d138-cf5c-48aa-fac9-dc05733f0ccc"
      },
      "source": [
        "m = [1,5,7,8]\n",
        "n=[4,0,-3,5]\n",
        "p=[]\n",
        "for i in range(len(m)):\n",
        "  p.append(m[i]+n[i])\n",
        "print(p)\n",
        "del(p) # needs to delete p otherwise each time this cell is ran, it keeps adding the values to the end of p1"
      ],
      "execution_count": 58,
      "outputs": [
        {
          "output_type": "stream",
          "name": "stdout",
          "text": [
            "[5, 5, 4, 13]\n"
          ]
        }
      ]
    },
    {
      "cell_type": "markdown",
      "metadata": {
        "id": "8gUOSS3Y11t4"
      },
      "source": [
        "*Note*: the previous code is only to demonstrate how .append() works. In real-world coding, this particular code should be vectorized, e.g.\n"
      ]
    },
    {
      "cell_type": "code",
      "metadata": {
        "colab": {
          "base_uri": "https://localhost:8080/"
        },
        "id": "qBoYyE3u2JsX",
        "outputId": "50152e93-4f62-4ce1-c865-93785784de36"
      },
      "source": [
        "import numpy as np\n",
        "p_arr = np.array(m)+np.array(n) \n",
        "print(p_arr)"
      ],
      "execution_count": 59,
      "outputs": [
        {
          "output_type": "stream",
          "name": "stdout",
          "text": [
            "[ 5  5  4 13]\n"
          ]
        },
        {
          "output_type": "execute_result",
          "data": {
            "text/plain": [
              "numpy.ndarray"
            ]
          },
          "metadata": {},
          "execution_count": 59
        }
      ]
    },
    {
      "cell_type": "markdown",
      "metadata": {
        "id": "jxl5Yr84xjs5"
      },
      "source": [
        "### ... a numpy array\n",
        "\n",
        "This works like .append() for lists, except that the axis needs to be specified, othewise 2D arrays will be flattened. As for the pandas dataframes:\n",
        "\n",
        "*   The command `np.array(arr1,arr2,*axis*)` does not really append arr2 to arr1: it concatenates them. \n",
        "*   arr1 and arr2 have to be numpy arrays or lists (it cannot be values like for lists)"
      ]
    },
    {
      "cell_type": "code",
      "metadata": {
        "colab": {
          "base_uri": "https://localhost:8080/"
        },
        "id": "lh37xt9fxzHr",
        "outputId": "edce1b97-becd-4d1a-8a03-a99255c3f514"
      },
      "source": [
        "import numpy as np\n",
        "ar1 = np.array([[1, 2],[3, 4]])\n",
        "ar2 = np.array([[5, 6],[7, 8]])\n",
        "ar1_a = np.append(ar1, ar2)\n",
        "ar1_b = np.append(ar1, ar2, axis=0)\n",
        "ar1_c = np.append(ar1, ar2, axis=1)\n",
        "print(ar1_a)\n",
        "print(ar1_b)\n",
        "print(ar1_c)"
      ],
      "execution_count": 50,
      "outputs": [
        {
          "output_type": "stream",
          "name": "stdout",
          "text": [
            "[1 2 3 4 5 6 7 8]\n",
            "[[1 2]\n",
            " [3 4]\n",
            " [5 6]\n",
            " [7 8]]\n",
            "[[1 2 5 6]\n",
            " [3 4 7 8]]\n"
          ]
        }
      ]
    },
    {
      "cell_type": "markdown",
      "metadata": {
        "id": "wT958jqUsst4"
      },
      "source": [
        "### ... a pandas dataframe\n",
        "\n",
        "It broadly works the same way for dataframes as for lists. However, because Pandas have been developped more or less separately from the core of Python, the syntax is not exactly the same:\n",
        "\n",
        "\n",
        "*   The command `df.append(df2)` does not suffice to add df2 to df: you need to store it in a variable. \n",
        "*   df2 has to be a dataframe (it cannot be values like for lists)\n",
        "\n",
        "Also, the rows indexes will stay the same as in the 2 original dataframes df and df2, unless `ignore_index = True` is specified\n",
        "\n",
        "e.g. adds a dataframe df_n to a dataframe df_m"
      ]
    },
    {
      "cell_type": "code",
      "metadata": {
        "colab": {
          "base_uri": "https://localhost:8080/"
        },
        "id": "WJlPAFxZptfj",
        "outputId": "c4f22ab1-12f9-4f1c-a8a1-40691aaf97ec"
      },
      "source": [
        "import pandas as pd\n",
        "df_m=pd.DataFrame(m)\n",
        "df_n=pd.DataFrame(n)\n",
        "df_m = df_m.append(df_n,ignore_index = True)\n",
        "print(df_m)"
      ],
      "execution_count": 28,
      "outputs": [
        {
          "output_type": "stream",
          "name": "stdout",
          "text": [
            "   0\n",
            "0  1\n",
            "1  5\n",
            "2  7\n",
            "3  8\n",
            "4  4\n",
            "5  0\n",
            "6 -3\n",
            "7  5\n"
          ]
        }
      ]
    },
    {
      "cell_type": "markdown",
      "metadata": {
        "id": "bdPgHDiJSgQc"
      },
      "source": [
        "**Important note:** In theory, appending is adding values to an existing dataset, while concatenating is joining two datasets."
      ]
    },
    {
      "cell_type": "markdown",
      "metadata": {
        "id": "x5HGfUeAgcgc"
      },
      "source": [
        "## Find an element / the index of an element in..."
      ]
    },
    {
      "cell_type": "markdown",
      "metadata": {
        "id": "dUFyEtLp5Yn0"
      },
      "source": [
        "\n",
        "### ... a list\n",
        "\n",
        "Finding the index of a value value_to_find in a list is easy:\n",
        "General code to find the index of an element in a list:\n",
        "```\n",
        "mylist.index(value_to_find)\n",
        "```\n",
        "\n",
        "*Note*: the code returns an error if the value value_to_find isn't in mylist. \n",
        "\n",
        "e.g. find the index of the values 4 and 5 in a list. if the value doesn't exist, fills the variable with NaN\n",
        "\n"
      ]
    },
    {
      "cell_type": "code",
      "metadata": {
        "colab": {
          "base_uri": "https://localhost:8080/"
        },
        "id": "nGNVaekv5ekY",
        "outputId": "c165d4da-b73a-4138-d84f-eaedc585b3d6"
      },
      "source": [
        "a=[87,8,12,9,10]\n",
        "\n",
        "try:\n",
        "  a.index(8)\n",
        "except ValueError:\n",
        "  b=float(\"nan\")\n",
        "else:\n",
        "  b=a.index(8)\n",
        "\n",
        "try:\n",
        "  a.index(5)\n",
        "except ValueError:\n",
        "  c=float(\"nan\")\n",
        "else:\n",
        "  c=a.index(5)\n",
        "\n",
        "print(b)\n",
        "print(c)"
      ],
      "execution_count": 64,
      "outputs": [
        {
          "output_type": "stream",
          "name": "stdout",
          "text": [
            "1\n",
            "nan\n"
          ]
        }
      ]
    },
    {
      "cell_type": "markdown",
      "metadata": {
        "id": "jnqzDZf9BgUS"
      },
      "source": [
        "### ... a numpy array\n",
        "\n",
        "Finding an element in a numpy array is similar to the syntax for a pandas dataframe: \n",
        "```\n",
        "array.where(expression)\n",
        "```\n",
        "with `expression` being very similar in syntax to a SQL query.\n",
        "However as for a pandas dataframe, another step is needed before you can easily access the indexes\n",
        "\n",
        "e.g."
      ]
    },
    {
      "cell_type": "code",
      "metadata": {
        "colab": {
          "base_uri": "https://localhost:8080/"
        },
        "id": "FOnjVlMGB4Ga",
        "outputId": "8547408a-f841-4d83-a1f8-f2fd704de401"
      },
      "source": [
        "\n",
        "# create numpy array elements\n",
        "a = np.array([2, 3, 4, 5, 6, 45, 67, 34])\n",
        "x=np.where(a > 20)[0][:] # the result of array.where() is a tuple that contains an array of the indexes at the position 0\n",
        "print(x)\n",
        "type(x)"
      ],
      "execution_count": 121,
      "outputs": [
        {
          "output_type": "stream",
          "name": "stdout",
          "text": [
            "[5 6 7]\n"
          ]
        },
        {
          "output_type": "execute_result",
          "data": {
            "text/plain": [
              "RangeIndex(start=0, stop=3, step=1)"
            ]
          },
          "metadata": {},
          "execution_count": 121
        }
      ]
    },
    {
      "cell_type": "markdown",
      "metadata": {
        "id": "dR83_NcM5hDx"
      },
      "source": [
        "### ... a Pandas dataframe\n",
        "\n",
        "Finding an element in a pandas dataframe is similar to the syntax for a numpy array: \n",
        "\n",
        "```\n",
        "df.query(expression)\n",
        "```\n",
        "with `expression` being very similar in syntax to a SQL query.\n",
        "However you will then need to use `.index` command to get the indices, and convert it to a list (or any other type of dataset that you want)\n",
        "e.g."
      ]
    },
    {
      "cell_type": "code",
      "metadata": {
        "colab": {
          "base_uri": "https://localhost:8080/"
        },
        "id": "XlGxavso5juz",
        "outputId": "ac2c0001-18f1-46e2-df90-c3379a20f3d4"
      },
      "source": [
        "import pandas as pd\n",
        "df=pd.DataFrame({'letters':['a','b','c'],'numbers1':[10,20,30],'numbers2':[0,30,10]})\n",
        "print(df)\n",
        "df_querya=df.query('letters == \"a\"')\n",
        "df_query30=df.query('numbers1 == 30 or numbers2 == 30')\n",
        "df_query50=df.query('numbers1 == 50')\n",
        "print(type(df_query30))\n",
        "list(df_query30.index) # note the conversion of the result of the query (a specific type of int) to an easy-to-handle list"
      ],
      "execution_count": 118,
      "outputs": [
        {
          "output_type": "stream",
          "name": "stdout",
          "text": [
            "  letters  numbers1  numbers2\n",
            "0       a        10         0\n",
            "1       b        20        30\n",
            "2       c        30        10\n",
            "<class 'pandas.core.frame.DataFrame'>\n"
          ]
        },
        {
          "output_type": "execute_result",
          "data": {
            "text/plain": [
              "[1, 2]"
            ]
          },
          "metadata": {},
          "execution_count": 118
        }
      ]
    },
    {
      "cell_type": "markdown",
      "metadata": {
        "id": "6YGUOFWNInKa"
      },
      "source": [
        "# Final remarks\n",
        "\n",
        "\n",
        "\n",
        "*   As you can see, the handling of lists, numpy arrays, and pandas dataframe is not consistant in Python: they each have their specific commands. Some commands may exist for more than 1 of those types of dataset, but their output can be very different. \n",
        "*   Juggling between several types of datasets is core in Python: you will get use to them with time.\n",
        "*   Don't hesitate to go online to find answers.\n"
      ]
    },
    {
      "cell_type": "markdown",
      "metadata": {
        "id": "DJW9XmuhJsUC"
      },
      "source": [
        "# Exercises\n",
        "\n",
        "*   The exercises are more or less in increasing order of difficulty.\n",
        "*   There are many ways to solve each exercise. Try to be as efficient as possible. The answer provided is only there as an example. Don't hesitate to ask if you are not sure about your answer, or if you are stuck\n",
        "\n"
      ]
    },
    {
      "cell_type": "markdown",
      "metadata": {
        "id": "jLOUIayiJv7h"
      },
      "source": [
        "## Exercise 1\n",
        "Your are given this dataset:\n",
        "```\n",
        "cool_data = [['Perth',-4.434661,56.395336], ['Edinburgh', -4.20277, 55.95415], ['Aberdeen', -184.10272, 58.14548],['Inverness',-4.224721,58.477772],['Glasgow',-999,55.85781]]\n",
        "```\n",
        "Unfortunately there has been some problems with the projections: -1 degree has been applied to the latitudes, and +1 has been applied to the longitudes above 57 degrees.\n",
        "\n",
        "Fix this dataset (but keep the original), and get rid of any strange value.\n",
        "\n"
      ]
    },
    {
      "cell_type": "markdown",
      "metadata": {
        "id": "mdO8I5bAMpMi"
      },
      "source": [
        "## Exercise 2\n",
        "\n",
        "*This exercise is a classic! Again, there are many ways to solve it, and you might even come up with a better solution than me!*\n",
        "\n",
        "Create a nice christmas tree consisting of 10 rows of the character `*` and 2 rows of the character `|`, so that it looks like that:\n",
        "\n",
        "Tip: a pen and a paper might help you to tackle this\n",
        "\n"
      ]
    },
    {
      "cell_type": "code",
      "metadata": {
        "colab": {
          "base_uri": "https://localhost:8080/"
        },
        "id": "tf9eIsjPJvVn",
        "outputId": "5a30e7bb-1ec1-46a0-f455-55922349e390"
      },
      "source": [
        "nb_rows_tree = 10\n",
        "nb_rows_trunc = 2\n",
        "\n",
        "n=nb_rows\n",
        "for i in range (nb_rows_tree):\n",
        "  print(' '*(n),'x'*(2*i+1))\n",
        "  n=n-1\n",
        "for j in range(nb_rows_tree+1,nb_rows_tree+1+nb_rows_trunc):\n",
        "  print(' '*(nb_rows-1),'|'*3)"
      ],
      "execution_count": 132,
      "outputs": [
        {
          "output_type": "stream",
          "name": "stdout",
          "text": [
            "           x\n",
            "          xxx\n",
            "         xxxxx\n",
            "        xxxxxxx\n",
            "       xxxxxxxxx\n",
            "      xxxxxxxxxxx\n",
            "     xxxxxxxxxxxxx\n",
            "    xxxxxxxxxxxxxxx\n",
            "   xxxxxxxxxxxxxxxxx\n",
            "  xxxxxxxxxxxxxxxxxxx\n",
            "          |||\n",
            "          |||\n"
          ]
        }
      ]
    }
  ]
}