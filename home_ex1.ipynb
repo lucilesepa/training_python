{
  "nbformat": 4,
  "nbformat_minor": 0,
  "metadata": {
    "colab": {
      "name": "home_ex1.ipynb",
      "provenance": [],
      "toc_visible": true,
      "authorship_tag": "ABX9TyN43171oADUTy8F4m2/Qhah",
      "include_colab_link": true
    },
    "kernelspec": {
      "name": "python3",
      "display_name": "Python 3"
    },
    "language_info": {
      "name": "python"
    }
  },
  "cells": [
    {
      "cell_type": "markdown",
      "metadata": {
        "id": "view-in-github",
        "colab_type": "text"
      },
      "source": [
        "<a href=\"https://colab.research.google.com/github/lucilesepa/training_python/blob/main/home_ex1.ipynb\" target=\"_parent\"><img src=\"https://colab.research.google.com/assets/colab-badge.svg\" alt=\"Open In Colab\"/></a>"
      ]
    },
    {
      "cell_type": "markdown",
      "metadata": {
        "id": "DDc04I9LDyVt"
      },
      "source": [
        "The home exercises will be a bit different: the theory will be given in one single block, and the exercises will mix up all the known concepts.\n",
        "\n",
        "# Basic variable type: boolean\n",
        "\n",
        "Booleans can take the value True or False. Actually they are not really variables. They are a data type which a condition.  You have already implicitly used booleans. \n",
        "\n",
        "You see in this example that the condition a>b is, like all the conditions, a boolean:\n"
      ]
    },
    {
      "cell_type": "code",
      "metadata": {
        "colab": {
          "base_uri": "https://localhost:8080/"
        },
        "id": "fElN6P01H5LR",
        "outputId": "5dd15dcb-b899-4683-b7c4-216b8166735c"
      },
      "source": [
        "a=13\n",
        "b=1\n",
        "print(type(a>b))\n",
        "print(a>b)"
      ],
      "execution_count": 4,
      "outputs": [
        {
          "output_type": "stream",
          "name": "stdout",
          "text": [
            "<class 'bool'>\n",
            "True\n"
          ]
        }
      ]
    },
    {
      "cell_type": "markdown",
      "metadata": {
        "id": "wJ6WmtdQGyiy"
      },
      "source": [
        "There are many ways to use booleans, but the most common way in data analysis is to use it with if statement, to test whether a condition is fulfilled.\n"
      ]
    },
    {
      "cell_type": "code",
      "metadata": {
        "colab": {
          "base_uri": "https://localhost:8080/"
        },
        "id": "Ud7Oog8rGiRT",
        "outputId": "44b6aae9-6f14-450d-ee37-59339014c049"
      },
      "source": [
        "if a>b:\n",
        "  print('the boolean a>b is true')\n"
      ],
      "execution_count": 11,
      "outputs": [
        {
          "output_type": "stream",
          "name": "stdout",
          "text": [
            "the boolean a>b is true\n"
          ]
        }
      ]
    },
    {
      "cell_type": "markdown",
      "metadata": {
        "id": "6gfz2vVFMAt3"
      },
      "source": [
        "# Tuples and dictionnaries\n",
        "\n",
        "## Tuples\n",
        "\n",
        "Tuples are one of the 4 built-in data types in Python: \n",
        "sets  which we will not cover as they are very rarely used in data analysis / GIS, dictionnaries, tuples and lists.\n",
        "\n",
        "*Note:* \n",
        "*   Pandas dataframes are not built-in: they require the use of the package Pandas\n",
        "\n",
        "In practice in data analysis /  GIS they are rarely used, but many python functions outputs are tuples.\n",
        "\n",
        "e.g:\n"
      ]
    },
    {
      "cell_type": "code",
      "metadata": {
        "colab": {
          "base_uri": "https://localhost:8080/"
        },
        "id": "MqkZeNu8P08m",
        "outputId": "b6399d8c-0571-4f4e-9861-537debf7c41f"
      },
      "source": [
        "import numpy as np\n",
        "a=[[1,2,3],[9,1,4]]\n",
        "b=np.array(a)\n",
        "s = b.shape\n",
        "print('the output from .shape is a ',type(s))"
      ],
      "execution_count": 15,
      "outputs": [
        {
          "output_type": "stream",
          "name": "stdout",
          "text": [
            "the output from .shape is a  <class 'tuple'>\n"
          ]
        }
      ]
    },
    {
      "cell_type": "markdown",
      "metadata": {
        "id": "MV81VBLER4cI"
      },
      "source": [
        "They are indexed with the regular use of []\n",
        "\n",
        "e.g to use the number of rows of an array:"
      ]
    },
    {
      "cell_type": "code",
      "metadata": {
        "colab": {
          "base_uri": "https://localhost:8080/"
        },
        "id": "xvLfukI_SLGM",
        "outputId": "f6247d33-3c6c-4003-b2d9-dc686df891bf"
      },
      "source": [
        "print('there are ',s[1],' rows in b')"
      ],
      "execution_count": 18,
      "outputs": [
        {
          "output_type": "stream",
          "name": "stdout",
          "text": [
            "there are  3  rows in b\n"
          ]
        }
      ]
    },
    {
      "cell_type": "markdown",
      "metadata": {
        "id": "JCLIAzkJUsnF"
      },
      "source": [
        "## Dictionaries\n",
        "\n",
        "They are stored to store paired values.\n",
        "\n",
        "e.g:"
      ]
    },
    {
      "cell_type": "code",
      "metadata": {
        "id": "l_5ddNhKWE2B",
        "outputId": "e2eb8334-c0c5-46c6-eb14-f5db0722d689",
        "colab": {
          "base_uri": "https://localhost:8080/"
        }
      },
      "source": [
        "dict = {\n",
        "  \"name\": \"Glasgow\",\n",
        "  \"population\": 635640,\n",
        "  \"N\": 55.85781,\n",
        "  \"E\": -4.24253\n",
        "}\n",
        "print(dict)"
      ],
      "execution_count": 23,
      "outputs": [
        {
          "output_type": "stream",
          "name": "stdout",
          "text": [
            "{'name': 'Glasgow', 'population': 635640, 'N': 55.85781, 'E': -4.24253}\n"
          ]
        }
      ]
    },
    {
      "cell_type": "markdown",
      "metadata": {
        "id": "BrOxMUyqWceZ"
      },
      "source": [
        "A dictionary cannot really be indexed. Instead, they are accessed as such:"
      ]
    },
    {
      "cell_type": "code",
      "metadata": {
        "id": "XmtKfsxjWhAR",
        "outputId": "6b371617-23c7-455f-96f3-d993c52aba66",
        "colab": {
          "base_uri": "https://localhost:8080/",
          "height": 35
        }
      },
      "source": [
        "dict['name']"
      ],
      "execution_count": 31,
      "outputs": [
        {
          "output_type": "execute_result",
          "data": {
            "application/vnd.google.colaboratory.intrinsic+json": {
              "type": "string"
            },
            "text/plain": [
              "'Glasgow'"
            ]
          },
          "metadata": {},
          "execution_count": 31
        }
      ]
    }
  ]
}