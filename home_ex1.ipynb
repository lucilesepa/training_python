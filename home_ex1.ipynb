{
  "nbformat": 4,
  "nbformat_minor": 0,
  "metadata": {
    "colab": {
      "name": "home_ex1.ipynb",
      "provenance": [],
      "collapsed_sections": [],
      "authorship_tag": "ABX9TyO28VO0Zg7vnxC4/4v8jCZ4",
      "include_colab_link": true
    },
    "kernelspec": {
      "name": "python3",
      "display_name": "Python 3"
    },
    "language_info": {
      "name": "python"
    }
  },
  "cells": [
    {
      "cell_type": "markdown",
      "metadata": {
        "id": "view-in-github",
        "colab_type": "text"
      },
      "source": [
        "<a href=\"https://colab.research.google.com/github/lucilesepa/training_python/blob/main/home_ex1.ipynb\" target=\"_parent\"><img src=\"https://colab.research.google.com/assets/colab-badge.svg\" alt=\"Open In Colab\"/></a>"
      ]
    },
    {
      "cell_type": "markdown",
      "metadata": {
        "id": "DDc04I9LDyVt"
      },
      "source": [
        "**The home exercises will be a bit different: the theory will be given in one single block, and the exercises will mix up all the known concepts.**\n",
        "\n",
        "# Basic variable type: boolean\n",
        "\n",
        "Booleans can take the value True or False. Actually they are not really variables. They are a data type which a condition.  You have already implicitly used booleans. \n",
        "\n",
        "You see in this example that the condition a>b is, like all the conditions, a boolean:\n"
      ]
    },
    {
      "cell_type": "code",
      "metadata": {
        "colab": {
          "base_uri": "https://localhost:8080/"
        },
        "id": "fElN6P01H5LR",
        "outputId": "5dd15dcb-b899-4683-b7c4-216b8166735c"
      },
      "source": [
        "a=13\n",
        "b=1\n",
        "print(type(a>b))\n",
        "print(a>b)"
      ],
      "execution_count": 4,
      "outputs": [
        {
          "output_type": "stream",
          "name": "stdout",
          "text": [
            "<class 'bool'>\n",
            "True\n"
          ]
        }
      ]
    },
    {
      "cell_type": "markdown",
      "metadata": {
        "id": "wJ6WmtdQGyiy"
      },
      "source": [
        "There are many ways to use booleans, but the most common way in data analysis is to use it with if statement, to test whether a condition is fulfilled.\n"
      ]
    },
    {
      "cell_type": "code",
      "metadata": {
        "colab": {
          "base_uri": "https://localhost:8080/"
        },
        "id": "Ud7Oog8rGiRT",
        "outputId": "44b6aae9-6f14-450d-ee37-59339014c049"
      },
      "source": [
        "if a>b:\n",
        "  print('the boolean a>b is true')\n"
      ],
      "execution_count": 11,
      "outputs": [
        {
          "output_type": "stream",
          "name": "stdout",
          "text": [
            "the boolean a>b is true\n"
          ]
        }
      ]
    },
    {
      "cell_type": "markdown",
      "metadata": {
        "id": "6gfz2vVFMAt3"
      },
      "source": [
        "# Tuples and dictionnaries\n",
        "\n"
      ]
    },
    {
      "cell_type": "markdown",
      "metadata": {
        "id": "Xx_6Wrz1Yk3G"
      },
      "source": [
        "## Tuples\n",
        "\n",
        "Tuples are one of the 4 built-in data types in Python: \n",
        "sets  which we will not cover as they are very rarely used in data analysis / GIS, dictionnaries, tuples and lists.\n",
        "\n",
        "*Note:* \n",
        "*   Pandas dataframes are not built-in: they require the use of the package Pandas\n",
        "\n",
        "In practice in data analysis /  GIS they are rarely used, but many python functions outputs are tuples.\n",
        "\n",
        "e.g:"
      ]
    },
    {
      "cell_type": "code",
      "metadata": {
        "colab": {
          "base_uri": "https://localhost:8080/"
        },
        "id": "MqkZeNu8P08m",
        "outputId": "b6399d8c-0571-4f4e-9861-537debf7c41f"
      },
      "source": [
        "import numpy as np\n",
        "a=[[1,2,3],[9,1,4]]\n",
        "b=np.array(a)\n",
        "s = b.shape\n",
        "print('the output from .shape is a ',type(s))"
      ],
      "execution_count": 15,
      "outputs": [
        {
          "output_type": "stream",
          "name": "stdout",
          "text": [
            "the output from .shape is a  <class 'tuple'>\n"
          ]
        }
      ]
    },
    {
      "cell_type": "markdown",
      "metadata": {
        "id": "MV81VBLER4cI"
      },
      "source": [
        "They are indexed with the regular use of []\n",
        "\n",
        "e.g to use the number of rows of an array:"
      ]
    },
    {
      "cell_type": "code",
      "metadata": {
        "colab": {
          "base_uri": "https://localhost:8080/"
        },
        "id": "xvLfukI_SLGM",
        "outputId": "f6247d33-3c6c-4003-b2d9-dc686df891bf"
      },
      "source": [
        "print('there are ',s[1],' rows in b')"
      ],
      "execution_count": 18,
      "outputs": [
        {
          "output_type": "stream",
          "name": "stdout",
          "text": [
            "there are  3  rows in b\n"
          ]
        }
      ]
    },
    {
      "cell_type": "markdown",
      "metadata": {
        "id": "JCLIAzkJUsnF"
      },
      "source": [
        "## Dictionaries\n",
        "\n",
        "They are stored to store paired values.\n",
        "\n",
        "e.g:"
      ]
    },
    {
      "cell_type": "code",
      "metadata": {
        "colab": {
          "base_uri": "https://localhost:8080/"
        },
        "id": "l_5ddNhKWE2B",
        "outputId": "e2eb8334-c0c5-46c6-eb14-f5db0722d689"
      },
      "source": [
        "dict = {\n",
        "  \"name\": \"Glasgow\",\n",
        "  \"population\": 635640,\n",
        "  \"N\": 55.85781,\n",
        "  \"E\": -4.24253\n",
        "}\n",
        "print(dict)"
      ],
      "execution_count": 23,
      "outputs": [
        {
          "output_type": "stream",
          "name": "stdout",
          "text": [
            "{'name': 'Glasgow', 'population': 635640, 'N': 55.85781, 'E': -4.24253}\n"
          ]
        }
      ]
    },
    {
      "cell_type": "markdown",
      "metadata": {
        "id": "BrOxMUyqWceZ"
      },
      "source": [
        "A dictionary cannot really be indexed. Instead, they are accessed as such:"
      ]
    },
    {
      "cell_type": "code",
      "metadata": {
        "colab": {
          "base_uri": "https://localhost:8080/",
          "height": 35
        },
        "id": "XmtKfsxjWhAR",
        "outputId": "6b371617-23c7-455f-96f3-d993c52aba66"
      },
      "source": [
        "dict['name']"
      ],
      "execution_count": 31,
      "outputs": [
        {
          "output_type": "execute_result",
          "data": {
            "application/vnd.google.colaboratory.intrinsic+json": {
              "type": "string"
            },
            "text/plain": [
              "'Glasgow'"
            ]
          },
          "metadata": {},
          "execution_count": 31
        }
      ]
    },
    {
      "cell_type": "markdown",
      "metadata": {
        "id": "0pZyH-w8ZlaQ"
      },
      "source": [
        "In my experience they are rarely used."
      ]
    },
    {
      "cell_type": "markdown",
      "metadata": {
        "id": "GhJLCIjlZv0p"
      },
      "source": [
        "# A few more conversions\n",
        "\n",
        "During the session, we have seens the conversions between numpy arrays, pandas dataframes, and lists. Similarily, you can convert floats, integers, strings:"
      ]
    },
    {
      "cell_type": "code",
      "metadata": {
        "colab": {
          "base_uri": "https://localhost:8080/"
        },
        "id": "YL_IU39uaDbV",
        "outputId": "84a26072-9ca0-4f94-e8a2-00e9edd10bca"
      },
      "source": [
        "a = 2\n",
        "b=6.3\n",
        "c='4'\n",
        "print('a=',a)\n",
        "print('b=',b)\n",
        "print('c=',c)\n",
        "print('str(a)=',str(2))\n",
        "print('int(b)=',int(b))\n",
        "print('float(c)=',float(c))"
      ],
      "execution_count": 41,
      "outputs": [
        {
          "output_type": "stream",
          "name": "stdout",
          "text": [
            "a= 2\n",
            "b= 6.3\n",
            "c= 4\n",
            "str(a)= 2\n",
            "int(b)= 6\n",
            "float(c)= 4.0\n"
          ]
        }
      ]
    },
    {
      "cell_type": "markdown",
      "metadata": {
        "id": "9ISLfMt_azi4"
      },
      "source": [
        "*Note*: \n",
        "*   You can see that converting a number to an integer will truncate the decimals\n",
        "*   Obviously converting e.g. `m='some string'` to a float will return an error\n",
        "\n"
      ]
    },
    {
      "cell_type": "markdown",
      "metadata": {
        "id": "cbyszlAQgVUx"
      },
      "source": [
        "# A few more commands"
      ]
    },
    {
      "cell_type": "markdown",
      "metadata": {
        "id": "C0Qbzou6gaUb"
      },
      "source": [
        "## Add elements to the end of a dataset .append()\n",
        "\n",
        "Typically used in for loops to populate an empty pre-defined dataset. The formal structure is:\n",
        "```\n",
        "dataset.append(new_value)\n",
        "```\n",
        "\n",
        "e.g. stores into c the results of an addition between a and b\n"
      ]
    },
    {
      "cell_type": "code",
      "metadata": {
        "colab": {
          "base_uri": "https://localhost:8080/",
          "height": 554
        },
        "id": "1889EYJNlIFz",
        "outputId": "6480ca06-8480-4d83-b648-8dde12d654a3"
      },
      "source": [
        "import pandas as pd\n",
        "a=pd.DataFrame([2,4,7])\n",
        "b=pd.DataFrame([7,8,9])\n",
        "c=pd.DataFrame([])\n",
        "for i in range(len(a)):\n",
        "  c[i]=a[i]+b[i]"
      ],
      "execution_count": 68,
      "outputs": [
        {
          "output_type": "stream",
          "name": "stdout",
          "text": [
            "Empty DataFrame\n",
            "Columns: []\n",
            "Index: []\n",
            "a[ 0 ]= 0    2\n",
            "1    4\n",
            "2    7\n",
            "Name: 0, dtype: int64\n"
          ]
        },
        {
          "output_type": "error",
          "ename": "KeyError",
          "evalue": "ignored",
          "traceback": [
            "\u001b[0;31m---------------------------------------------------------------------------\u001b[0m",
            "\u001b[0;31mValueError\u001b[0m                                Traceback (most recent call last)",
            "\u001b[0;32m/usr/local/lib/python3.7/dist-packages/pandas/core/indexes/range.py\u001b[0m in \u001b[0;36mget_loc\u001b[0;34m(self, key, method, tolerance)\u001b[0m\n\u001b[1;32m    354\u001b[0m                 \u001b[0;32mtry\u001b[0m\u001b[0;34m:\u001b[0m\u001b[0;34m\u001b[0m\u001b[0;34m\u001b[0m\u001b[0m\n\u001b[0;32m--> 355\u001b[0;31m                     \u001b[0;32mreturn\u001b[0m \u001b[0mself\u001b[0m\u001b[0;34m.\u001b[0m\u001b[0m_range\u001b[0m\u001b[0;34m.\u001b[0m\u001b[0mindex\u001b[0m\u001b[0;34m(\u001b[0m\u001b[0mnew_key\u001b[0m\u001b[0;34m)\u001b[0m\u001b[0;34m\u001b[0m\u001b[0;34m\u001b[0m\u001b[0m\n\u001b[0m\u001b[1;32m    356\u001b[0m                 \u001b[0;32mexcept\u001b[0m \u001b[0mValueError\u001b[0m \u001b[0;32mas\u001b[0m \u001b[0merr\u001b[0m\u001b[0;34m:\u001b[0m\u001b[0;34m\u001b[0m\u001b[0;34m\u001b[0m\u001b[0m\n",
            "\u001b[0;31mValueError\u001b[0m: 1 is not in range",
            "\nThe above exception was the direct cause of the following exception:\n",
            "\u001b[0;31mKeyError\u001b[0m                                  Traceback (most recent call last)",
            "\u001b[0;32m<ipython-input-68-c1a1f9c6b150>\u001b[0m in \u001b[0;36m<module>\u001b[0;34m()\u001b[0m\n\u001b[1;32m      5\u001b[0m \u001b[0mprint\u001b[0m\u001b[0;34m(\u001b[0m\u001b[0mc\u001b[0m\u001b[0;34m)\u001b[0m\u001b[0;34m\u001b[0m\u001b[0;34m\u001b[0m\u001b[0m\n\u001b[1;32m      6\u001b[0m \u001b[0;32mfor\u001b[0m \u001b[0mi\u001b[0m \u001b[0;32min\u001b[0m \u001b[0mrange\u001b[0m\u001b[0;34m(\u001b[0m\u001b[0mlen\u001b[0m\u001b[0;34m(\u001b[0m\u001b[0ma\u001b[0m\u001b[0;34m)\u001b[0m\u001b[0;34m)\u001b[0m\u001b[0;34m:\u001b[0m\u001b[0;34m\u001b[0m\u001b[0;34m\u001b[0m\u001b[0m\n\u001b[0;32m----> 7\u001b[0;31m   \u001b[0mprint\u001b[0m\u001b[0;34m(\u001b[0m\u001b[0;34m'a['\u001b[0m\u001b[0;34m,\u001b[0m\u001b[0mi\u001b[0m\u001b[0;34m,\u001b[0m\u001b[0;34m']='\u001b[0m\u001b[0;34m,\u001b[0m\u001b[0ma\u001b[0m\u001b[0;34m[\u001b[0m\u001b[0mi\u001b[0m\u001b[0;34m]\u001b[0m\u001b[0;34m)\u001b[0m\u001b[0;34m\u001b[0m\u001b[0;34m\u001b[0m\u001b[0m\n\u001b[0m\u001b[1;32m      8\u001b[0m   \u001b[0mc\u001b[0m\u001b[0;34m[\u001b[0m\u001b[0mi\u001b[0m\u001b[0;34m]\u001b[0m\u001b[0;34m=\u001b[0m\u001b[0ma\u001b[0m\u001b[0;34m[\u001b[0m\u001b[0mi\u001b[0m\u001b[0;34m]\u001b[0m\u001b[0;34m+\u001b[0m\u001b[0mb\u001b[0m\u001b[0;34m[\u001b[0m\u001b[0mi\u001b[0m\u001b[0;34m]\u001b[0m\u001b[0;34m\u001b[0m\u001b[0;34m\u001b[0m\u001b[0m\n",
            "\u001b[0;32m/usr/local/lib/python3.7/dist-packages/pandas/core/frame.py\u001b[0m in \u001b[0;36m__getitem__\u001b[0;34m(self, key)\u001b[0m\n\u001b[1;32m   2904\u001b[0m             \u001b[0;32mif\u001b[0m \u001b[0mself\u001b[0m\u001b[0;34m.\u001b[0m\u001b[0mcolumns\u001b[0m\u001b[0;34m.\u001b[0m\u001b[0mnlevels\u001b[0m \u001b[0;34m>\u001b[0m \u001b[0;36m1\u001b[0m\u001b[0;34m:\u001b[0m\u001b[0;34m\u001b[0m\u001b[0;34m\u001b[0m\u001b[0m\n\u001b[1;32m   2905\u001b[0m                 \u001b[0;32mreturn\u001b[0m \u001b[0mself\u001b[0m\u001b[0;34m.\u001b[0m\u001b[0m_getitem_multilevel\u001b[0m\u001b[0;34m(\u001b[0m\u001b[0mkey\u001b[0m\u001b[0;34m)\u001b[0m\u001b[0;34m\u001b[0m\u001b[0;34m\u001b[0m\u001b[0m\n\u001b[0;32m-> 2906\u001b[0;31m             \u001b[0mindexer\u001b[0m \u001b[0;34m=\u001b[0m \u001b[0mself\u001b[0m\u001b[0;34m.\u001b[0m\u001b[0mcolumns\u001b[0m\u001b[0;34m.\u001b[0m\u001b[0mget_loc\u001b[0m\u001b[0;34m(\u001b[0m\u001b[0mkey\u001b[0m\u001b[0;34m)\u001b[0m\u001b[0;34m\u001b[0m\u001b[0;34m\u001b[0m\u001b[0m\n\u001b[0m\u001b[1;32m   2907\u001b[0m             \u001b[0;32mif\u001b[0m \u001b[0mis_integer\u001b[0m\u001b[0;34m(\u001b[0m\u001b[0mindexer\u001b[0m\u001b[0;34m)\u001b[0m\u001b[0;34m:\u001b[0m\u001b[0;34m\u001b[0m\u001b[0;34m\u001b[0m\u001b[0m\n\u001b[1;32m   2908\u001b[0m                 \u001b[0mindexer\u001b[0m \u001b[0;34m=\u001b[0m \u001b[0;34m[\u001b[0m\u001b[0mindexer\u001b[0m\u001b[0;34m]\u001b[0m\u001b[0;34m\u001b[0m\u001b[0;34m\u001b[0m\u001b[0m\n",
            "\u001b[0;32m/usr/local/lib/python3.7/dist-packages/pandas/core/indexes/range.py\u001b[0m in \u001b[0;36mget_loc\u001b[0;34m(self, key, method, tolerance)\u001b[0m\n\u001b[1;32m    355\u001b[0m                     \u001b[0;32mreturn\u001b[0m \u001b[0mself\u001b[0m\u001b[0;34m.\u001b[0m\u001b[0m_range\u001b[0m\u001b[0;34m.\u001b[0m\u001b[0mindex\u001b[0m\u001b[0;34m(\u001b[0m\u001b[0mnew_key\u001b[0m\u001b[0;34m)\u001b[0m\u001b[0;34m\u001b[0m\u001b[0;34m\u001b[0m\u001b[0m\n\u001b[1;32m    356\u001b[0m                 \u001b[0;32mexcept\u001b[0m \u001b[0mValueError\u001b[0m \u001b[0;32mas\u001b[0m \u001b[0merr\u001b[0m\u001b[0;34m:\u001b[0m\u001b[0;34m\u001b[0m\u001b[0;34m\u001b[0m\u001b[0m\n\u001b[0;32m--> 357\u001b[0;31m                     \u001b[0;32mraise\u001b[0m \u001b[0mKeyError\u001b[0m\u001b[0;34m(\u001b[0m\u001b[0mkey\u001b[0m\u001b[0;34m)\u001b[0m \u001b[0;32mfrom\u001b[0m \u001b[0merr\u001b[0m\u001b[0;34m\u001b[0m\u001b[0;34m\u001b[0m\u001b[0m\n\u001b[0m\u001b[1;32m    358\u001b[0m             \u001b[0;32mraise\u001b[0m \u001b[0mKeyError\u001b[0m\u001b[0;34m(\u001b[0m\u001b[0mkey\u001b[0m\u001b[0;34m)\u001b[0m\u001b[0;34m\u001b[0m\u001b[0;34m\u001b[0m\u001b[0m\n\u001b[1;32m    359\u001b[0m         \u001b[0;32mreturn\u001b[0m \u001b[0msuper\u001b[0m\u001b[0;34m(\u001b[0m\u001b[0;34m)\u001b[0m\u001b[0;34m.\u001b[0m\u001b[0mget_loc\u001b[0m\u001b[0;34m(\u001b[0m\u001b[0mkey\u001b[0m\u001b[0;34m,\u001b[0m \u001b[0mmethod\u001b[0m\u001b[0;34m=\u001b[0m\u001b[0mmethod\u001b[0m\u001b[0;34m,\u001b[0m \u001b[0mtolerance\u001b[0m\u001b[0;34m=\u001b[0m\u001b[0mtolerance\u001b[0m\u001b[0;34m)\u001b[0m\u001b[0;34m\u001b[0m\u001b[0;34m\u001b[0m\u001b[0m\n",
            "\u001b[0;31mKeyError\u001b[0m: 1"
          ]
        }
      ]
    },
    {
      "cell_type": "markdown",
      "metadata": {
        "id": "x5HGfUeAgcgc"
      },
      "source": [
        "## .iloc()"
      ]
    },
    {
      "cell_type": "markdown",
      "metadata": {
        "id": "kM1iY0BUp483"
      },
      "source": [
        "## Other\n",
        "\n",
        "find how to use `df.add()`, `arr.append()`,`df.append()` where `df` is a pandas dataframe, and `arr` a numpy array"
      ]
    },
    {
      "cell_type": "markdown",
      "metadata": {
        "id": "osxr1jXvfM4P"
      },
      "source": [
        "# Vectorization\n",
        "\n",
        "Vectorization is an important concept that is defined as replacing a for loop and applying the operation of interest on the vector as opposed to applying it on each element of the vector.\n",
        "\n",
        "e.g. a non vectorized addition of 3 to the elements of a vector a and storage of the result in b:\n"
      ]
    },
    {
      "cell_type": "code",
      "metadata": {
        "colab": {
          "base_uri": "https://localhost:8080/"
        },
        "id": "EolgfoUWgNcS",
        "outputId": "1193a6c6-5553-4358-fdea-1618c2e55b50"
      },
      "source": [
        "a=[1,4,6]\n",
        "b=[]\n",
        "for i in a:\n",
        "  b.append(i+3)\n",
        "print(b)"
      ],
      "execution_count": 51,
      "outputs": [
        {
          "output_type": "stream",
          "name": "stdout",
          "text": [
            "[4, 7, 9]\n"
          ]
        }
      ]
    },
    {
      "cell_type": "markdown",
      "metadata": {
        "id": "n2zJYAbMgzZx"
      },
      "source": [
        "Vectorized expression:"
      ]
    },
    {
      "cell_type": "code",
      "metadata": {
        "colab": {
          "base_uri": "https://localhost:8080/"
        },
        "id": "hZBqMiZHg26y",
        "outputId": "6b71afdc-1e53-459b-b539-e3fafcc7b331"
      },
      "source": [
        "import numpy as np\n",
        "c=np.array(a)+3\n",
        "print(c)\n",
        "type(c)"
      ],
      "execution_count": 52,
      "outputs": [
        {
          "output_type": "stream",
          "name": "stdout",
          "text": [
            "[4 7 9]\n"
          ]
        },
        {
          "output_type": "execute_result",
          "data": {
            "text/plain": [
              "numpy.ndarray"
            ]
          },
          "metadata": {},
          "execution_count": 52
        }
      ]
    },
    {
      "cell_type": "markdown",
      "metadata": {
        "id": "HOcGSl56j_Gd"
      },
      "source": [
        "*Note: b and c are not of the same type. Conversion would be needed to make b and c equal*\n",
        "\n",
        "For loops are very labor-intensive for the computer. Vectorization should always be prefered where possible."
      ]
    }
  ]
}