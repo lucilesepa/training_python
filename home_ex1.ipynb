{
  "nbformat": 4,
  "nbformat_minor": 0,
  "metadata": {
    "colab": {
      "name": "home_ex1.ipynb",
      "provenance": [],
      "collapsed_sections": [],
      "toc_visible": true,
      "authorship_tag": "ABX9TyN/5BZjDS1Yxg/nJokgAAXS",
      "include_colab_link": true
    },
    "kernelspec": {
      "name": "python3",
      "display_name": "Python 3"
    },
    "language_info": {
      "name": "python"
    }
  },
  "cells": [
    {
      "cell_type": "markdown",
      "metadata": {
        "id": "view-in-github",
        "colab_type": "text"
      },
      "source": [
        "<a href=\"https://colab.research.google.com/github/lucilesepa/training_python/blob/main/home_ex1.ipynb\" target=\"_parent\"><img src=\"https://colab.research.google.com/assets/colab-badge.svg\" alt=\"Open In Colab\"/></a>"
      ]
    },
    {
      "cell_type": "markdown",
      "metadata": {
        "id": "DDc04I9LDyVt"
      },
      "source": [
        "**The home exercises will be a bit different: the theory will be given in one single block, and the exercises will mix up all the known concepts.**\n",
        "\n",
        "# Basic variable type: boolean\n",
        "\n",
        "Booleans can take the value True or False. Actually they are not really variables. They are a data type which a condition.  You have already implicitly used booleans. \n",
        "\n",
        "You see in this example that the condition a>b is, like all the conditions, a boolean:\n"
      ]
    },
    {
      "cell_type": "code",
      "metadata": {
        "colab": {
          "base_uri": "https://localhost:8080/"
        },
        "id": "fElN6P01H5LR",
        "outputId": "5dd15dcb-b899-4683-b7c4-216b8166735c"
      },
      "source": [
        "a=13\n",
        "b=1\n",
        "print(type(a>b))\n",
        "print(a>b)"
      ],
      "execution_count": null,
      "outputs": [
        {
          "output_type": "stream",
          "name": "stdout",
          "text": [
            "<class 'bool'>\n",
            "True\n"
          ]
        }
      ]
    },
    {
      "cell_type": "markdown",
      "metadata": {
        "id": "wJ6WmtdQGyiy"
      },
      "source": [
        "There are many ways to use booleans, but the most common way in data analysis is to use it with if statement, to test whether a condition is fulfilled.\n"
      ]
    },
    {
      "cell_type": "code",
      "metadata": {
        "colab": {
          "base_uri": "https://localhost:8080/"
        },
        "id": "Ud7Oog8rGiRT",
        "outputId": "44b6aae9-6f14-450d-ee37-59339014c049"
      },
      "source": [
        "if a>b:\n",
        "  print('the boolean a>b is true')\n"
      ],
      "execution_count": null,
      "outputs": [
        {
          "output_type": "stream",
          "name": "stdout",
          "text": [
            "the boolean a>b is true\n"
          ]
        }
      ]
    },
    {
      "cell_type": "markdown",
      "metadata": {
        "id": "6gfz2vVFMAt3"
      },
      "source": [
        "# Tuples and dictionnaries\n",
        "\n"
      ]
    },
    {
      "cell_type": "markdown",
      "metadata": {
        "id": "Xx_6Wrz1Yk3G"
      },
      "source": [
        "## Tuples\n",
        "\n",
        "Tuples are one of the 4 built-in data types in Python: \n",
        "sets  which we will not cover as they are very rarely used in data analysis / GIS, dictionnaries, tuples and lists.\n",
        "\n",
        "*Note:* \n",
        "*   Pandas dataframes are not built-in: they require the use of the package Pandas\n",
        "\n",
        "In practice in data analysis /  GIS they are rarely used, but many python functions outputs are tuples.\n",
        "\n",
        "e.g:"
      ]
    },
    {
      "cell_type": "code",
      "metadata": {
        "colab": {
          "base_uri": "https://localhost:8080/"
        },
        "id": "MqkZeNu8P08m",
        "outputId": "b6399d8c-0571-4f4e-9861-537debf7c41f"
      },
      "source": [
        "import numpy as np\n",
        "a=[[1,2,3],[9,1,4]]\n",
        "b=np.array(a)\n",
        "s = b.shape\n",
        "print('the output from .shape is a ',type(s))"
      ],
      "execution_count": null,
      "outputs": [
        {
          "output_type": "stream",
          "name": "stdout",
          "text": [
            "the output from .shape is a  <class 'tuple'>\n"
          ]
        }
      ]
    },
    {
      "cell_type": "markdown",
      "metadata": {
        "id": "MV81VBLER4cI"
      },
      "source": [
        "They are indexed with the regular use of []\n",
        "\n",
        "e.g to use the number of rows of an array:"
      ]
    },
    {
      "cell_type": "code",
      "metadata": {
        "colab": {
          "base_uri": "https://localhost:8080/"
        },
        "id": "xvLfukI_SLGM",
        "outputId": "f6247d33-3c6c-4003-b2d9-dc686df891bf"
      },
      "source": [
        "print('there are ',s[1],' rows in b')"
      ],
      "execution_count": null,
      "outputs": [
        {
          "output_type": "stream",
          "name": "stdout",
          "text": [
            "there are  3  rows in b\n"
          ]
        }
      ]
    },
    {
      "cell_type": "markdown",
      "metadata": {
        "id": "JCLIAzkJUsnF"
      },
      "source": [
        "## Dictionaries\n",
        "\n",
        "They are stored to store paired values.\n",
        "\n",
        "e.g:"
      ]
    },
    {
      "cell_type": "code",
      "metadata": {
        "colab": {
          "base_uri": "https://localhost:8080/"
        },
        "id": "l_5ddNhKWE2B",
        "outputId": "e2eb8334-c0c5-46c6-eb14-f5db0722d689"
      },
      "source": [
        "dict = {\n",
        "  \"name\": \"Glasgow\",\n",
        "  \"population\": 635640,\n",
        "  \"N\": 55.85781,\n",
        "  \"E\": -4.24253\n",
        "}\n",
        "print(dict)"
      ],
      "execution_count": null,
      "outputs": [
        {
          "output_type": "stream",
          "name": "stdout",
          "text": [
            "{'name': 'Glasgow', 'population': 635640, 'N': 55.85781, 'E': -4.24253}\n"
          ]
        }
      ]
    },
    {
      "cell_type": "markdown",
      "metadata": {
        "id": "BrOxMUyqWceZ"
      },
      "source": [
        "A dictionary cannot really be indexed. Instead, they are accessed as such:"
      ]
    },
    {
      "cell_type": "code",
      "metadata": {
        "colab": {
          "base_uri": "https://localhost:8080/",
          "height": 35
        },
        "id": "XmtKfsxjWhAR",
        "outputId": "6b371617-23c7-455f-96f3-d993c52aba66"
      },
      "source": [
        "dict['name']"
      ],
      "execution_count": null,
      "outputs": [
        {
          "output_type": "execute_result",
          "data": {
            "application/vnd.google.colaboratory.intrinsic+json": {
              "type": "string"
            },
            "text/plain": [
              "'Glasgow'"
            ]
          },
          "metadata": {},
          "execution_count": 31
        }
      ]
    },
    {
      "cell_type": "markdown",
      "metadata": {
        "id": "0pZyH-w8ZlaQ"
      },
      "source": [
        "In my experience they are rarely used."
      ]
    },
    {
      "cell_type": "markdown",
      "metadata": {
        "id": "GhJLCIjlZv0p"
      },
      "source": [
        "# A few more conversions\n",
        "\n",
        "During the session, we have seens the conversions between numpy arrays, pandas dataframes, and lists. Similarily, you can convert floats, integers, strings:"
      ]
    },
    {
      "cell_type": "code",
      "metadata": {
        "colab": {
          "base_uri": "https://localhost:8080/"
        },
        "id": "YL_IU39uaDbV",
        "outputId": "84a26072-9ca0-4f94-e8a2-00e9edd10bca"
      },
      "source": [
        "a = 2\n",
        "b=6.3\n",
        "c='4'\n",
        "print('a=',a)\n",
        "print('b=',b)\n",
        "print('c=',c)\n",
        "print('str(a)=',str(2))\n",
        "print('int(b)=',int(b))\n",
        "print('float(c)=',float(c))"
      ],
      "execution_count": null,
      "outputs": [
        {
          "output_type": "stream",
          "name": "stdout",
          "text": [
            "a= 2\n",
            "b= 6.3\n",
            "c= 4\n",
            "str(a)= 2\n",
            "int(b)= 6\n",
            "float(c)= 4.0\n"
          ]
        }
      ]
    },
    {
      "cell_type": "markdown",
      "metadata": {
        "id": "9ISLfMt_azi4"
      },
      "source": [
        "*Note*: \n",
        "*   You can see that converting a number to an integer will truncate the decimals\n",
        "*   Obviously converting e.g. `m='some string'` to a float will return an error\n",
        "\n"
      ]
    },
    {
      "cell_type": "markdown",
      "metadata": {
        "id": "cbyszlAQgVUx"
      },
      "source": [
        "# A few more commands"
      ]
    },
    {
      "cell_type": "markdown",
      "metadata": {
        "id": "C0Qbzou6gaUb"
      },
      "source": [
        "## Add elements to the end of a dataset \n",
        "\n",
        "Typically used in for loops to populate an empty pre-defined dataset. \n",
        "\n",
        "\n"
      ]
    },
    {
      "cell_type": "markdown",
      "metadata": {
        "id": "qmIxWuD9Vdve"
      },
      "source": [
        "### Add to a list\n",
        "\n",
        "The formal structure is:\n",
        "```\n",
        "mylist.append(new_value)\n",
        "```\n",
        "e.g. stores into a new list c the list a to which a list b is added in the end"
      ]
    },
    {
      "cell_type": "code",
      "metadata": {
        "colab": {
          "base_uri": "https://localhost:8080/"
        },
        "id": "1889EYJNlIFz",
        "outputId": "388f887c-3d57-4e71-cdc3-c97a315a48d7"
      },
      "source": [
        "a=[2,4,7]\n",
        "b=[7,8,9]\n",
        "c=[]\n",
        "for i in range(len(a)):\n",
        "  c.append(a[i]+b[i])\n",
        "print(c)"
      ],
      "execution_count": 7,
      "outputs": [
        {
          "output_type": "stream",
          "name": "stdout",
          "text": [
            "[2, 4, 7, [7, 8, 9]]\n"
          ]
        }
      ]
    },
    {
      "cell_type": "markdown",
      "metadata": {
        "id": "4SX5FUFZX_Wn"
      },
      "source": [
        "*Note:* in the example above, the operation should actually be vectorized. The non vectorized version is only to demonstrate the .append() command"
      ]
    },
    {
      "cell_type": "markdown",
      "metadata": {
        "id": "4q2hkwG1XRn5"
      },
      "source": [
        "### Add to a pandas dataframe\n",
        "\n",
        "There are many ways to add values to a pandas dataframe: choosing one will depend on the specifics of the situation. \n",
        "\n",
        "Two examples are [here](https://stackoverflow.com/questions/24284342/insert-a-row-to-pandas-dataframe#:~:text=It%20is%20pretty%20simple%20to%20add%20a%20row,instances%3B%20Add%20ignore_index%3DTrue%20right%20after%20your%20dictionary%20name.), where a concatenation `pd.concat([df2, df])` and the use of `df.loc[-1]` give the desired result.\n"
      ]
    },
    {
      "cell_type": "markdown",
      "metadata": {
        "id": "unLLMe9ZsLbl"
      },
      "source": [
        "### Add to a numpy array\n",
        "\n",
        "There are many ways to add values to a numpy array: like for the pandas dataframe, choosing one will depend on the specifics of the situation. Concatenation is an option, as is converting the array to a list, and using the .append() command in certain cases."
      ]
    },
    {
      "cell_type": "markdown",
      "metadata": {
        "id": "ZxLAJ8XMw2Kx"
      },
      "source": [
        "## NaN, try "
      ]
    },
    {
      "cell_type": "markdown",
      "metadata": {
        "id": "x5HGfUeAgcgc"
      },
      "source": [
        "## Find an element / the index of an element in a dataset\n"
      ]
    },
    {
      "cell_type": "markdown",
      "metadata": {
        "id": "KQntAt5b1K7-"
      },
      "source": [
        "\n",
        "### Find an element  / the index of an element in a list\n",
        "\n",
        "Finding the index of a value value_to_find in a list is easy:\n",
        "General code to find the index of an element in a list:\n",
        "```\n",
        "mylist.index(value_to_find)\n",
        "```\n",
        "\n",
        "*Note*: the code returns an error if the value value_to_find isn't in mylist. \n",
        "\n",
        "e.g. find the index of the values 4 and 5 in a list. if the value doesn't exist, fills the variable with NaN\n",
        "\n"
      ]
    },
    {
      "cell_type": "code",
      "metadata": {
        "id": "5M7llBblt6Kv",
        "outputId": "4a32cca6-e9c5-4c14-e4e5-85a8bfad8be7",
        "colab": {
          "base_uri": "https://localhost:8080/"
        }
      },
      "source": [
        "a=[1,2,4,9,10]\n",
        "\n",
        "try:\n",
        "  a.index(4)\n",
        "except ValueError:\n",
        "  b=float(\"nan\")\n",
        "else:\n",
        "  b=a.index(4)\n",
        "\n",
        "try:\n",
        "  a.index(5)\n",
        "except ValueError:\n",
        "  c=float(\"nan\")\n",
        "else:\n",
        "  c=a.index(5)\n",
        "\n",
        "print(b)\n",
        "print(c)"
      ],
      "execution_count": 37,
      "outputs": [
        {
          "output_type": "stream",
          "name": "stdout",
          "text": [
            "2\n",
            "nan\n"
          ]
        }
      ]
    },
    {
      "cell_type": "markdown",
      "metadata": {
        "id": "5r36lEyK1FPt"
      },
      "source": [
        "### Find an element  / the index of an element in a Pandas dataframe\n",
        "\n",
        "Find an element in a pandas dataframe is easy:  there is a built-in function:\n",
        "```\n",
        "df.query(expression)\n",
        "```\n",
        "with `expression` being very similar in syntax to a SQL query.\n",
        "\n",
        "e.g."
      ]
    },
    {
      "cell_type": "code",
      "metadata": {
        "id": "I6TGi_Tp1NaO",
        "outputId": "50517097-8e84-4726-f18e-1db8baa2d5bd",
        "colab": {
          "base_uri": "https://localhost:8080/",
          "height": 150
        }
      },
      "source": [
        "import pandas as pd\n",
        "df=pd.DataFrame({'letters':['a','b','c'],'numbers1':[10,20,30],'numbers2':[0,5,10]})\n",
        "print(df)\n",
        "df.query('letters == \"a\"')\n",
        "df.query('numbers1 == 10')"
      ],
      "execution_count": 49,
      "outputs": [
        {
          "output_type": "stream",
          "name": "stdout",
          "text": [
            "  letters  numbers1  numbers2\n",
            "0       a        10         0\n",
            "1       b        20         5\n",
            "2       c        30        10\n"
          ]
        },
        {
          "output_type": "execute_result",
          "data": {
            "text/html": [
              "<div>\n",
              "<style scoped>\n",
              "    .dataframe tbody tr th:only-of-type {\n",
              "        vertical-align: middle;\n",
              "    }\n",
              "\n",
              "    .dataframe tbody tr th {\n",
              "        vertical-align: top;\n",
              "    }\n",
              "\n",
              "    .dataframe thead th {\n",
              "        text-align: right;\n",
              "    }\n",
              "</style>\n",
              "<table border=\"1\" class=\"dataframe\">\n",
              "  <thead>\n",
              "    <tr style=\"text-align: right;\">\n",
              "      <th></th>\n",
              "      <th>letters</th>\n",
              "      <th>numbers1</th>\n",
              "      <th>numbers2</th>\n",
              "    </tr>\n",
              "  </thead>\n",
              "  <tbody>\n",
              "    <tr>\n",
              "      <th>0</th>\n",
              "      <td>a</td>\n",
              "      <td>10</td>\n",
              "      <td>0</td>\n",
              "    </tr>\n",
              "  </tbody>\n",
              "</table>\n",
              "</div>"
            ],
            "text/plain": [
              "  letters  numbers1  numbers2\n",
              "0       a        10         0"
            ]
          },
          "metadata": {},
          "execution_count": 49
        }
      ]
    },
    {
      "cell_type": "markdown",
      "metadata": {
        "id": "lxHjR2sd8NVL"
      },
      "source": [
        "However finding its position (index) is more difficult. For now you can convert the pandas dataframe to a list to find the index of an element.\n",
        "\n",
        "e.g."
      ]
    },
    {
      "cell_type": "code",
      "metadata": {
        "id": "BUSwdPBN8QeW",
        "outputId": "9ef6f87e-3a68-4aa5-ce68-7e773dfe039f",
        "colab": {
          "base_uri": "https://localhost:8080/",
          "height": 183
        }
      },
      "source": [
        "l = list(df.values)\n",
        "l.index(10)"
      ],
      "execution_count": 54,
      "outputs": [
        {
          "output_type": "error",
          "ename": "ValueError",
          "evalue": "ignored",
          "traceback": [
            "\u001b[0;31m---------------------------------------------------------------------------\u001b[0m",
            "\u001b[0;31mValueError\u001b[0m                                Traceback (most recent call last)",
            "\u001b[0;32m<ipython-input-54-6830ab968b0a>\u001b[0m in \u001b[0;36m<module>\u001b[0;34m()\u001b[0m\n\u001b[1;32m      1\u001b[0m \u001b[0ml\u001b[0m \u001b[0;34m=\u001b[0m \u001b[0mlist\u001b[0m\u001b[0;34m(\u001b[0m\u001b[0mdf\u001b[0m\u001b[0;34m.\u001b[0m\u001b[0mvalues\u001b[0m\u001b[0;34m)\u001b[0m\u001b[0;34m\u001b[0m\u001b[0;34m\u001b[0m\u001b[0m\n\u001b[0;32m----> 2\u001b[0;31m \u001b[0ml\u001b[0m\u001b[0;34m.\u001b[0m\u001b[0mindex\u001b[0m\u001b[0;34m(\u001b[0m\u001b[0;36m10\u001b[0m\u001b[0;34m)\u001b[0m\u001b[0;34m\u001b[0m\u001b[0;34m\u001b[0m\u001b[0m\n\u001b[0m",
            "\u001b[0;31mValueError\u001b[0m: The truth value of an array with more than one element is ambiguous. Use a.any() or a.all()"
          ]
        }
      ]
    },
    {
      "cell_type": "markdown",
      "metadata": {
        "id": "kM1iY0BUp483"
      },
      "source": [
        "## Other\n",
        "\n",
        "find how to use `df.add()`, `arr.append()`,`df.append()` where `df` is a pandas dataframe, and `arr` a numpy array\n",
        "\n",
        "df.values\n",
        "\n",
        "\n",
        ".iloc()"
      ]
    },
    {
      "cell_type": "markdown",
      "metadata": {
        "id": "osxr1jXvfM4P"
      },
      "source": [
        "# Vectorization\n",
        "\n",
        "Vectorization is an important concept that is defined as replacing a for loop and applying the operation of interest on the vector as opposed to applying it on each element of the vector.\n",
        "\n",
        "e.g. a non vectorized addition of 3 to the elements of a vector a and storage of the result in b:\n"
      ]
    },
    {
      "cell_type": "code",
      "metadata": {
        "colab": {
          "base_uri": "https://localhost:8080/"
        },
        "id": "EolgfoUWgNcS",
        "outputId": "1193a6c6-5553-4358-fdea-1618c2e55b50"
      },
      "source": [
        "a=[1,4,6]\n",
        "b=[]\n",
        "for i in a:\n",
        "  b.append(i+3)\n",
        "print(b)"
      ],
      "execution_count": null,
      "outputs": [
        {
          "output_type": "stream",
          "name": "stdout",
          "text": [
            "[4, 7, 9]\n"
          ]
        }
      ]
    },
    {
      "cell_type": "markdown",
      "metadata": {
        "id": "n2zJYAbMgzZx"
      },
      "source": [
        "Vectorized expression:"
      ]
    },
    {
      "cell_type": "code",
      "metadata": {
        "colab": {
          "base_uri": "https://localhost:8080/"
        },
        "id": "hZBqMiZHg26y",
        "outputId": "6b71afdc-1e53-459b-b539-e3fafcc7b331"
      },
      "source": [
        "import numpy as np\n",
        "c=np.array(a)+3\n",
        "print(c)\n",
        "type(c)"
      ],
      "execution_count": null,
      "outputs": [
        {
          "output_type": "stream",
          "name": "stdout",
          "text": [
            "[4 7 9]\n"
          ]
        },
        {
          "output_type": "execute_result",
          "data": {
            "text/plain": [
              "numpy.ndarray"
            ]
          },
          "metadata": {},
          "execution_count": 52
        }
      ]
    },
    {
      "cell_type": "markdown",
      "metadata": {
        "id": "HOcGSl56j_Gd"
      },
      "source": [
        "*Note: b and c are not of the same type. Conversion would be needed to make b and c equal*\n",
        "\n",
        "For loops are very labor-intensive for the computer. Vectorization should always be prefered where possible."
      ]
    }
  ]
}