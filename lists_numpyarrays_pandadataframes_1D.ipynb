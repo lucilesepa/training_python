{
  "nbformat": 4,
  "nbformat_minor": 0,
  "metadata": {
    "colab": {
      "name": "lists_numpyarrays_pandadataframes_1D.ipynb",
      "provenance": [],
      "toc_visible": true,
      "authorship_tag": "ABX9TyMQYey7VEGvpL6j5H+SA0xx",
      "include_colab_link": true
    },
    "kernelspec": {
      "name": "python3",
      "display_name": "Python 3"
    },
    "language_info": {
      "name": "python"
    }
  },
  "cells": [
    {
      "cell_type": "markdown",
      "metadata": {
        "id": "view-in-github",
        "colab_type": "text"
      },
      "source": [
        "<a href=\"https://colab.research.google.com/github/lucilesepa/training_python/blob/main/lists_numpyarrays_pandadataframes_1D.ipynb\" target=\"_parent\"><img src=\"https://colab.research.google.com/assets/colab-badge.svg\" alt=\"Open In Colab\"/></a>"
      ]
    },
    {
      "cell_type": "markdown",
      "metadata": {
        "id": "Rn8nmsVqmZJL"
      },
      "source": [
        "# Lists"
      ]
    },
    {
      "cell_type": "code",
      "metadata": {
        "colab": {
          "base_uri": "https://localhost:8080/"
        },
        "id": "sdqm6F53k8-E",
        "outputId": "d14e77f4-f5ac-4a4e-939c-ff7b42ccd651"
      },
      "source": [
        "aa =[1,3,5]\n",
        "print(aa)\n",
        "aat = type(aa)\n",
        "print(aat)\n",
        "print(type(aa))\n",
        "len(aa) # length"
      ],
      "execution_count": null,
      "outputs": [
        {
          "output_type": "stream",
          "text": [
            "[1, 3, 5]\n",
            "<class 'list'>\n",
            "<class 'list'>\n"
          ],
          "name": "stdout"
        },
        {
          "output_type": "execute_result",
          "data": {
            "text/plain": [
              "3"
            ]
          },
          "metadata": {},
          "execution_count": 4
        }
      ]
    },
    {
      "cell_type": "code",
      "metadata": {
        "colab": {
          "base_uri": "https://localhost:8080/",
          "height": 183
        },
        "id": "rmn7GSmmnYNm",
        "outputId": "8f95d18e-0cd0-42ad-c203-3d9736a08ce9"
      },
      "source": [
        "bb= [2,4,6]\n",
        "aa-bb"
      ],
      "execution_count": null,
      "outputs": [
        {
          "output_type": "error",
          "ename": "TypeError",
          "evalue": "ignored",
          "traceback": [
            "\u001b[0;31m---------------------------------------------------------------------------\u001b[0m",
            "\u001b[0;31mTypeError\u001b[0m                                 Traceback (most recent call last)",
            "\u001b[0;32m<ipython-input-5-f54a709d3afb>\u001b[0m in \u001b[0;36m<module>\u001b[0;34m()\u001b[0m\n\u001b[1;32m      1\u001b[0m \u001b[0mbb\u001b[0m\u001b[0;34m=\u001b[0m \u001b[0;34m[\u001b[0m\u001b[0;36m2\u001b[0m\u001b[0;34m,\u001b[0m\u001b[0;36m4\u001b[0m\u001b[0;34m,\u001b[0m\u001b[0;36m6\u001b[0m\u001b[0;34m]\u001b[0m\u001b[0;34m\u001b[0m\u001b[0;34m\u001b[0m\u001b[0m\n\u001b[0;32m----> 2\u001b[0;31m \u001b[0maa\u001b[0m\u001b[0;34m-\u001b[0m\u001b[0mbb\u001b[0m\u001b[0;34m\u001b[0m\u001b[0;34m\u001b[0m\u001b[0m\n\u001b[0m",
            "\u001b[0;31mTypeError\u001b[0m: unsupported operand type(s) for -: 'list' and 'list'"
          ]
        }
      ]
    },
    {
      "cell_type": "code",
      "metadata": {
        "colab": {
          "base_uri": "https://localhost:8080/"
        },
        "id": "uUqq5NwBrAHf",
        "outputId": "05650466-fbc4-4188-fe03-faad35322c6b"
      },
      "source": [
        "aa[0]"
      ],
      "execution_count": null,
      "outputs": [
        {
          "output_type": "execute_result",
          "data": {
            "text/plain": [
              "1"
            ]
          },
          "metadata": {},
          "execution_count": 6
        }
      ]
    },
    {
      "cell_type": "code",
      "metadata": {
        "colab": {
          "base_uri": "https://localhost:8080/"
        },
        "id": "WCaJF_OxrFUN",
        "outputId": "c2b6eb42-530e-4544-cef4-2a1c8f500f6f"
      },
      "source": [
        "bb[0:2] # slicing (extracting a subset of a set)"
      ],
      "execution_count": null,
      "outputs": [
        {
          "output_type": "execute_result",
          "data": {
            "text/plain": [
              "[2, 4]"
            ]
          },
          "metadata": {},
          "execution_count": 13
        }
      ]
    },
    {
      "cell_type": "markdown",
      "metadata": {
        "id": "pl2meykMnsbh"
      },
      "source": [
        "> Lists are useful to store any type of variable. \n",
        "Arithmetic does not apply to them"
      ]
    },
    {
      "cell_type": "markdown",
      "metadata": {
        "id": "OaqhOP2eubWK"
      },
      "source": [
        "# Numpy array"
      ]
    },
    {
      "cell_type": "markdown",
      "metadata": {
        "id": "VYXk0CUTvS5Z"
      },
      "source": [
        "Import the numpy module. one of the most useful modules. in the code, it will be referred to as \"np\". Could call it something else, \"np\" is standard.\n",
        "aa=np."
      ]
    },
    {
      "cell_type": "code",
      "metadata": {
        "id": "JGpFNgm4oB_e"
      },
      "source": [
        "import numpy as np "
      ],
      "execution_count": null,
      "outputs": []
    },
    {
      "cell_type": "code",
      "metadata": {
        "colab": {
          "base_uri": "https://localhost:8080/"
        },
        "id": "su-FTcv4vhSg",
        "outputId": "2da52f6d-3a60-4c2f-82f0-eca6c66af8f4"
      },
      "source": [
        "aa=np.array([4,3,5])\n",
        "print(type(aa))\n",
        "print(aa.shape) # shape of the array\n",
        "print(len(aa)) # length of the array"
      ],
      "execution_count": null,
      "outputs": [
        {
          "output_type": "stream",
          "text": [
            "<class 'numpy.ndarray'>\n",
            "(3,)\n",
            "3\n"
          ],
          "name": "stdout"
        }
      ]
    },
    {
      "cell_type": "code",
      "metadata": {
        "colab": {
          "base_uri": "https://localhost:8080/"
        },
        "id": "cvjnIJrRwIrU",
        "outputId": "ea4e9fbd-5d06-455c-d52c-175672a334fd"
      },
      "source": [
        "bb_list = [2,7,10]\n",
        "bb=np.array(bb_list) # convert list into numpy array\n",
        "cc=aa-bb # can do arithmetic operations\n",
        "print(cc)"
      ],
      "execution_count": null,
      "outputs": [
        {
          "output_type": "stream",
          "text": [
            "[ 2 -4 -5]\n"
          ],
          "name": "stdout"
        }
      ]
    },
    {
      "cell_type": "markdown",
      "metadata": {
        "id": "yzRGsuxPykqq"
      },
      "source": [
        "# Pandas Series"
      ]
    },
    {
      "cell_type": "markdown",
      "metadata": {
        "id": "aGdk2i1GFgas"
      },
      "source": [
        "## Create a series"
      ]
    },
    {
      "cell_type": "code",
      "metadata": {
        "id": "VObZowCnysWh",
        "colab": {
          "base_uri": "https://localhost:8080/"
        },
        "outputId": "95ad35ef-10fd-4078-c7ab-d2e97422b7db"
      },
      "source": [
        "import pandas as pd # import pandas module\n",
        "dataset_as_dictionnary = {'Random numbers':[1,54,90,456,7,8]}\n",
        "dfa = pd.DataFrame(dataset_as_dictionnary)\n",
        "print(dfa)\n",
        "print('__________________________________')\n",
        "print(type(dfa))"
      ],
      "execution_count": 67,
      "outputs": [
        {
          "output_type": "stream",
          "text": [
            "   Random numbers\n",
            "0               1\n",
            "1              54\n",
            "2              90\n",
            "3             456\n",
            "4               7\n",
            "5               8\n",
            "__________________________________\n",
            "<class 'pandas.core.frame.DataFrame'>\n"
          ],
          "name": "stdout"
        }
      ]
    },
    {
      "cell_type": "markdown",
      "metadata": {
        "id": "oiAOXmTDFim6"
      },
      "source": [
        "## Extract data from series\n",
        "(and make the values ready to use for arithmetic operations)"
      ]
    },
    {
      "cell_type": "markdown",
      "metadata": {
        "id": "ao71EZd0H4WS"
      },
      "source": [
        "### Step 1. extract as pandas series "
      ]
    },
    {
      "cell_type": "code",
      "metadata": {
        "colab": {
          "base_uri": "https://localhost:8080/"
        },
        "id": "Zgohs8yOFqnB",
        "outputId": "bf2df9f0-a9b4-4143-d7b9-109fa77dc2e7"
      },
      "source": [
        "ab=dfa['Random numbers'][0:2] # extract =the first two elements of the dataframe\n",
        "print(ab)\n",
        "print(type(ab)) # they are still in the form of pandas data. We want only the numeric values "
      ],
      "execution_count": 74,
      "outputs": [
        {
          "output_type": "stream",
          "text": [
            "0     1\n",
            "1    54\n",
            "Name: Random numbers, dtype: int64\n",
            "<class 'pandas.core.series.Series'>\n"
          ],
          "name": "stdout"
        }
      ]
    },
    {
      "cell_type": "markdown",
      "metadata": {
        "id": "NgxlsNwVIBDU"
      },
      "source": [
        "### Step 2. Convert to numeric (numpy array)"
      ]
    },
    {
      "cell_type": "code",
      "metadata": {
        "colab": {
          "base_uri": "https://localhost:8080/"
        },
        "id": "GNny4EVAIHLC",
        "outputId": "e53ee6d2-0fdb-4680-8d5f-f5af34932a54"
      },
      "source": [
        "bc = ab.values # .values is a command, it extracts only the values from a dataframe/dataseries\n",
        "print(bc)\n",
        "print(type(bc))\n",
        "print('_________________________________________')\n",
        "cd = dfa['Random numbers'][0:2].values # it can be done in 1 step\n",
        "print(np.array_equal(bc,cd)) # will return TRUE if the two arrays bc and cd are equal"
      ],
      "execution_count": 75,
      "outputs": [
        {
          "output_type": "stream",
          "text": [
            "[ 1 54]\n",
            "<class 'numpy.ndarray'>\n",
            "_________________________________________\n",
            "True\n"
          ],
          "name": "stdout"
        }
      ]
    },
    {
      "cell_type": "markdown",
      "metadata": {
        "id": "LAC-Pbg9LaSM"
      },
      "source": [
        "If the values in a pandas series are all numeric, we can do arithmetic operations"
      ]
    },
    {
      "cell_type": "code",
      "metadata": {
        "colab": {
          "base_uri": "https://localhost:8080/"
        },
        "id": "uIk7PGyCILs3",
        "outputId": "447150c0-ac0c-4876-c97d-b742f087f41d"
      },
      "source": [
        "print(ab/3)"
      ],
      "execution_count": 83,
      "outputs": [
        {
          "output_type": "stream",
          "text": [
            "0     0.333333\n",
            "1    18.000000\n",
            "Name: Random numbers, dtype: float64\n"
          ],
          "name": "stdout"
        }
      ]
    }
  ]
}