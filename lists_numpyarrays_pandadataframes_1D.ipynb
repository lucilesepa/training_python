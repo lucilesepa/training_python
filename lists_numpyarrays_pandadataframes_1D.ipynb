{
  "nbformat": 4,
  "nbformat_minor": 0,
  "metadata": {
    "colab": {
      "name": "lists_numpyarrays_pandadataframes_1D.ipynb",
      "provenance": [],
      "authorship_tag": "ABX9TyNyzSjrs/4Oh4ehsY+8oNDm",
      "include_colab_link": true
    },
    "kernelspec": {
      "name": "python3",
      "display_name": "Python 3"
    },
    "language_info": {
      "name": "python"
    }
  },
  "cells": [
    {
      "cell_type": "markdown",
      "metadata": {
        "id": "view-in-github",
        "colab_type": "text"
      },
      "source": [
        "<a href=\"https://colab.research.google.com/github/lucilesepa/training_python/blob/main/lists_numpyarrays_pandadataframes_1D.ipynb\" target=\"_parent\"><img src=\"https://colab.research.google.com/assets/colab-badge.svg\" alt=\"Open In Colab\"/></a>"
      ]
    },
    {
      "cell_type": "markdown",
      "metadata": {
        "id": "Rn8nmsVqmZJL"
      },
      "source": [
        "# Lists"
      ]
    },
    {
      "cell_type": "code",
      "metadata": {
        "colab": {
          "base_uri": "https://localhost:8080/"
        },
        "id": "sdqm6F53k8-E",
        "outputId": "d14e77f4-f5ac-4a4e-939c-ff7b42ccd651"
      },
      "source": [
        "aa =[1,3,5]\n",
        "print(aa)\n",
        "aat = type(aa)\n",
        "print(aat)\n",
        "print(type(aa))\n",
        "len(aa) # length"
      ],
      "execution_count": null,
      "outputs": [
        {
          "output_type": "stream",
          "text": [
            "[1, 3, 5]\n",
            "<class 'list'>\n",
            "<class 'list'>\n"
          ],
          "name": "stdout"
        },
        {
          "output_type": "execute_result",
          "data": {
            "text/plain": [
              "3"
            ]
          },
          "metadata": {},
          "execution_count": 4
        }
      ]
    },
    {
      "cell_type": "code",
      "metadata": {
        "colab": {
          "base_uri": "https://localhost:8080/",
          "height": 183
        },
        "id": "rmn7GSmmnYNm",
        "outputId": "8f95d18e-0cd0-42ad-c203-3d9736a08ce9"
      },
      "source": [
        "bb= [2,4,6]\n",
        "aa-bb"
      ],
      "execution_count": null,
      "outputs": [
        {
          "output_type": "error",
          "ename": "TypeError",
          "evalue": "ignored",
          "traceback": [
            "\u001b[0;31m---------------------------------------------------------------------------\u001b[0m",
            "\u001b[0;31mTypeError\u001b[0m                                 Traceback (most recent call last)",
            "\u001b[0;32m<ipython-input-5-f54a709d3afb>\u001b[0m in \u001b[0;36m<module>\u001b[0;34m()\u001b[0m\n\u001b[1;32m      1\u001b[0m \u001b[0mbb\u001b[0m\u001b[0;34m=\u001b[0m \u001b[0;34m[\u001b[0m\u001b[0;36m2\u001b[0m\u001b[0;34m,\u001b[0m\u001b[0;36m4\u001b[0m\u001b[0;34m,\u001b[0m\u001b[0;36m6\u001b[0m\u001b[0;34m]\u001b[0m\u001b[0;34m\u001b[0m\u001b[0;34m\u001b[0m\u001b[0m\n\u001b[0;32m----> 2\u001b[0;31m \u001b[0maa\u001b[0m\u001b[0;34m-\u001b[0m\u001b[0mbb\u001b[0m\u001b[0;34m\u001b[0m\u001b[0;34m\u001b[0m\u001b[0m\n\u001b[0m",
            "\u001b[0;31mTypeError\u001b[0m: unsupported operand type(s) for -: 'list' and 'list'"
          ]
        }
      ]
    },
    {
      "cell_type": "code",
      "metadata": {
        "colab": {
          "base_uri": "https://localhost:8080/"
        },
        "id": "uUqq5NwBrAHf",
        "outputId": "05650466-fbc4-4188-fe03-faad35322c6b"
      },
      "source": [
        "aa[0]"
      ],
      "execution_count": null,
      "outputs": [
        {
          "output_type": "execute_result",
          "data": {
            "text/plain": [
              "1"
            ]
          },
          "metadata": {},
          "execution_count": 6
        }
      ]
    },
    {
      "cell_type": "code",
      "metadata": {
        "colab": {
          "base_uri": "https://localhost:8080/"
        },
        "id": "WCaJF_OxrFUN",
        "outputId": "c2b6eb42-530e-4544-cef4-2a1c8f500f6f"
      },
      "source": [
        "bb[0:2] # slicing (extracting a subset of a set)"
      ],
      "execution_count": null,
      "outputs": [
        {
          "output_type": "execute_result",
          "data": {
            "text/plain": [
              "[2, 4]"
            ]
          },
          "metadata": {},
          "execution_count": 13
        }
      ]
    },
    {
      "cell_type": "markdown",
      "metadata": {
        "id": "pl2meykMnsbh"
      },
      "source": [
        "> Lists are useful to store any type of variable. \n",
        "Arithmetic does not apply to them"
      ]
    },
    {
      "cell_type": "markdown",
      "metadata": {
        "id": "OaqhOP2eubWK"
      },
      "source": [
        "# Numpy array"
      ]
    },
    {
      "cell_type": "markdown",
      "metadata": {
        "id": "VYXk0CUTvS5Z"
      },
      "source": [
        "Import the numpy module. one of the most useful modules. in the code, it will be referred to as \"np\". Could call it something else, \"np\" is standard.\n",
        "aa=np."
      ]
    },
    {
      "cell_type": "code",
      "metadata": {
        "id": "JGpFNgm4oB_e"
      },
      "source": [
        "import numpy as np "
      ],
      "execution_count": null,
      "outputs": []
    },
    {
      "cell_type": "code",
      "metadata": {
        "colab": {
          "base_uri": "https://localhost:8080/"
        },
        "id": "su-FTcv4vhSg",
        "outputId": "2da52f6d-3a60-4c2f-82f0-eca6c66af8f4"
      },
      "source": [
        "aa=np.array([4,3,5])\n",
        "print(type(aa))\n",
        "print(aa.shape) # shape of the array\n",
        "print(len(aa)) # length of the array"
      ],
      "execution_count": null,
      "outputs": [
        {
          "output_type": "stream",
          "text": [
            "<class 'numpy.ndarray'>\n",
            "(3,)\n",
            "3\n"
          ],
          "name": "stdout"
        }
      ]
    },
    {
      "cell_type": "code",
      "metadata": {
        "colab": {
          "base_uri": "https://localhost:8080/"
        },
        "id": "cvjnIJrRwIrU",
        "outputId": "ea4e9fbd-5d06-455c-d52c-175672a334fd"
      },
      "source": [
        "bb_list = [2,7,10]\n",
        "bb=np.array(bb_list) # convert list into numpy array\n",
        "cc=aa-bb # can do arithmetic operations\n",
        "print(cc)"
      ],
      "execution_count": null,
      "outputs": [
        {
          "output_type": "stream",
          "text": [
            "[ 2 -4 -5]\n"
          ],
          "name": "stdout"
        }
      ]
    },
    {
      "cell_type": "markdown",
      "metadata": {
        "id": "yzRGsuxPykqq"
      },
      "source": [
        "# Pandas DataFrames"
      ]
    },
    {
      "cell_type": "code",
      "metadata": {
        "id": "VObZowCnysWh",
        "colab": {
          "base_uri": "https://localhost:8080/"
        },
        "outputId": "5a585631-6f34-4cfb-b02f-acc0d37c42fc"
      },
      "source": [
        "import pandas as pd # import pandas module\n",
        "dataset_as_dictionnary = {'Locations':['Perth', 'Edinburgh', 'Aberdeen', 'Inverness'], # note the braces\n",
        "        'E':[-3.434661,-3.20277,-2.10272,-4.224721],'N':[56.395336,55.95415,57.14548,57.477772]}\n",
        "print(dataset_as_dictionnary)\n",
        "print(type(dataset_as_dictionnary))\n",
        "print('_______________________________________________________________')\n",
        "dfa = pd.DataFrame(dataset_as_list)\n",
        "print(dfa)\n",
        "print(type(dfa))\n",
        "print(dfa.shape,': dfa has ', dfa.shape[0],' rows and ', dfa.shape[1],' columns') # note how to print a mix of integers and strings, and the call for the first and second values in shape "
      ],
      "execution_count": 48,
      "outputs": [
        {
          "output_type": "stream",
          "text": [
            "{'Locations': ['Perth', 'Edinburgh', 'Aberdeen', 'Inverness'], 'E': [-3.434661, -3.20277, -2.10272, -4.224721], 'N': [56.395336, 55.95415, 57.14548, 57.477772]}\n",
            "<class 'dict'>\n",
            "_______________________________________________________________\n",
            "   locations         E          N\n",
            "0      Perth -3.434661  56.395336\n",
            "1  Edinburgh -3.202770  55.954150\n",
            "2   Aberdeen -2.102720  57.145480\n",
            "3  Inverness -4.224721  57.477772\n",
            "<class 'pandas.core.frame.DataFrame'>\n",
            "(4, 3) : dfa has  4  rows and  3  columns\n"
          ],
          "name": "stdout"
        }
      ]
    }
  ]
}