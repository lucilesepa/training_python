{
  "nbformat": 4,
  "nbformat_minor": 0,
  "metadata": {
    "colab": {
      "name": "Untitled3.ipynb",
      "provenance": [],
      "authorship_tag": "ABX9TyOAJsZybuB2w0xQzVXHMtRq",
      "include_colab_link": true
    },
    "kernelspec": {
      "name": "python3",
      "display_name": "Python 3"
    },
    "language_info": {
      "name": "python"
    }
  },
  "cells": [
    {
      "cell_type": "markdown",
      "metadata": {
        "id": "view-in-github",
        "colab_type": "text"
      },
      "source": [
        "<a href=\"https://colab.research.google.com/github/lucilesepa/training_python/blob/main/task_variables.ipynb\" target=\"_parent\"><img src=\"https://colab.research.google.com/assets/colab-badge.svg\" alt=\"Open In Colab\"/></a>"
      ]
    },
    {
      "cell_type": "markdown",
      "metadata": {
        "id": "E2HlBwWmg0MN"
      },
      "source": [
        "# Variables\n",
        "```variable_name = value```\n",
        "\n",
        "```value``` can a  number or a string of characters\n",
        "\n",
        "1.   Create a variable ```a``` that is equal to 2\n",
        "2.   Create a variable ```b``` that is equal to 3.1 (try operations!)\n",
        "3.   Create a variable ```c``` that is the town where your office is (or invent it)\n"
      ]
    },
    {
      "cell_type": "markdown",
      "metadata": {
        "id": "XGLwrlftiR2b"
      },
      "source": [
        "# Useful commands\n",
        "1.   What does ```type(variable_name)``` do? Try it for ```a```, ```b```, ```c```\n",
        "2.   What does ```print(variable_name)``` do?\n",
        "\n",
        "\n",
        "\n"
      ]
    }
  ]
}