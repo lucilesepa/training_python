{
  "nbformat": 4,
  "nbformat_minor": 0,
  "metadata": {
    "colab": {
      "name": "task_variables.ipynb",
      "provenance": [],
      "authorship_tag": "ABX9TyPkCihAvhY//QddOu80vEj6",
      "include_colab_link": true
    },
    "kernelspec": {
      "name": "python3",
      "display_name": "Python 3"
    },
    "language_info": {
      "name": "python"
    }
  },
  "cells": [
    {
      "cell_type": "markdown",
      "metadata": {
        "id": "view-in-github",
        "colab_type": "text"
      },
      "source": [
        "<a href=\"https://colab.research.google.com/github/lucilesepa/training_python/blob/main/task_variables.ipynb\" target=\"_parent\"><img src=\"https://colab.research.google.com/assets/colab-badge.svg\" alt=\"Open In Colab\"/></a>"
      ]
    },
    {
      "cell_type": "markdown",
      "metadata": {
        "id": "k_0Oeir-nXY5"
      },
      "source": [
        "# Variables\n",
        "```variable_name = value```\n",
        "\n",
        "```value``` can a  number or a string of characters\n",
        "\n",
        "1.   Create a variable ```a``` that is equal to 2\n",
        "2.   Create a variable ```b``` that is equal to 3.1 (try operations!)\n",
        "3.   Create a variable ```c``` that is the town where your office is (or invent it)\n"
      ]
    },
    {
      "cell_type": "code",
      "metadata": {
        "id": "FZ1YMtKKigZO",
        "colab": {
          "base_uri": "https://localhost:8080/"
        },
        "outputId": "508ad9f0-0394-459f-87b7-895eafe48a2a"
      },
      "source": [
        "a=2\n",
        "b=3.1\n",
        "c='perth'\n",
        "print(a)\n",
        "type(a)"
      ],
      "execution_count": null,
      "outputs": [
        {
          "output_type": "stream",
          "name": "stdout",
          "text": [
            "2\n"
          ]
        },
        {
          "output_type": "execute_result",
          "data": {
            "text/plain": [
              "int"
            ]
          },
          "metadata": {},
          "execution_count": 5
        }
      ]
    },
    {
      "cell_type": "markdown",
      "metadata": {
        "id": "nX5eyr9anbZS"
      },
      "source": [
        "# Useful commands\n",
        "4.   What does ```print(variable_name)``` do? Try out ```print('some text',variable_name)```\n",
        "5.   What does ```type(variable_name)``` do? Try it for ```a```, ```b```, ```c```\n",
        "\n",
        "\n",
        "\n",
        "\n"
      ]
    }
  ]
}