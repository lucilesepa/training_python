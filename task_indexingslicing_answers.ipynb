{
  "nbformat": 4,
  "nbformat_minor": 0,
  "metadata": {
    "colab": {
      "name": "task_indexingslicing_answers.ipynb",
      "provenance": [],
      "authorship_tag": "ABX9TyMKFnxRyujxxzS6vMWUirN3",
      "include_colab_link": true
    },
    "kernelspec": {
      "name": "python3",
      "display_name": "Python 3"
    },
    "language_info": {
      "name": "python"
    }
  },
  "cells": [
    {
      "cell_type": "markdown",
      "metadata": {
        "id": "view-in-github",
        "colab_type": "text"
      },
      "source": [
        "<a href=\"https://colab.research.google.com/github/lucilesepa/training_python/blob/main/task_indexingslicing_answers.ipynb\" target=\"_parent\"><img src=\"https://colab.research.google.com/assets/colab-badge.svg\" alt=\"Open In Colab\"/></a>"
      ]
    },
    {
      "cell_type": "code",
      "metadata": {
        "colab": {
          "base_uri": "https://localhost:8080/"
        },
        "id": "Dz1DWfvZ6qql",
        "outputId": "10effcc5-31a5-4137-aa9d-4978adaf9745"
      },
      "source": [
        "print('1. cool_data as dataframe dfa')\n",
        "cool_data = [['Perth',-3.434661,56.395336], ['Edinburgh', -3.20277, 55.95415], ['Aberdeen', -2.10272, 57.14548],['Inverness',-4.224721,57.477772]]\n",
        "import pandas as pd\n",
        "dfa = pd.DataFrame(cool_data)\n",
        "print(dfa)\n",
        "\n",
        "print('________________________________')\n",
        "print('2. values of 1st column')\n",
        "a=dfa[0]\n",
        "print(a)\n",
        "\n",
        "print('________________________________')\n",
        "print('3. first 2 values of the second row')\n",
        "b=dfa.loc[1][:2]\n",
        "print(b)\n",
        "\n",
        "print('________________________________')\n",
        "print('4. dfa2')\n",
        "dfa2 = pd.DataFrame(cool_data,columns=['Locations','E','N'])\n",
        "print(dfa2)\n",
        "\n",
        "print('________________________________')\n",
        "print('5.2nd to 4th Northing values in dfa2')\n",
        "print(dfa2['N'][1:4])\n",
        "\n",
        "print('________________________________')\n",
        "print('6. last value of the locations in dfa2')\n",
        "print(dfa2['Locations'][-1:])\n",
        "\n",
        "print('________________________________')\n",
        "print('7. last 3 values of the Easting in dfa2')\n",
        "print(dfa2['E'][-3:])\n",
        "\n",
        "print('________________________________')\n",
        "print('8. cool_data as dataframe dfa')\n",
        "cool_data = [['Perth',-3.434661,56.395336], ['Edinburgh', -3.20277, 55.95415], ['Aberdeen', -2.10272, 57.14548],['Inverness',-4.224721,57.477772]]\n",
        "import numpy as np\n",
        "ar = np.array(cool_data)\n",
        "print(ar)\n",
        "\n",
        "print('________________________________')\n",
        "print('9. values of 2nd column')\n",
        "a=ar[:,1]\n",
        "print(a)\n",
        "\n",
        "print('________________________________')\n",
        "print('10. 2nd to 4th values of the first row')\n",
        "b=ar[0,1:4]\n",
        "print(b)\n",
        "\n",
        "print('________________________________')\n",
        "print('11. first 3 values of the last two columns')\n",
        "c=ar[:3,-2:]\n",
        "print(c)\n"
      ],
      "execution_count": 2,
      "outputs": [
        {
          "output_type": "stream",
          "name": "stdout",
          "text": [
            "1. cool_data as dataframe dfa\n",
            "           0         1          2\n",
            "0      Perth -3.434661  56.395336\n",
            "1  Edinburgh -3.202770  55.954150\n",
            "2   Aberdeen -2.102720  57.145480\n",
            "3  Inverness -4.224721  57.477772\n",
            "________________________________\n",
            "2. values of 1st column\n",
            "0        Perth\n",
            "1    Edinburgh\n",
            "2     Aberdeen\n",
            "3    Inverness\n",
            "Name: 0, dtype: object\n",
            "________________________________\n",
            "3. first 2 values of the second row\n",
            "0    Edinburgh\n",
            "1     -3.20277\n",
            "Name: 1, dtype: object\n",
            "________________________________\n",
            "4. dfa2\n",
            "   Locations         E          N\n",
            "0      Perth -3.434661  56.395336\n",
            "1  Edinburgh -3.202770  55.954150\n",
            "2   Aberdeen -2.102720  57.145480\n",
            "3  Inverness -4.224721  57.477772\n",
            "________________________________\n",
            "5.2nd to 4th Northing values in dfa2\n",
            "1    55.954150\n",
            "2    57.145480\n",
            "3    57.477772\n",
            "Name: N, dtype: float64\n",
            "________________________________\n",
            "6. last value of the locations in dfa2\n",
            "3    Inverness\n",
            "Name: Locations, dtype: object\n",
            "________________________________\n",
            "7. last 3 values of the Easting in dfa2\n",
            "1   -3.202770\n",
            "2   -2.102720\n",
            "3   -4.224721\n",
            "Name: E, dtype: float64\n",
            "________________________________\n",
            "8. cool_data as dataframe dfa\n",
            "[['Perth' '-3.434661' '56.395336']\n",
            " ['Edinburgh' '-3.20277' '55.95415']\n",
            " ['Aberdeen' '-2.10272' '57.14548']\n",
            " ['Inverness' '-4.224721' '57.477772']]\n",
            "________________________________\n",
            "9. values of 2nd column\n",
            "['-3.434661' '-3.20277' '-2.10272' '-4.224721']\n",
            "________________________________\n",
            "10. 2nd to 4th values of the first row\n",
            "['-3.434661' '56.395336']\n",
            "________________________________\n",
            "11. first 3 values of the last two columns\n",
            "[['-3.434661' '56.395336']\n",
            " ['-3.20277' '55.95415']\n",
            " ['-2.10272' '57.14548']]\n"
          ]
        }
      ]
    }
  ]
}