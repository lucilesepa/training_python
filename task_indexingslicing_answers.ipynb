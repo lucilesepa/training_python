{
  "nbformat": 4,
  "nbformat_minor": 0,
  "metadata": {
    "colab": {
      "name": "task_indexingslicing_answers.ipynb",
      "provenance": [],
      "authorship_tag": "ABX9TyP/lU4duGnNdFeo3cegCMXr",
      "include_colab_link": true
    },
    "kernelspec": {
      "name": "python3",
      "display_name": "Python 3"
    },
    "language_info": {
      "name": "python"
    }
  },
  "cells": [
    {
      "cell_type": "markdown",
      "metadata": {
        "id": "view-in-github",
        "colab_type": "text"
      },
      "source": [
        "<a href=\"https://colab.research.google.com/github/lucilesepa/training_python/blob/main/task_indexingslicing_answers.ipynb\" target=\"_parent\"><img src=\"https://colab.research.google.com/assets/colab-badge.svg\" alt=\"Open In Colab\"/></a>"
      ]
    },
    {
      "cell_type": "markdown",
      "metadata": {
        "id": "W0hAeGlNvrC6"
      },
      "source": [
        "1. Copy paste this into colab as code, and convert into a pandas dataframe that you call dfa:\n",
        "```\n",
        "cool_data = [['Perth',-3.434661,56.395336], ['Edinburgh', -3.20277, 55.95415], ['Aberdeen', -2.10272, 57.14548],['Inverness',-4.224721,57.477772]]\n",
        "```"
      ]
    },
    {
      "cell_type": "code",
      "metadata": {
        "colab": {
          "base_uri": "https://localhost:8080/"
        },
        "id": "Dz1DWfvZ6qql",
        "outputId": "eeba8fa0-ca6c-426b-88e0-73ebe5fa4f09"
      },
      "source": [
        "cool_data = [['Perth',-3.434661,56.395336], ['Edinburgh', -3.20277, 55.95415], ['Aberdeen', -2.10272, 57.14548],['Inverness',-4.224721,57.477772]]\n",
        "import pandas as pd\n",
        "dfa = pd.DataFrame(cool_data)\n",
        "print(dfa)"
      ],
      "execution_count": 2,
      "outputs": [
        {
          "output_type": "stream",
          "name": "stdout",
          "text": [
            "           0         1          2\n",
            "0      Perth -3.434661  56.395336\n",
            "1  Edinburgh -3.202770  55.954150\n",
            "2   Aberdeen -2.102720  57.145480\n",
            "3  Inverness -4.224721  57.477772\n"
          ]
        }
      ]
    },
    {
      "cell_type": "markdown",
      "metadata": {
        "id": "L2gygSOTvvvk"
      },
      "source": [
        "2. Extract the values of the first column and store them in a variable called a\n"
      ]
    },
    {
      "cell_type": "code",
      "metadata": {
        "id": "5Av27s7uv1jV"
      },
      "source": [
        "a=dfa[0]"
      ],
      "execution_count": 9,
      "outputs": []
    },
    {
      "cell_type": "markdown",
      "metadata": {
        "id": "MQ5hAUXGv105"
      },
      "source": [
        "3. Extract the first 2 values of the second row into a variable called b\n"
      ]
    },
    {
      "cell_type": "code",
      "metadata": {
        "id": "7pyTfCL1v3yf"
      },
      "source": [
        "b=dfa.loc[1][:2]"
      ],
      "execution_count": 10,
      "outputs": []
    },
    {
      "cell_type": "markdown",
      "metadata": {
        "id": "uTrajZLdv37M"
      },
      "source": [
        "4. Add the column headers 'Locations', 'E' and 'N' to the 1st, 2nd and 3rd columns, call this new dataframe dfa2\n"
      ]
    },
    {
      "cell_type": "code",
      "metadata": {
        "id": "bIykEyiJv5gr"
      },
      "source": [
        "dfa2 = pd.DataFrame(cool_data,columns=['Locations','E','N'])"
      ],
      "execution_count": 11,
      "outputs": []
    },
    {
      "cell_type": "markdown",
      "metadata": {
        "id": "Oc-npVsiv5pT"
      },
      "source": [
        "5. Extract the last value of the locations in dfa2 - you should not need to google it, but you will see in home exercises more elegant ways to do it\n"
      ]
    },
    {
      "cell_type": "code",
      "metadata": {
        "colab": {
          "base_uri": "https://localhost:8080/"
        },
        "id": "6hmH9hoSv6hi",
        "outputId": "9e440763-d277-45cf-a377-22e58bec898a"
      },
      "source": [
        "dfa2['N'][1:4]"
      ],
      "execution_count": 12,
      "outputs": [
        {
          "output_type": "execute_result",
          "data": {
            "text/plain": [
              "1    55.954150\n",
              "2    57.145480\n",
              "3    57.477772\n",
              "Name: N, dtype: float64"
            ]
          },
          "metadata": {},
          "execution_count": 12
        }
      ]
    },
    {
      "cell_type": "markdown",
      "metadata": {
        "id": "nZ8IRC6UwRRI"
      },
      "source": [
        "6. Extract the last value of the locations in dfa2"
      ]
    },
    {
      "cell_type": "code",
      "metadata": {
        "colab": {
          "base_uri": "https://localhost:8080/"
        },
        "id": "x8aVjrSvwRf_",
        "outputId": "8fc48be6-168e-4642-f040-f92f2b7777ad"
      },
      "source": [
        "dfa2['Locations'][-1:]"
      ],
      "execution_count": 14,
      "outputs": [
        {
          "output_type": "execute_result",
          "data": {
            "text/plain": [
              "3    Inverness\n",
              "Name: Locations, dtype: object"
            ]
          },
          "metadata": {},
          "execution_count": 14
        }
      ]
    },
    {
      "cell_type": "markdown",
      "metadata": {
        "id": "JZc6sD7qwRuG"
      },
      "source": [
        "7. Extract the last 3 values of the Easting in dfa2"
      ]
    },
    {
      "cell_type": "code",
      "metadata": {
        "colab": {
          "base_uri": "https://localhost:8080/"
        },
        "id": "MrvYBOVIwR76",
        "outputId": "3126ecdc-e1e1-4149-8a5e-d8e68614ac00"
      },
      "source": [
        "dfa2['E'][-3:]"
      ],
      "execution_count": 15,
      "outputs": [
        {
          "output_type": "execute_result",
          "data": {
            "text/plain": [
              "1   -3.202770\n",
              "2   -2.102720\n",
              "3   -4.224721\n",
              "Name: E, dtype: float64"
            ]
          },
          "metadata": {},
          "execution_count": 15
        }
      ]
    },
    {
      "cell_type": "markdown",
      "metadata": {
        "id": "SrPOZo9YwSI2"
      },
      "source": [
        "8. Convert cool_data as a numpy array ar"
      ]
    },
    {
      "cell_type": "code",
      "metadata": {
        "id": "xz9GRllpwSSt"
      },
      "source": [
        "cool_data = [['Perth',-3.434661,56.395336], ['Edinburgh', -3.20277, 55.95415], ['Aberdeen', -2.10272, 57.14548],['Inverness',-4.224721,57.477772]]\n",
        "import numpy as np\n",
        "ar = np.array(cool_data)"
      ],
      "execution_count": 16,
      "outputs": []
    },
    {
      "cell_type": "markdown",
      "metadata": {
        "id": "mDhaz-2hwSeG"
      },
      "source": [
        "9. Extract the values of 2nd column from ar"
      ]
    },
    {
      "cell_type": "code",
      "metadata": {
        "id": "eSM3qOUIwSpO"
      },
      "source": [
        "a=ar[:,1]"
      ],
      "execution_count": 17,
      "outputs": []
    },
    {
      "cell_type": "markdown",
      "metadata": {
        "id": "UlYFmAPJxBs-"
      },
      "source": [
        "10. Extract the 2nd to 4th values of the first row from ar"
      ]
    },
    {
      "cell_type": "code",
      "metadata": {
        "id": "DdiObFz9xB3_"
      },
      "source": [
        "b=ar[0,1:4]"
      ],
      "execution_count": 18,
      "outputs": []
    },
    {
      "cell_type": "markdown",
      "metadata": {
        "id": "5dsRCE5KxCAZ"
      },
      "source": [
        "11. Extract the first 3 values of the last two columns from ar"
      ]
    },
    {
      "cell_type": "code",
      "metadata": {
        "id": "soYwrG_BxCII"
      },
      "source": [
        "c=ar[:3,-2:]"
      ],
      "execution_count": 19,
      "outputs": []
    }
  ]
}