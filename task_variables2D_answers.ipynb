{
  "nbformat": 4,
  "nbformat_minor": 0,
  "metadata": {
    "colab": {
      "name": "task_variables2D_answers.ipynb",
      "provenance": [],
      "authorship_tag": "ABX9TyPWetw2voHBXyvCPkj8C9pA",
      "include_colab_link": true
    },
    "kernelspec": {
      "name": "python3",
      "display_name": "Python 3"
    },
    "language_info": {
      "name": "python"
    }
  },
  "cells": [
    {
      "cell_type": "markdown",
      "metadata": {
        "id": "view-in-github",
        "colab_type": "text"
      },
      "source": [
        "<a href=\"https://colab.research.google.com/github/lucilesepa/training_python/blob/main/task_variables2D_answers.ipynb\" target=\"_parent\"><img src=\"https://colab.research.google.com/assets/colab-badge.svg\" alt=\"Open In Colab\"/></a>"
      ]
    },
    {
      "cell_type": "markdown",
      "metadata": {
        "id": "EETDIM7kp2L4"
      },
      "source": [
        "1. copy paste this into colab, as code, and run it:\n",
        "```\n",
        "cool_data = [['Perth',-3.434661,56.395336], ['Edinburgh', -3.20277, 55.95415], ['Aberdeen', -2.10272, 57.14548],['Inverness',-4.224721,57.477772]]\n",
        "```"
      ]
    },
    {
      "cell_type": "code",
      "metadata": {
        "id": "Ph75MGuz-hmn",
        "colab": {
          "base_uri": "https://localhost:8080/"
        },
        "outputId": "0d124d9a-ab14-4a60-b571-1dd9bccd3898"
      },
      "source": [
        "cool_data = [['Perth',-3.434661,56.395336], ['Edinburgh', -3.20277, 55.95415], ['Aberdeen', -2.10272, 57.14548],['Inverness',-4.224721,57.477772]]\n",
        "print(cool_data)"
      ],
      "execution_count": 1,
      "outputs": [
        {
          "output_type": "stream",
          "name": "stdout",
          "text": [
            "[['Perth', -3.434661, 56.395336], ['Edinburgh', -3.20277, 55.95415], ['Aberdeen', -2.10272, 57.14548], ['Inverness', -4.224721, 57.477772]]\n"
          ]
        }
      ]
    },
    {
      "cell_type": "markdown",
      "metadata": {
        "id": "5L7_N512p84i"
      },
      "source": [
        "2. What is the type and length of the variable ```cool_data```?"
      ]
    },
    {
      "cell_type": "code",
      "metadata": {
        "colab": {
          "base_uri": "https://localhost:8080/"
        },
        "id": "CGmzyoGEp72f",
        "outputId": "e758b4f0-efc6-4332-8fb7-122e5a07ce22"
      },
      "source": [
        "print('type(cool_data)=',type(cool_data))\n",
        "print('len(cool_data)=',len(cool_data))"
      ],
      "execution_count": 2,
      "outputs": [
        {
          "output_type": "stream",
          "name": "stdout",
          "text": [
            "type(cool_data)= <class 'list'>\n",
            "len(cool_data)= 4\n"
          ]
        }
      ]
    },
    {
      "cell_type": "markdown",
      "metadata": {
        "id": "UPfCGwrhqA_Y"
      },
      "source": [
        "3. Convert it into a panda dataframe that you will name ```dfa```"
      ]
    },
    {
      "cell_type": "code",
      "metadata": {
        "colab": {
          "base_uri": "https://localhost:8080/"
        },
        "id": "vptIwzVVqDRf",
        "outputId": "0b0613d6-4295-406e-9859-3d77dc09c1f3"
      },
      "source": [
        "import pandas as pd\n",
        "dfa = pd.DataFrame(cool_data)\n",
        "print(dfa)"
      ],
      "execution_count": 3,
      "outputs": [
        {
          "output_type": "stream",
          "name": "stdout",
          "text": [
            "           0         1          2\n",
            "0      Perth -3.434661  56.395336\n",
            "1  Edinburgh -3.202770  55.954150\n",
            "2   Aberdeen -2.102720  57.145480\n",
            "3  Inverness -4.224721  57.477772\n"
          ]
        }
      ]
    },
    {
      "cell_type": "markdown",
      "metadata": {
        "id": "8K7MGmsHqDeq"
      },
      "source": [
        "4. Use the command ```dfa.shape```. What does it do?"
      ]
    },
    {
      "cell_type": "code",
      "metadata": {
        "colab": {
          "base_uri": "https://localhost:8080/"
        },
        "id": "Uvb6ibhOqGL6",
        "outputId": "61d17d26-cae1-4ecc-eb71-450517b76499"
      },
      "source": [
        "print('dfa.shape=',dfa.shape)\n",
        "print('it gives the number of rows (4) and the number of columns (3)')"
      ],
      "execution_count": 4,
      "outputs": [
        {
          "output_type": "stream",
          "name": "stdout",
          "text": [
            "dfa.shape= (4, 3)\n",
            "it gives the number of rows (4) and the number of columns (3)\n"
          ]
        }
      ]
    },
    {
      "cell_type": "markdown",
      "metadata": {
        "id": "nakufuUCqGWA"
      },
      "source": [
        "5. Try to find out how to add column headers. Add the headers E and N (easting and northing) to the 2nd and 3rd columns.\n",
        "\n"
      ]
    },
    {
      "cell_type": "code",
      "metadata": {
        "colab": {
          "base_uri": "https://localhost:8080/"
        },
        "id": "UFutXtawqHb2",
        "outputId": "7c0a3bd8-3d9b-4510-9769-b0635914a00c"
      },
      "source": [
        "dfa2 = pd.DataFrame(cool_data,columns=['','E', 'N'])\n",
        "print(dfa2)"
      ],
      "execution_count": 8,
      "outputs": [
        {
          "output_type": "stream",
          "name": "stdout",
          "text": [
            "                     E          N\n",
            "0      Perth -3.434661  56.395336\n",
            "1  Edinburgh -3.202770  55.954150\n",
            "2   Aberdeen -2.102720  57.145480\n",
            "3  Inverness -4.224721  57.477772\n"
          ]
        }
      ]
    },
    {
      "cell_type": "markdown",
      "metadata": {
        "id": "6CZW0tcPrJuw"
      },
      "source": [
        "6. Repeat 3. and 4., but this time make it a numpy array.\n"
      ]
    },
    {
      "cell_type": "code",
      "metadata": {
        "id": "f2ACgU3Ar724"
      },
      "source": [
        "import numpy as np\n",
        "ar = np.array(cool_data)\n",
        "size_of_ar = ar.shape"
      ],
      "execution_count": 10,
      "outputs": []
    }
  ]
}