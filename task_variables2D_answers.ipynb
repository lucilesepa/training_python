{
  "nbformat": 4,
  "nbformat_minor": 0,
  "metadata": {
    "colab": {
      "name": "task_variables2D_answers.ipynb",
      "provenance": [],
      "authorship_tag": "ABX9TyOg2ojxOpEFsJOzWEinG6OT",
      "include_colab_link": true
    },
    "kernelspec": {
      "name": "python3",
      "display_name": "Python 3"
    },
    "language_info": {
      "name": "python"
    }
  },
  "cells": [
    {
      "cell_type": "markdown",
      "metadata": {
        "id": "view-in-github",
        "colab_type": "text"
      },
      "source": [
        "<a href=\"https://colab.research.google.com/github/lucilesepa/training_python/blob/main/task_variables2D_answers.ipynb\" target=\"_parent\"><img src=\"https://colab.research.google.com/assets/colab-badge.svg\" alt=\"Open In Colab\"/></a>"
      ]
    },
    {
      "cell_type": "code",
      "metadata": {
        "id": "ehJx89lV3nkA",
        "outputId": "41050557-b6b4-493c-f910-1370b63fade7",
        "colab": {
          "base_uri": "https://localhost:8080/"
        }
      },
      "source": [
        "print('_______________________')\n",
        "print('1. copy paste into colab as code, and run it')   \n",
        "cool_data = [['Perth',-3.434661,56.395336], ['Edinburgh', -3.20277, 55.95415], ['Aberdeen', -2.10272, 57.14548],['Inverness',-4.224721,57.477772]]\n",
        "print(cool_data)\n",
        "\n",
        "print('_______________________')\n",
        "print('2. What is the type and length of the variable cool_data?')  \n",
        "print('type(cool_data)=',type(cool_data))\n",
        "print('len(cool_data)=',len(cool_data))\n",
        "\n",
        "print('_______________________')\n",
        "print('3. Convert it into a panda dataframe that you will name dfa')  \n",
        "import pandas as pd\n",
        "dfa = pd.DataFrame(cool_data)\n",
        "print(dfa)\n",
        "\n",
        "print('_______________________')\n",
        "print('4. Use the command dfa.shape. What does it do?') \n",
        "print('dfa.shape=',dfa.shape)\n",
        "print('it gives the number of rows (4) and the number of columns (3)')\n",
        "\n",
        "print('_______________________')\n",
        "print('5. To make it tidy, try to find online how to create column headers in the dataframe. Name them E, N (no header for the first column)') \n",
        "dfa2 = pd.DataFrame(cool_data,columns=['','E','N'])\n",
        "print(dfa2)\n",
        "\n",
        "print('_______________________')\n",
        "print('6. Repeat 3. and 4., but this time make it a numpy array.') \n",
        "import numpy as np\n",
        "ar = np.array(cool_data)\n",
        "print(ar)\n",
        "print('ar.shape=',ar.shape)\n"
      ],
      "execution_count": 7,
      "outputs": [
        {
          "output_type": "stream",
          "name": "stdout",
          "text": [
            "_______________________\n",
            "1. copy paste into colab as code, and run it\n",
            "[['Perth', -3.434661, 56.395336], ['Edinburgh', -3.20277, 55.95415], ['Aberdeen', -2.10272, 57.14548], ['Inverness', -4.224721, 57.477772]]\n",
            "_______________________\n",
            "2. What is the type and length of the variable cool_data?\n",
            "type(cool_data)= <class 'list'>\n",
            "len(cool_data)= 4\n",
            "_______________________\n",
            "3. Convert it into a panda dataframe that you will name dfa\n",
            "           0         1          2\n",
            "0      Perth -3.434661  56.395336\n",
            "1  Edinburgh -3.202770  55.954150\n",
            "2   Aberdeen -2.102720  57.145480\n",
            "3  Inverness -4.224721  57.477772\n",
            "_______________________\n",
            "4. Use the command dfa.shape. What does it do?\n",
            "dfa.shape= (4, 3)\n",
            "it gives the number of rows (4) and the number of columns (3)\n",
            "_______________________\n",
            "5. To make it tidy, try to find online how to create column headers in the dataframe. Name them E, N (no header for the first column)\n",
            "                     E          N\n",
            "0      Perth -3.434661  56.395336\n",
            "1  Edinburgh -3.202770  55.954150\n",
            "2   Aberdeen -2.102720  57.145480\n",
            "3  Inverness -4.224721  57.477772\n",
            "_______________________\n",
            "6. Repeat 3. and 4., but this time make it a numpy array.\n",
            "[['Perth' '-3.434661' '56.395336']\n",
            " ['Edinburgh' '-3.20277' '55.95415']\n",
            " ['Aberdeen' '-2.10272' '57.14548']\n",
            " ['Inverness' '-4.224721' '57.477772']]\n",
            "ar.shape= (4, 3)\n"
          ]
        }
      ]
    }
  ]
}