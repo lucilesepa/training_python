{
  "nbformat": 4,
  "nbformat_minor": 0,
  "metadata": {
    "colab": {
      "name": "task_variables2D_answers.ipynb",
      "provenance": [],
      "authorship_tag": "ABX9TyP9xm6OgquFL07brx9Qq39r",
      "include_colab_link": true
    },
    "kernelspec": {
      "name": "python3",
      "display_name": "Python 3"
    },
    "language_info": {
      "name": "python"
    }
  },
  "cells": [
    {
      "cell_type": "markdown",
      "metadata": {
        "id": "view-in-github",
        "colab_type": "text"
      },
      "source": [
        "<a href=\"https://colab.research.google.com/github/lucilesepa/training_python/blob/main/task_variables2D_answers.ipynb\" target=\"_parent\"><img src=\"https://colab.research.google.com/assets/colab-badge.svg\" alt=\"Open In Colab\"/></a>"
      ]
    },
    {
      "cell_type": "code",
      "metadata": {
        "id": "Ph75MGuz-hmn"
      },
      "source": [
        "print('_______________________')\n",
        "print('1. copy paste into colab as code, and run it')   \n",
        "cool_data = [['Perth',-3.434661,56.395336], ['Edinburgh', -3.20277, 55.95415], ['Aberdeen', -2.10272, 57.14548],['Inverness',-4.224721,57.477772]]\n",
        "print(cool_data)\n",
        "\n",
        "print('_______________________')\n",
        "print('2. What is the type and length of the variable cool_data?')  \n",
        "print('type(cool_data)=',type(cool_data))\n",
        "print('len(cool_data)=',len(cool_data))\n",
        "\n",
        "print('_______________________')\n",
        "print('3. Convert it into a panda dataframe that you will name dfa')  \n",
        "import pandas as pd\n",
        "dfa = pd.DataFrame(cool_data)\n",
        "print(dfa)\n",
        "\n",
        "print('_______________________')\n",
        "print('4. Use the command dfa.shape. What does it do?') \n",
        "print('dfa.shape=',dfa.shape)\n",
        "print('it gives the number of rows (4) and the number of columns (3)')\n",
        "\n",
        "print('_______________________')\n",
        "print('5. To make it tidy, try to find online how to create column headers in the dataframe. Name them E, N (no header for the first column)') \n",
        "dfa2 = pd.DataFrame(cool_data,columns,['','E'])\n",
        "print('_______________________')\n",
        "print('6. Repeat 3. and 4., but this time make it a numpy array.') \n"
      ],
      "execution_count": null,
      "outputs": []
    }
  ]
}